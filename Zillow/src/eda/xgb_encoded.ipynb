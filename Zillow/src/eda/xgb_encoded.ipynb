{
 "cells": [
  {
   "cell_type": "code",
   "execution_count": 34,
   "metadata": {
    "collapsed": false
   },
   "outputs": [],
   "source": [
    "import pandas as pd\n",
    "import numpy as np\n",
    "import xgboost\n",
    "import gc\n",
    "\n",
    "file_path = '/Users/yuanpingzhou/project/workspace/python/kaggle/Zillow/data/p1/train.hdf'\n",
    "df_train = pd.read_hdf(path_or_buf= file_path,key = 'test')"
   ]
  },
  {
   "cell_type": "code",
   "execution_count": 35,
   "metadata": {
    "collapsed": false
   },
   "outputs": [
    {
     "name": "stdout",
     "output_type": "stream",
     "text": [
      "90275\n",
      "88431\n"
     ]
    }
   ],
   "source": [
    "print(len(df_train))\n",
    "df_train = df_train[(df_train['logerror'] > -0.4) & (df_train['logerror'] < 0.4)]\n",
    "print(len(df_train))\n",
    "\n",
    "X = df_train.drop(['logerror','parcelid'],axis= 1)\n",
    "Y = df_train['logerror']\n",
    "l_train_columns = X.columns\n",
    "\n",
    "msk = np.random.rand(len(X)) < 0.8\n",
    "\n",
    "x_train, y_train, x_valid, y_valid = X[msk], Y[msk], X[~msk], Y[~msk]\n",
    "x_train = x_train.values.astype(np.float32, copy=False)\n",
    "x_valid = x_valid.values.astype(np.float32, copy=False)"
   ]
  },
  {
   "cell_type": "code",
   "execution_count": 38,
   "metadata": {
    "collapsed": false
   },
   "outputs": [
    {
     "name": "stdout",
     "output_type": "stream",
     "text": [
      "\n",
      "Training XGBoost ...\n",
      "[0]\tvalid-mae:0.051952\n",
      "Will train until valid-mae hasn't improved in 80 rounds.\n",
      "[1]\tvalid-mae:0.051885\n",
      "[2]\tvalid-mae:0.05183\n",
      "[3]\tvalid-mae:0.051794\n",
      "[4]\tvalid-mae:0.051746\n",
      "[5]\tvalid-mae:0.051709\n",
      "[6]\tvalid-mae:0.051671\n",
      "[7]\tvalid-mae:0.051638\n",
      "[8]\tvalid-mae:0.051616\n",
      "[9]\tvalid-mae:0.051589\n",
      "[10]\tvalid-mae:0.051566\n",
      "[11]\tvalid-mae:0.051543\n",
      "[12]\tvalid-mae:0.051515\n",
      "[13]\tvalid-mae:0.051499\n",
      "[14]\tvalid-mae:0.051483\n",
      "[15]\tvalid-mae:0.051471\n",
      "[16]\tvalid-mae:0.051457\n",
      "[17]\tvalid-mae:0.051448\n",
      "[18]\tvalid-mae:0.051436\n",
      "[19]\tvalid-mae:0.051427\n",
      "[20]\tvalid-mae:0.05142\n",
      "[21]\tvalid-mae:0.05141\n",
      "[22]\tvalid-mae:0.051394\n",
      "[23]\tvalid-mae:0.051383\n",
      "[24]\tvalid-mae:0.051373\n",
      "[25]\tvalid-mae:0.051364\n",
      "[26]\tvalid-mae:0.051351\n",
      "[27]\tvalid-mae:0.05134\n",
      "[28]\tvalid-mae:0.05134\n",
      "[29]\tvalid-mae:0.051336\n",
      "[30]\tvalid-mae:0.051329\n",
      "[31]\tvalid-mae:0.051313\n",
      "[32]\tvalid-mae:0.051305\n",
      "[33]\tvalid-mae:0.051298\n",
      "[34]\tvalid-mae:0.051298\n",
      "[35]\tvalid-mae:0.051292\n",
      "[36]\tvalid-mae:0.051288\n",
      "[37]\tvalid-mae:0.051282\n",
      "[38]\tvalid-mae:0.051273\n",
      "[39]\tvalid-mae:0.051266\n",
      "[40]\tvalid-mae:0.051259\n",
      "[41]\tvalid-mae:0.051257\n",
      "[42]\tvalid-mae:0.051252\n",
      "[43]\tvalid-mae:0.051245\n",
      "[44]\tvalid-mae:0.051238\n",
      "[45]\tvalid-mae:0.051233\n",
      "[46]\tvalid-mae:0.05123\n",
      "[47]\tvalid-mae:0.051228\n",
      "[48]\tvalid-mae:0.051224\n",
      "[49]\tvalid-mae:0.05122\n",
      "[50]\tvalid-mae:0.051214\n",
      "[51]\tvalid-mae:0.051211\n",
      "[52]\tvalid-mae:0.051209\n",
      "[53]\tvalid-mae:0.05121\n",
      "[54]\tvalid-mae:0.051211\n",
      "[55]\tvalid-mae:0.051206\n",
      "[56]\tvalid-mae:0.051209\n",
      "[57]\tvalid-mae:0.051213\n",
      "[58]\tvalid-mae:0.05121\n",
      "[59]\tvalid-mae:0.051205\n",
      "[60]\tvalid-mae:0.051199\n",
      "[61]\tvalid-mae:0.051196\n",
      "[62]\tvalid-mae:0.051194\n",
      "[63]\tvalid-mae:0.051193\n",
      "[64]\tvalid-mae:0.051192\n",
      "[65]\tvalid-mae:0.051187\n",
      "[66]\tvalid-mae:0.051189\n",
      "[67]\tvalid-mae:0.051187\n",
      "[68]\tvalid-mae:0.051188\n",
      "[69]\tvalid-mae:0.05119\n",
      "[70]\tvalid-mae:0.051192\n",
      "[71]\tvalid-mae:0.051187\n",
      "[72]\tvalid-mae:0.051189\n",
      "[73]\tvalid-mae:0.051189\n",
      "[74]\tvalid-mae:0.051186\n",
      "[75]\tvalid-mae:0.051187\n",
      "[76]\tvalid-mae:0.051184\n",
      "[77]\tvalid-mae:0.051184\n",
      "[78]\tvalid-mae:0.051184\n",
      "[79]\tvalid-mae:0.051181\n",
      "[80]\tvalid-mae:0.051185\n",
      "[81]\tvalid-mae:0.051185\n",
      "[82]\tvalid-mae:0.051186\n",
      "[83]\tvalid-mae:0.051183\n",
      "[84]\tvalid-mae:0.051192\n",
      "[85]\tvalid-mae:0.05119\n",
      "[86]\tvalid-mae:0.051192\n",
      "[87]\tvalid-mae:0.051186\n",
      "[88]\tvalid-mae:0.051188\n",
      "[89]\tvalid-mae:0.051187\n",
      "[90]\tvalid-mae:0.051188\n",
      "[91]\tvalid-mae:0.051191\n",
      "[92]\tvalid-mae:0.051189\n",
      "[93]\tvalid-mae:0.051188\n",
      "[94]\tvalid-mae:0.051187\n",
      "[95]\tvalid-mae:0.051183\n",
      "[96]\tvalid-mae:0.051182\n",
      "[97]\tvalid-mae:0.051182\n",
      "[98]\tvalid-mae:0.051181\n",
      "[99]\tvalid-mae:0.051178\n"
     ]
    }
   ],
   "source": [
    "params = {\n",
    "    'subsample': 0.80,\n",
    "    'objective': 'reg:linear',\n",
    "    'eval_metric': 'mae',\n",
    "    'base_score': np.mean(y_train),\n",
    "    'silent': 1,\n",
    "    'npthread': 4\n",
    "    }\n",
    "dtrain = xgboost.DMatrix(x_train, y_train)\n",
    "dvalid = xgboost.DMatrix(x_valid, y_valid)\n",
    "params['eta'] = 0.04\n",
    "params['max_depth'] = 10\n",
    "print(\"\\nTraining XGBoost ...\")\n",
    "model = xgboost.train(params,\n",
    "                            dtrain,\n",
    "                            num_boost_round= 100,\n",
    "                            evals=[(dvalid,'valid')],\n",
    "                            verbose_eval=True,\n",
    "                            early_stopping_rounds= 80)\n",
    "\n",
    "#del dtrain,dvalid,x_train,x_valid,y_train,y_valid\n",
    "#gc.collect()"
   ]
  },
  {
   "cell_type": "code",
   "execution_count": 39,
   "metadata": {
    "collapsed": false
   },
   "outputs": [
    {
     "data": {
      "text/plain": [
       "482"
      ]
     },
     "execution_count": 39,
     "metadata": {},
     "output_type": "execute_result"
    }
   ],
   "source": [
    "del dtrain,dvalid,x_train,x_valid,y_train,y_valid,X,Y\n",
    "gc.collect()"
   ]
  },
  {
   "cell_type": "code",
   "execution_count": 45,
   "metadata": {
    "collapsed": false
   },
   "outputs": [
    {
     "ename": "NameError",
     "evalue": "name 'df_train' is not defined",
     "output_type": "error",
     "traceback": [
      "\u001b[0;31m---------------------------------------------------------------------------\u001b[0m",
      "\u001b[0;31mNameError\u001b[0m                                 Traceback (most recent call last)",
      "\u001b[0;32m<ipython-input-45-5ecb9f4d7fba>\u001b[0m in \u001b[0;36m<module>\u001b[0;34m()\u001b[0m\n\u001b[0;32m----> 1\u001b[0;31m \u001b[0;32mdel\u001b[0m \u001b[0mdf_train\u001b[0m\u001b[0;34m\u001b[0m\u001b[0m\n\u001b[0m\u001b[1;32m      2\u001b[0m \u001b[0mgc\u001b[0m\u001b[0;34m.\u001b[0m\u001b[0mcollect\u001b[0m\u001b[0;34m(\u001b[0m\u001b[0;34m)\u001b[0m\u001b[0;34m\u001b[0m\u001b[0m\n",
      "\u001b[0;31mNameError\u001b[0m: name 'df_train' is not defined"
     ]
    }
   ],
   "source": [
    "del df_train\n",
    "gc.collect()"
   ]
  },
  {
   "cell_type": "code",
   "execution_count": 46,
   "metadata": {
    "collapsed": true
   },
   "outputs": [],
   "source": [
    "file_path = '/Users/yuanpingzhou/project/workspace/python/kaggle/Zillow/data/p1/test.hdf'\n",
    "df_test = pd.read_hdf(path_or_buf= file_path,key = 'test')\n",
    "sub = pd.DataFrame(index = df_test.index)\n",
    "sub['ParcelId'] = df_test['parcelid']"
   ]
  },
  {
   "cell_type": "code",
   "execution_count": 47,
   "metadata": {
    "collapsed": false
   },
   "outputs": [
    {
     "name": "stdout",
     "output_type": "stream",
     "text": [
      "Start prediction ...\n",
      "0.0147344\n",
      "0.0147329\n",
      "0.0147236\n",
      "0.0147234\n",
      "0.0147664\n",
      "0.0147635\n",
      "0.0147239\n",
      "0.0147561\n",
      "0.0147088\n",
      "0.0147593\n",
      "0.0147434\n",
      "0.0147094\n",
      "0.0147495\n",
      "0.0147209\n",
      "0.0147818\n",
      "201610 done. time elapsed 297s\n",
      "Start prediction ...\n",
      "0.0147592\n",
      "0.0147604\n",
      "0.0147531\n",
      "0.0147495\n",
      "0.0147952\n",
      "0.0147896\n",
      "0.0147517\n",
      "0.0147852\n",
      "0.0147359\n",
      "0.0147852\n",
      "0.0147678\n",
      "0.0147333\n",
      "0.0147741\n",
      "0.0147476\n",
      "0.0148085\n",
      "201611 done. time elapsed 301s\n",
      "Start prediction ...\n",
      "0.0147833\n",
      "0.0147853\n",
      "0.014779\n",
      "0.0147745\n",
      "0.0148193\n",
      "0.0148146\n",
      "0.0147768\n",
      "0.0148143\n",
      "0.0147613\n",
      "0.0148055\n",
      "0.0147934\n",
      "0.0147571\n",
      "0.0148004\n",
      "0.014772\n",
      "0.0148351\n",
      "201612 done. time elapsed 305s\n",
      "Start prediction ...\n",
      "0.0147411\n",
      "0.0147391\n",
      "0.0147329\n",
      "0.0147307\n",
      "0.0147718\n",
      "0.0147695\n",
      "0.0147291\n",
      "0.0147639\n",
      "0.0147162\n",
      "0.0147667\n",
      "0.0147498\n",
      "0.0147157\n",
      "0.0147571\n",
      "0.0147268\n",
      "0.014789\n",
      "201710 done. time elapsed 302s\n",
      "Start prediction ...\n",
      "0.0147648\n",
      "0.0147642\n",
      "0.0147608\n",
      "0.0147544\n",
      "0.0147989\n",
      "0.0147946\n",
      "0.0147561\n",
      "0.0147906\n",
      "0.0147417\n",
      "0.0147906\n",
      "0.0147732\n",
      "0.0147377\n",
      "0.0147801\n",
      "0.0147522\n",
      "0.0148137\n",
      "201711 done. time elapsed 301s\n",
      "Start prediction ...\n",
      "0.0147863\n",
      "0.0147871\n",
      "0.0147847\n",
      "0.0147779\n",
      "0.0148216\n",
      "0.0148177\n",
      "0.0147796\n",
      "0.0148177\n",
      "0.0147657\n",
      "0.0148094\n",
      "0.0147976\n",
      "0.014759\n",
      "0.0148045\n",
      "0.0147741\n",
      "0.014838\n",
      "201712 done. time elapsed 306s\n",
      "time elapsed 1815s\n"
     ]
    }
   ],
   "source": [
    "import time\n",
    "\n",
    "N = 200000\n",
    "l_test_transdate = ['201610', '201611', '201612', '201710', '201711', '201712']\n",
    "start = time.time()\n",
    "for d in l_test_transdate:\n",
    "    s0 = time.time()\n",
    "    print(\"Start prediction ...\")\n",
    "    \n",
    "    l_test_columns = ['%s%s' % (c,d) if (c in ['lastgap','monthyear','buildingage']) else c for c in l_train_columns]\n",
    "    x_test = df_test[l_test_columns]\n",
    "    for idx in range(0,len(x_test),N):\n",
    "        x_test_block = x_test[idx:idx + N].values.astype(np.float32, copy=False)\n",
    "        dtest = xgboost.DMatrix(x_test_block)\n",
    "        #model.reset_parameter({\"num_threads\":4})\n",
    "        ret = model.predict(dtest)\n",
    "        sub.loc[x_test[idx:idx + N].index,d] = ret\n",
    "        print(np.mean(np.abs(ret)))\n",
    "\n",
    "    e0 = time.time()\n",
    "    print('%s done. time elapsed %ds' % (d,(e0 - s0)))\n",
    "end = time.time()\n",
    "sub.to_csv('lgb_starter.csv', index=False, float_format='%.4f')\n",
    "print('time elapsed %ds' % (end - start))"
   ]
  },
  {
   "cell_type": "code",
   "execution_count": null,
   "metadata": {
    "collapsed": true
   },
   "outputs": [],
   "source": []
  }
 ],
 "metadata": {
  "anaconda-cloud": {},
  "kernelspec": {
   "display_name": "Python [Root]",
   "language": "python",
   "name": "Python [Root]"
  },
  "language_info": {
   "codemirror_mode": {
    "name": "ipython",
    "version": 3
   },
   "file_extension": ".py",
   "mimetype": "text/x-python",
   "name": "python",
   "nbconvert_exporter": "python",
   "pygments_lexer": "ipython3",
   "version": "3.5.1"
  }
 },
 "nbformat": 4,
 "nbformat_minor": 0
}
