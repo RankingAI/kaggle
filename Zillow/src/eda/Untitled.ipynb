{
 "cells": [
  {
   "cell_type": "code",
   "execution_count": 8,
   "metadata": {
    "collapsed": false
   },
   "outputs": [
    {
     "name": "stdout",
     "output_type": "stream",
     "text": [
      "predict for current model ...\n",
      "201610 0.01345471886965867\n",
      "201611 0.013570272311836697\n",
      "201612 0.013570272311836697\n",
      "201710 0.01346955983431893\n",
      "201711 0.013584211030529654\n",
      "201712 0.013584211030529654\n",
      "predict for recent1 model ...\n",
      "201610 0.014541869284509663\n",
      "201611 0.014729060265934214\n",
      "201612 0.014729060265934214\n",
      "201710 0.014541869284509663\n",
      "201711 0.014729060265934214\n",
      "201712 0.014729060265934214\n",
      "predict for recent2 model ...\n",
      "201610 0.02265993145553785\n",
      "201611 0.022741243132378002\n",
      "201612 0.023686160671041432\n",
      "201710 0.02265993145553785\n",
      "201711 0.022741243132378002\n",
      "201712 0.023686160671041432\n",
      "predict for recent3 model ...\n",
      "201610 0.01344198562448477\n",
      "201611 0.01344198562448477\n",
      "201612 0.01344198562448477\n",
      "201710 0.01344198562448477\n",
      "201711 0.01344198562448477\n",
      "201712 0.01344198562448477\n"
     ]
    }
   ],
   "source": [
    "import pandas as pd\n",
    "import numpy as np\n",
    "\n",
    "predict_cols = ['201610','201611','201612','201710','201711','201712']\n",
    "\n",
    "current_file = '/Users/yuanpingzhou/project/workspace/python/kaggle/Zillow/src/eda/lgb_starter.csv'\n",
    "df_current = pd.read_csv(current_file)\n",
    "print('predict for current model ...')\n",
    "for col in predict_cols:\n",
    "    m = np.mean(np.abs(df_current[col]))\n",
    "    print(col,m)\n",
    "\n",
    "print('predict for recent1 model ...')\n",
    "recent1_file = '/Users/yuanpingzhou/project/workspace/python/kaggle/Zillow/data/SingleModel/lgb_646385.csv'\n",
    "df_recent1 = pd.read_csv(recent1_file)\n",
    "for col in predict_cols:\n",
    "    m = np.mean(np.abs(df_recent1[col]))\n",
    "    print(col,m)\n",
    "\n",
    "print('predict for recent2 model ...')\n",
    "recent2_file = '/Users/yuanpingzhou/project/workspace/python/kaggle/Zillow/data/SingleModel/lgb_659173.csv'\n",
    "df_recent2 = pd.read_csv(recent2_file)\n",
    "for col in predict_cols:\n",
    "    m = np.mean(np.abs(df_recent2[col]))\n",
    "    print(col,m)\n",
    "\n",
    "print('predict for recent3 model ...')\n",
    "recent3_file = '/Users/yuanpingzhou/project/workspace/python/kaggle/Zillow/data/SingleModel/lgb_646730.csv'\n",
    "df_recent3 = pd.read_csv(recent3_file)\n",
    "for col in predict_cols:\n",
    "    m = np.mean(np.abs(df_recent3[col]))\n",
    "    print(col,m)"
   ]
  },
  {
   "cell_type": "code",
   "execution_count": null,
   "metadata": {
    "collapsed": true
   },
   "outputs": [],
   "source": []
  }
 ],
 "metadata": {
  "kernelspec": {
   "display_name": "Python [Root]",
   "language": "python",
   "name": "Python [Root]"
  },
  "language_info": {
   "codemirror_mode": {
    "name": "ipython",
    "version": 3
   },
   "file_extension": ".py",
   "mimetype": "text/x-python",
   "name": "python",
   "nbconvert_exporter": "python",
   "pygments_lexer": "ipython3",
   "version": "3.5.1"
  }
 },
 "nbformat": 4,
 "nbformat_minor": 0
}
