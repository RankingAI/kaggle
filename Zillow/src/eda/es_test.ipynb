{
 "cells": [
  {
   "cell_type": "code",
   "execution_count": 3,
   "metadata": {
    "collapsed": false
   },
   "outputs": [],
   "source": [
    "from elasticsearch import Elasticsearch"
   ]
  },
  {
   "cell_type": "code",
   "execution_count": 5,
   "metadata": {
    "collapsed": false
   },
   "outputs": [
    {
     "name": "stdout",
     "output_type": "stream",
     "text": [
      "b'{\\n  \"name\" : \"node-1\",\\n  \"cluster_name\" : \"ad-dev\",\\n  \"cluster_uuid\" : \"W74SB40cRkWZS7z-F4nDng\",\\n  \"version\" : {\\n    \"number\" : \"2.4.4\",\\n    \"build_hash\" : \"fcbb46dfd45562a9cf00c604b30849a6dec6b017\",\\n    \"build_timestamp\" : \"2017-01-03T11:33:16Z\",\\n    \"build_snapshot\" : false,\\n    \"lucene_version\" : \"5.5.2\"\\n  },\\n  \"tagline\" : \"You Know, for Search\"\\n}\\n'\n"
     ]
    }
   ],
   "source": [
    "import requests\n",
    "res = requests.get('http://10.0.9.124:9200')\n",
    "print(res.content)"
   ]
  },
  {
   "cell_type": "code",
   "execution_count": 9,
   "metadata": {
    "collapsed": false
   },
   "outputs": [
    {
     "data": {
      "text/plain": [
       "{'acknowledged': True}"
      ]
     },
     "execution_count": 9,
     "metadata": {},
     "output_type": "execute_result"
    }
   ],
   "source": [
    "es = Elasticsearch([{'host': '10.0.9.124', 'port': 9200}])\n",
    "es.indices.delete(index='test-index', ignore=[400, 404])"
   ]
  },
  {
   "cell_type": "code",
   "execution_count": 26,
   "metadata": {
    "collapsed": false
   },
   "outputs": [
    {
     "name": "stdout",
     "output_type": "stream",
     "text": [
      "b'{\"name\":\"Luke Skywalker\",\"height\":\"172\",\"mass\":\"77\",\"hair_color\":\"blond\",\"skin_color\":\"fair\",\"eye_color\":\"blue\",\"birth_year\":\"19BBY\",\"gender\":\"male\",\"homeworld\":\"http://swapi.co/api/planets/1/\",\"films\":[\"http://swapi.co/api/films/2/\",\"http://swapi.co/api/films/6/\",\"http://swapi.co/api/films/3/\",\"http://swapi.co/api/films/1/\",\"http://swapi.co/api/films/7/\"],\"species\":[\"http://swapi.co/api/species/1/\"],\"vehicles\":[\"http://swapi.co/api/vehicles/14/\",\"http://swapi.co/api/vehicles/30/\"],\"starships\":[\"http://swapi.co/api/starships/12/\",\"http://swapi.co/api/starships/22/\"],\"created\":\"2014-12-09T13:50:51.644000Z\",\"edited\":\"2014-12-20T21:17:56.891000Z\",\"url\":\"http://swapi.co/api/people/1/\"}'\n",
      "b'{\"name\":\"C-3PO\",\"height\":\"167\",\"mass\":\"75\",\"hair_color\":\"n/a\",\"skin_color\":\"gold\",\"eye_color\":\"yellow\",\"birth_year\":\"112BBY\",\"gender\":\"n/a\",\"homeworld\":\"http://swapi.co/api/planets/1/\",\"films\":[\"http://swapi.co/api/films/2/\",\"http://swapi.co/api/films/5/\",\"http://swapi.co/api/films/4/\",\"http://swapi.co/api/films/6/\",\"http://swapi.co/api/films/3/\",\"http://swapi.co/api/films/1/\"],\"species\":[\"http://swapi.co/api/species/2/\"],\"vehicles\":[],\"starships\":[],\"created\":\"2014-12-10T15:10:51.357000Z\",\"edited\":\"2014-12-20T21:17:50.309000Z\",\"url\":\"http://swapi.co/api/people/2/\"}'\n",
      "b'{\"name\":\"R2-D2\",\"height\":\"96\",\"mass\":\"32\",\"hair_color\":\"n/a\",\"skin_color\":\"white, blue\",\"eye_color\":\"red\",\"birth_year\":\"33BBY\",\"gender\":\"n/a\",\"homeworld\":\"http://swapi.co/api/planets/8/\",\"films\":[\"http://swapi.co/api/films/2/\",\"http://swapi.co/api/films/5/\",\"http://swapi.co/api/films/4/\",\"http://swapi.co/api/films/6/\",\"http://swapi.co/api/films/3/\",\"http://swapi.co/api/films/1/\",\"http://swapi.co/api/films/7/\"],\"species\":[\"http://swapi.co/api/species/2/\"],\"vehicles\":[],\"starships\":[],\"created\":\"2014-12-10T15:11:50.376000Z\",\"edited\":\"2014-12-20T21:17:50.311000Z\",\"url\":\"http://swapi.co/api/people/3/\"}'\n",
      "b'{\"name\":\"Darth Vader\",\"height\":\"202\",\"mass\":\"136\",\"hair_color\":\"none\",\"skin_color\":\"white\",\"eye_color\":\"yellow\",\"birth_year\":\"41.9BBY\",\"gender\":\"male\",\"homeworld\":\"http://swapi.co/api/planets/1/\",\"films\":[\"http://swapi.co/api/films/2/\",\"http://swapi.co/api/films/6/\",\"http://swapi.co/api/films/3/\",\"http://swapi.co/api/films/1/\"],\"species\":[\"http://swapi.co/api/species/1/\"],\"vehicles\":[],\"starships\":[\"http://swapi.co/api/starships/13/\"],\"created\":\"2014-12-10T15:18:20.704000Z\",\"edited\":\"2014-12-20T21:17:50.313000Z\",\"url\":\"http://swapi.co/api/people/4/\"}'\n",
      "b'{\"name\":\"Leia Organa\",\"height\":\"150\",\"mass\":\"49\",\"hair_color\":\"brown\",\"skin_color\":\"light\",\"eye_color\":\"brown\",\"birth_year\":\"19BBY\",\"gender\":\"female\",\"homeworld\":\"http://swapi.co/api/planets/2/\",\"films\":[\"http://swapi.co/api/films/2/\",\"http://swapi.co/api/films/6/\",\"http://swapi.co/api/films/3/\",\"http://swapi.co/api/films/1/\",\"http://swapi.co/api/films/7/\"],\"species\":[\"http://swapi.co/api/species/1/\"],\"vehicles\":[\"http://swapi.co/api/vehicles/30/\"],\"starships\":[],\"created\":\"2014-12-10T15:20:09.791000Z\",\"edited\":\"2014-12-20T21:17:50.315000Z\",\"url\":\"http://swapi.co/api/people/5/\"}'\n",
      "b'{\"name\":\"Owen Lars\",\"height\":\"178\",\"mass\":\"120\",\"hair_color\":\"brown, grey\",\"skin_color\":\"light\",\"eye_color\":\"blue\",\"birth_year\":\"52BBY\",\"gender\":\"male\",\"homeworld\":\"http://swapi.co/api/planets/1/\",\"films\":[\"http://swapi.co/api/films/5/\",\"http://swapi.co/api/films/6/\",\"http://swapi.co/api/films/1/\"],\"species\":[\"http://swapi.co/api/species/1/\"],\"vehicles\":[],\"starships\":[],\"created\":\"2014-12-10T15:52:14.024000Z\",\"edited\":\"2014-12-20T21:17:50.317000Z\",\"url\":\"http://swapi.co/api/people/6/\"}'\n",
      "b'{\"name\":\"Beru Whitesun lars\",\"height\":\"165\",\"mass\":\"75\",\"hair_color\":\"brown\",\"skin_color\":\"light\",\"eye_color\":\"blue\",\"birth_year\":\"47BBY\",\"gender\":\"female\",\"homeworld\":\"http://swapi.co/api/planets/1/\",\"films\":[\"http://swapi.co/api/films/5/\",\"http://swapi.co/api/films/6/\",\"http://swapi.co/api/films/1/\"],\"species\":[\"http://swapi.co/api/species/1/\"],\"vehicles\":[],\"starships\":[],\"created\":\"2014-12-10T15:53:41.121000Z\",\"edited\":\"2014-12-20T21:17:50.319000Z\",\"url\":\"http://swapi.co/api/people/7/\"}'\n",
      "b'{\"name\":\"R5-D4\",\"height\":\"97\",\"mass\":\"32\",\"hair_color\":\"n/a\",\"skin_color\":\"white, red\",\"eye_color\":\"red\",\"birth_year\":\"unknown\",\"gender\":\"n/a\",\"homeworld\":\"http://swapi.co/api/planets/1/\",\"films\":[\"http://swapi.co/api/films/1/\"],\"species\":[\"http://swapi.co/api/species/2/\"],\"vehicles\":[],\"starships\":[],\"created\":\"2014-12-10T15:57:50.959000Z\",\"edited\":\"2014-12-20T21:17:50.321000Z\",\"url\":\"http://swapi.co/api/people/8/\"}'\n",
      "b'{\"name\":\"Biggs Darklighter\",\"height\":\"183\",\"mass\":\"84\",\"hair_color\":\"black\",\"skin_color\":\"light\",\"eye_color\":\"brown\",\"birth_year\":\"24BBY\",\"gender\":\"male\",\"homeworld\":\"http://swapi.co/api/planets/1/\",\"films\":[\"http://swapi.co/api/films/1/\"],\"species\":[\"http://swapi.co/api/species/1/\"],\"vehicles\":[],\"starships\":[\"http://swapi.co/api/starships/12/\"],\"created\":\"2014-12-10T15:59:50.509000Z\",\"edited\":\"2014-12-20T21:17:50.323000Z\",\"url\":\"http://swapi.co/api/people/9/\"}'\n",
      "b'{\"name\":\"Obi-Wan Kenobi\",\"height\":\"182\",\"mass\":\"77\",\"hair_color\":\"auburn, white\",\"skin_color\":\"fair\",\"eye_color\":\"blue-gray\",\"birth_year\":\"57BBY\",\"gender\":\"male\",\"homeworld\":\"http://swapi.co/api/planets/20/\",\"films\":[\"http://swapi.co/api/films/2/\",\"http://swapi.co/api/films/5/\",\"http://swapi.co/api/films/4/\",\"http://swapi.co/api/films/6/\",\"http://swapi.co/api/films/3/\",\"http://swapi.co/api/films/1/\"],\"species\":[\"http://swapi.co/api/species/1/\"],\"vehicles\":[\"http://swapi.co/api/vehicles/38/\"],\"starships\":[\"http://swapi.co/api/starships/48/\",\"http://swapi.co/api/starships/59/\",\"http://swapi.co/api/starships/64/\",\"http://swapi.co/api/starships/65/\",\"http://swapi.co/api/starships/74/\"],\"created\":\"2014-12-10T16:16:29.192000Z\",\"edited\":\"2014-12-20T21:17:50.325000Z\",\"url\":\"http://swapi.co/api/people/10/\"}'\n",
      "b'{\"name\":\"Anakin Skywalker\",\"height\":\"188\",\"mass\":\"84\",\"hair_color\":\"blond\",\"skin_color\":\"fair\",\"eye_color\":\"blue\",\"birth_year\":\"41.9BBY\",\"gender\":\"male\",\"homeworld\":\"http://swapi.co/api/planets/1/\",\"films\":[\"http://swapi.co/api/films/5/\",\"http://swapi.co/api/films/4/\",\"http://swapi.co/api/films/6/\"],\"species\":[\"http://swapi.co/api/species/1/\"],\"vehicles\":[\"http://swapi.co/api/vehicles/44/\",\"http://swapi.co/api/vehicles/46/\"],\"starships\":[\"http://swapi.co/api/starships/59/\",\"http://swapi.co/api/starships/65/\",\"http://swapi.co/api/starships/39/\"],\"created\":\"2014-12-10T16:20:44.310000Z\",\"edited\":\"2014-12-20T21:17:50.327000Z\",\"url\":\"http://swapi.co/api/people/11/\"}'\n",
      "b'{\"name\":\"Wilhuff Tarkin\",\"height\":\"180\",\"mass\":\"unknown\",\"hair_color\":\"auburn, grey\",\"skin_color\":\"fair\",\"eye_color\":\"blue\",\"birth_year\":\"64BBY\",\"gender\":\"male\",\"homeworld\":\"http://swapi.co/api/planets/21/\",\"films\":[\"http://swapi.co/api/films/6/\",\"http://swapi.co/api/films/1/\"],\"species\":[\"http://swapi.co/api/species/1/\"],\"vehicles\":[],\"starships\":[],\"created\":\"2014-12-10T16:26:56.138000Z\",\"edited\":\"2014-12-20T21:17:50.330000Z\",\"url\":\"http://swapi.co/api/people/12/\"}'\n",
      "b'{\"name\":\"Chewbacca\",\"height\":\"228\",\"mass\":\"112\",\"hair_color\":\"brown\",\"skin_color\":\"unknown\",\"eye_color\":\"blue\",\"birth_year\":\"200BBY\",\"gender\":\"male\",\"homeworld\":\"http://swapi.co/api/planets/14/\",\"films\":[\"http://swapi.co/api/films/2/\",\"http://swapi.co/api/films/6/\",\"http://swapi.co/api/films/3/\",\"http://swapi.co/api/films/1/\",\"http://swapi.co/api/films/7/\"],\"species\":[\"http://swapi.co/api/species/3/\"],\"vehicles\":[\"http://swapi.co/api/vehicles/19/\"],\"starships\":[\"http://swapi.co/api/starships/10/\",\"http://swapi.co/api/starships/22/\"],\"created\":\"2014-12-10T16:42:45.066000Z\",\"edited\":\"2014-12-20T21:17:50.332000Z\",\"url\":\"http://swapi.co/api/people/13/\"}'\n",
      "b'{\"name\":\"Han Solo\",\"height\":\"180\",\"mass\":\"80\",\"hair_color\":\"brown\",\"skin_color\":\"fair\",\"eye_color\":\"brown\",\"birth_year\":\"29BBY\",\"gender\":\"male\",\"homeworld\":\"http://swapi.co/api/planets/22/\",\"films\":[\"http://swapi.co/api/films/2/\",\"http://swapi.co/api/films/3/\",\"http://swapi.co/api/films/1/\",\"http://swapi.co/api/films/7/\"],\"species\":[\"http://swapi.co/api/species/1/\"],\"vehicles\":[],\"starships\":[\"http://swapi.co/api/starships/10/\",\"http://swapi.co/api/starships/22/\"],\"created\":\"2014-12-10T16:49:14.582000Z\",\"edited\":\"2014-12-20T21:17:50.334000Z\",\"url\":\"http://swapi.co/api/people/14/\"}'\n",
      "b'{\"name\":\"Greedo\",\"height\":\"173\",\"mass\":\"74\",\"hair_color\":\"n/a\",\"skin_color\":\"green\",\"eye_color\":\"black\",\"birth_year\":\"44BBY\",\"gender\":\"male\",\"homeworld\":\"http://swapi.co/api/planets/23/\",\"films\":[\"http://swapi.co/api/films/1/\"],\"species\":[\"http://swapi.co/api/species/4/\"],\"vehicles\":[],\"starships\":[],\"created\":\"2014-12-10T17:03:30.334000Z\",\"edited\":\"2014-12-20T21:17:50.336000Z\",\"url\":\"http://swapi.co/api/people/15/\"}'\n",
      "b'{\"name\":\"Jabba Desilijic Tiure\",\"height\":\"175\",\"mass\":\"1,358\",\"hair_color\":\"n/a\",\"skin_color\":\"green-tan, brown\",\"eye_color\":\"orange\",\"birth_year\":\"600BBY\",\"gender\":\"hermaphrodite\",\"homeworld\":\"http://swapi.co/api/planets/24/\",\"films\":[\"http://swapi.co/api/films/4/\",\"http://swapi.co/api/films/3/\",\"http://swapi.co/api/films/1/\"],\"species\":[\"http://swapi.co/api/species/5/\"],\"vehicles\":[],\"starships\":[],\"created\":\"2014-12-10T17:11:31.638000Z\",\"edited\":\"2014-12-20T21:17:50.338000Z\",\"url\":\"http://swapi.co/api/people/16/\"}'\n",
      "b'{\"detail\":\"Not found\"}'\n",
      "b'{\"name\":\"Wedge Antilles\",\"height\":\"170\",\"mass\":\"77\",\"hair_color\":\"brown\",\"skin_color\":\"fair\",\"eye_color\":\"hazel\",\"birth_year\":\"21BBY\",\"gender\":\"male\",\"homeworld\":\"http://swapi.co/api/planets/22/\",\"films\":[\"http://swapi.co/api/films/2/\",\"http://swapi.co/api/films/3/\",\"http://swapi.co/api/films/1/\"],\"species\":[\"http://swapi.co/api/species/1/\"],\"vehicles\":[\"http://swapi.co/api/vehicles/14/\"],\"starships\":[\"http://swapi.co/api/starships/12/\"],\"created\":\"2014-12-12T11:08:06.469000Z\",\"edited\":\"2014-12-20T21:17:50.341000Z\",\"url\":\"http://swapi.co/api/people/18/\"}'\n",
      "b'{\"name\":\"Jek Tono Porkins\",\"height\":\"180\",\"mass\":\"110\",\"hair_color\":\"brown\",\"skin_color\":\"fair\",\"eye_color\":\"blue\",\"birth_year\":\"unknown\",\"gender\":\"male\",\"homeworld\":\"http://swapi.co/api/planets/26/\",\"films\":[\"http://swapi.co/api/films/1/\"],\"species\":[\"http://swapi.co/api/species/1/\"],\"vehicles\":[],\"starships\":[\"http://swapi.co/api/starships/12/\"],\"created\":\"2014-12-12T11:16:56.569000Z\",\"edited\":\"2014-12-20T21:17:50.343000Z\",\"url\":\"http://swapi.co/api/people/19/\"}'\n",
      "b'{\"name\":\"Yoda\",\"height\":\"66\",\"mass\":\"17\",\"hair_color\":\"white\",\"skin_color\":\"green\",\"eye_color\":\"brown\",\"birth_year\":\"896BBY\",\"gender\":\"male\",\"homeworld\":\"http://swapi.co/api/planets/28/\",\"films\":[\"http://swapi.co/api/films/2/\",\"http://swapi.co/api/films/5/\",\"http://swapi.co/api/films/4/\",\"http://swapi.co/api/films/6/\",\"http://swapi.co/api/films/3/\"],\"species\":[\"http://swapi.co/api/species/6/\"],\"vehicles\":[],\"starships\":[],\"created\":\"2014-12-15T12:26:01.042000Z\",\"edited\":\"2014-12-20T21:17:50.345000Z\",\"url\":\"http://swapi.co/api/people/20/\"}'\n",
      "b'{\"name\":\"Palpatine\",\"height\":\"170\",\"mass\":\"75\",\"hair_color\":\"grey\",\"skin_color\":\"pale\",\"eye_color\":\"yellow\",\"birth_year\":\"82BBY\",\"gender\":\"male\",\"homeworld\":\"http://swapi.co/api/planets/8/\",\"films\":[\"http://swapi.co/api/films/2/\",\"http://swapi.co/api/films/5/\",\"http://swapi.co/api/films/4/\",\"http://swapi.co/api/films/6/\",\"http://swapi.co/api/films/3/\"],\"species\":[\"http://swapi.co/api/species/1/\"],\"vehicles\":[],\"starships\":[],\"created\":\"2014-12-15T12:48:05.971000Z\",\"edited\":\"2014-12-20T21:17:50.347000Z\",\"url\":\"http://swapi.co/api/people/21/\"}'\n",
      "b'{\"name\":\"Boba Fett\",\"height\":\"183\",\"mass\":\"78.2\",\"hair_color\":\"black\",\"skin_color\":\"fair\",\"eye_color\":\"brown\",\"birth_year\":\"31.5BBY\",\"gender\":\"male\",\"homeworld\":\"http://swapi.co/api/planets/10/\",\"films\":[\"http://swapi.co/api/films/2/\",\"http://swapi.co/api/films/5/\",\"http://swapi.co/api/films/3/\"],\"species\":[\"http://swapi.co/api/species/1/\"],\"vehicles\":[],\"starships\":[\"http://swapi.co/api/starships/21/\"],\"created\":\"2014-12-15T12:49:32.457000Z\",\"edited\":\"2014-12-20T21:17:50.349000Z\",\"url\":\"http://swapi.co/api/people/22/\"}'\n",
      "b'{\"name\":\"IG-88\",\"height\":\"200\",\"mass\":\"140\",\"hair_color\":\"none\",\"skin_color\":\"metal\",\"eye_color\":\"red\",\"birth_year\":\"15BBY\",\"gender\":\"none\",\"homeworld\":\"http://swapi.co/api/planets/28/\",\"films\":[\"http://swapi.co/api/films/2/\"],\"species\":[\"http://swapi.co/api/species/2/\"],\"vehicles\":[],\"starships\":[],\"created\":\"2014-12-15T12:51:10.076000Z\",\"edited\":\"2014-12-20T21:17:50.351000Z\",\"url\":\"http://swapi.co/api/people/23/\"}'\n",
      "b'{\"name\":\"Bossk\",\"height\":\"190\",\"mass\":\"113\",\"hair_color\":\"none\",\"skin_color\":\"green\",\"eye_color\":\"red\",\"birth_year\":\"53BBY\",\"gender\":\"male\",\"homeworld\":\"http://swapi.co/api/planets/29/\",\"films\":[\"http://swapi.co/api/films/2/\"],\"species\":[\"http://swapi.co/api/species/7/\"],\"vehicles\":[],\"starships\":[],\"created\":\"2014-12-15T12:53:49.297000Z\",\"edited\":\"2014-12-20T21:17:50.355000Z\",\"url\":\"http://swapi.co/api/people/24/\"}'\n",
      "b'{\"name\":\"Lando Calrissian\",\"height\":\"177\",\"mass\":\"79\",\"hair_color\":\"black\",\"skin_color\":\"dark\",\"eye_color\":\"brown\",\"birth_year\":\"31BBY\",\"gender\":\"male\",\"homeworld\":\"http://swapi.co/api/planets/30/\",\"films\":[\"http://swapi.co/api/films/2/\",\"http://swapi.co/api/films/3/\"],\"species\":[\"http://swapi.co/api/species/1/\"],\"vehicles\":[],\"starships\":[\"http://swapi.co/api/starships/10/\"],\"created\":\"2014-12-15T12:56:32.683000Z\",\"edited\":\"2014-12-20T21:17:50.357000Z\",\"url\":\"http://swapi.co/api/people/25/\"}'\n",
      "b'{\"name\":\"Lobot\",\"height\":\"175\",\"mass\":\"79\",\"hair_color\":\"none\",\"skin_color\":\"light\",\"eye_color\":\"blue\",\"birth_year\":\"37BBY\",\"gender\":\"male\",\"homeworld\":\"http://swapi.co/api/planets/6/\",\"films\":[\"http://swapi.co/api/films/2/\"],\"species\":[\"http://swapi.co/api/species/1/\"],\"vehicles\":[],\"starships\":[],\"created\":\"2014-12-15T13:01:57.178000Z\",\"edited\":\"2014-12-20T21:17:50.359000Z\",\"url\":\"http://swapi.co/api/people/26/\"}'\n",
      "b'{\"name\":\"Ackbar\",\"height\":\"180\",\"mass\":\"83\",\"hair_color\":\"none\",\"skin_color\":\"brown mottle\",\"eye_color\":\"orange\",\"birth_year\":\"41BBY\",\"gender\":\"male\",\"homeworld\":\"http://swapi.co/api/planets/31/\",\"films\":[\"http://swapi.co/api/films/3/\",\"http://swapi.co/api/films/7/\"],\"species\":[\"http://swapi.co/api/species/8/\"],\"vehicles\":[],\"starships\":[],\"created\":\"2014-12-18T11:07:50.584000Z\",\"edited\":\"2014-12-20T21:17:50.362000Z\",\"url\":\"http://swapi.co/api/people/27/\"}'\n",
      "b'{\"name\":\"Mon Mothma\",\"height\":\"150\",\"mass\":\"unknown\",\"hair_color\":\"auburn\",\"skin_color\":\"fair\",\"eye_color\":\"blue\",\"birth_year\":\"48BBY\",\"gender\":\"female\",\"homeworld\":\"http://swapi.co/api/planets/32/\",\"films\":[\"http://swapi.co/api/films/3/\"],\"species\":[\"http://swapi.co/api/species/1/\"],\"vehicles\":[],\"starships\":[],\"created\":\"2014-12-18T11:12:38.895000Z\",\"edited\":\"2014-12-20T21:17:50.364000Z\",\"url\":\"http://swapi.co/api/people/28/\"}'\n",
      "b'{\"name\":\"Arvel Crynyd\",\"height\":\"unknown\",\"mass\":\"unknown\",\"hair_color\":\"brown\",\"skin_color\":\"fair\",\"eye_color\":\"brown\",\"birth_year\":\"unknown\",\"gender\":\"male\",\"homeworld\":\"http://swapi.co/api/planets/28/\",\"films\":[\"http://swapi.co/api/films/3/\"],\"species\":[\"http://swapi.co/api/species/1/\"],\"vehicles\":[],\"starships\":[\"http://swapi.co/api/starships/28/\"],\"created\":\"2014-12-18T11:16:33.020000Z\",\"edited\":\"2014-12-20T21:17:50.367000Z\",\"url\":\"http://swapi.co/api/people/29/\"}'\n",
      "b'{\"name\":\"Wicket Systri Warrick\",\"height\":\"88\",\"mass\":\"20\",\"hair_color\":\"brown\",\"skin_color\":\"brown\",\"eye_color\":\"brown\",\"birth_year\":\"8BBY\",\"gender\":\"male\",\"homeworld\":\"http://swapi.co/api/planets/7/\",\"films\":[\"http://swapi.co/api/films/3/\"],\"species\":[\"http://swapi.co/api/species/9/\"],\"vehicles\":[],\"starships\":[],\"created\":\"2014-12-18T11:21:58.954000Z\",\"edited\":\"2014-12-20T21:17:50.369000Z\",\"url\":\"http://swapi.co/api/people/30/\"}'\n",
      "b'{\"name\":\"Nien Nunb\",\"height\":\"160\",\"mass\":\"68\",\"hair_color\":\"none\",\"skin_color\":\"grey\",\"eye_color\":\"black\",\"birth_year\":\"unknown\",\"gender\":\"male\",\"homeworld\":\"http://swapi.co/api/planets/33/\",\"films\":[\"http://swapi.co/api/films/3/\"],\"species\":[\"http://swapi.co/api/species/10/\"],\"vehicles\":[],\"starships\":[\"http://swapi.co/api/starships/10/\"],\"created\":\"2014-12-18T11:26:18.541000Z\",\"edited\":\"2014-12-20T21:17:50.371000Z\",\"url\":\"http://swapi.co/api/people/31/\"}'\n",
      "b'{\"name\":\"Qui-Gon Jinn\",\"height\":\"193\",\"mass\":\"89\",\"hair_color\":\"brown\",\"skin_color\":\"fair\",\"eye_color\":\"blue\",\"birth_year\":\"92BBY\",\"gender\":\"male\",\"homeworld\":\"http://swapi.co/api/planets/28/\",\"films\":[\"http://swapi.co/api/films/4/\"],\"species\":[\"http://swapi.co/api/species/1/\"],\"vehicles\":[\"http://swapi.co/api/vehicles/38/\"],\"starships\":[],\"created\":\"2014-12-19T16:54:53.618000Z\",\"edited\":\"2014-12-20T21:17:50.375000Z\",\"url\":\"http://swapi.co/api/people/32/\"}'\n",
      "b'{\"name\":\"Nute Gunray\",\"height\":\"191\",\"mass\":\"90\",\"hair_color\":\"none\",\"skin_color\":\"mottled green\",\"eye_color\":\"red\",\"birth_year\":\"unknown\",\"gender\":\"male\",\"homeworld\":\"http://swapi.co/api/planets/18/\",\"films\":[\"http://swapi.co/api/films/5/\",\"http://swapi.co/api/films/4/\",\"http://swapi.co/api/films/6/\"],\"species\":[\"http://swapi.co/api/species/11/\"],\"vehicles\":[],\"starships\":[],\"created\":\"2014-12-19T17:05:57.357000Z\",\"edited\":\"2014-12-20T21:17:50.377000Z\",\"url\":\"http://swapi.co/api/people/33/\"}'\n",
      "b'{\"name\":\"Finis Valorum\",\"height\":\"170\",\"mass\":\"unknown\",\"hair_color\":\"blond\",\"skin_color\":\"fair\",\"eye_color\":\"blue\",\"birth_year\":\"91BBY\",\"gender\":\"male\",\"homeworld\":\"http://swapi.co/api/planets/9/\",\"films\":[\"http://swapi.co/api/films/4/\"],\"species\":[\"http://swapi.co/api/species/1/\"],\"vehicles\":[],\"starships\":[],\"created\":\"2014-12-19T17:21:45.915000Z\",\"edited\":\"2014-12-20T21:17:50.379000Z\",\"url\":\"http://swapi.co/api/people/34/\"}'\n",
      "b'{\"name\":\"Padm\\xc3\\xa9 Amidala\",\"height\":\"165\",\"mass\":\"45\",\"hair_color\":\"brown\",\"skin_color\":\"light\",\"eye_color\":\"brown\",\"birth_year\":\"46BBY\",\"gender\":\"female\",\"homeworld\":\"http://swapi.co/api/planets/8/\",\"films\":[\"http://swapi.co/api/films/5/\",\"http://swapi.co/api/films/4/\",\"http://swapi.co/api/films/6/\"],\"species\":[\"http://swapi.co/api/species/1/\"],\"vehicles\":[],\"starships\":[\"http://swapi.co/api/starships/49/\",\"http://swapi.co/api/starships/64/\",\"http://swapi.co/api/starships/39/\"],\"created\":\"2014-12-19T17:28:26.926000Z\",\"edited\":\"2016-04-20T17:06:31.502555Z\",\"url\":\"http://swapi.co/api/people/35/\"}'\n",
      "b'{\"name\":\"Jar Jar Binks\",\"height\":\"196\",\"mass\":\"66\",\"hair_color\":\"none\",\"skin_color\":\"orange\",\"eye_color\":\"orange\",\"birth_year\":\"52BBY\",\"gender\":\"male\",\"homeworld\":\"http://swapi.co/api/planets/8/\",\"films\":[\"http://swapi.co/api/films/5/\",\"http://swapi.co/api/films/4/\"],\"species\":[\"http://swapi.co/api/species/12/\"],\"vehicles\":[],\"starships\":[],\"created\":\"2014-12-19T17:29:32.489000Z\",\"edited\":\"2014-12-20T21:17:50.383000Z\",\"url\":\"http://swapi.co/api/people/36/\"}'\n",
      "b'{\"name\":\"Roos Tarpals\",\"height\":\"224\",\"mass\":\"82\",\"hair_color\":\"none\",\"skin_color\":\"grey\",\"eye_color\":\"orange\",\"birth_year\":\"unknown\",\"gender\":\"male\",\"homeworld\":\"http://swapi.co/api/planets/8/\",\"films\":[\"http://swapi.co/api/films/4/\"],\"species\":[\"http://swapi.co/api/species/12/\"],\"vehicles\":[],\"starships\":[],\"created\":\"2014-12-19T17:32:56.741000Z\",\"edited\":\"2014-12-20T21:17:50.385000Z\",\"url\":\"http://swapi.co/api/people/37/\"}'\n",
      "b'{\"name\":\"Rugor Nass\",\"height\":\"206\",\"mass\":\"unknown\",\"hair_color\":\"none\",\"skin_color\":\"green\",\"eye_color\":\"orange\",\"birth_year\":\"unknown\",\"gender\":\"male\",\"homeworld\":\"http://swapi.co/api/planets/8/\",\"films\":[\"http://swapi.co/api/films/4/\"],\"species\":[\"http://swapi.co/api/species/12/\"],\"vehicles\":[],\"starships\":[],\"created\":\"2014-12-19T17:33:38.909000Z\",\"edited\":\"2014-12-20T21:17:50.388000Z\",\"url\":\"http://swapi.co/api/people/38/\"}'\n",
      "b'{\"name\":\"Ric Oli\\xc3\\xa9\",\"height\":\"183\",\"mass\":\"unknown\",\"hair_color\":\"brown\",\"skin_color\":\"fair\",\"eye_color\":\"blue\",\"birth_year\":\"unknown\",\"gender\":\"male\",\"homeworld\":\"http://swapi.co/api/planets/8/\",\"films\":[\"http://swapi.co/api/films/4/\"],\"species\":[],\"vehicles\":[],\"starships\":[\"http://swapi.co/api/starships/40/\"],\"created\":\"2014-12-19T17:45:01.522000Z\",\"edited\":\"2014-12-20T21:17:50.392000Z\",\"url\":\"http://swapi.co/api/people/39/\"}'\n",
      "b'{\"name\":\"Watto\",\"height\":\"137\",\"mass\":\"unknown\",\"hair_color\":\"black\",\"skin_color\":\"blue, grey\",\"eye_color\":\"yellow\",\"birth_year\":\"unknown\",\"gender\":\"male\",\"homeworld\":\"http://swapi.co/api/planets/34/\",\"films\":[\"http://swapi.co/api/films/5/\",\"http://swapi.co/api/films/4/\"],\"species\":[\"http://swapi.co/api/species/13/\"],\"vehicles\":[],\"starships\":[],\"created\":\"2014-12-19T17:48:54.647000Z\",\"edited\":\"2014-12-20T21:17:50.395000Z\",\"url\":\"http://swapi.co/api/people/40/\"}'\n",
      "b'{\"name\":\"Sebulba\",\"height\":\"112\",\"mass\":\"40\",\"hair_color\":\"none\",\"skin_color\":\"grey, red\",\"eye_color\":\"orange\",\"birth_year\":\"unknown\",\"gender\":\"male\",\"homeworld\":\"http://swapi.co/api/planets/35/\",\"films\":[\"http://swapi.co/api/films/4/\"],\"species\":[\"http://swapi.co/api/species/14/\"],\"vehicles\":[],\"starships\":[],\"created\":\"2014-12-19T17:53:02.586000Z\",\"edited\":\"2014-12-20T21:17:50.397000Z\",\"url\":\"http://swapi.co/api/people/41/\"}'\n",
      "b'{\"name\":\"Quarsh Panaka\",\"height\":\"183\",\"mass\":\"unknown\",\"hair_color\":\"black\",\"skin_color\":\"dark\",\"eye_color\":\"brown\",\"birth_year\":\"62BBY\",\"gender\":\"male\",\"homeworld\":\"http://swapi.co/api/planets/8/\",\"films\":[\"http://swapi.co/api/films/4/\"],\"species\":[],\"vehicles\":[],\"starships\":[],\"created\":\"2014-12-19T17:55:43.348000Z\",\"edited\":\"2014-12-20T21:17:50.399000Z\",\"url\":\"http://swapi.co/api/people/42/\"}'\n",
      "b'{\"name\":\"Shmi Skywalker\",\"height\":\"163\",\"mass\":\"unknown\",\"hair_color\":\"black\",\"skin_color\":\"fair\",\"eye_color\":\"brown\",\"birth_year\":\"72BBY\",\"gender\":\"female\",\"homeworld\":\"http://swapi.co/api/planets/1/\",\"films\":[\"http://swapi.co/api/films/5/\",\"http://swapi.co/api/films/4/\"],\"species\":[\"http://swapi.co/api/species/1/\"],\"vehicles\":[],\"starships\":[],\"created\":\"2014-12-19T17:57:41.191000Z\",\"edited\":\"2014-12-20T21:17:50.401000Z\",\"url\":\"http://swapi.co/api/people/43/\"}'\n",
      "b'{\"name\":\"Darth Maul\",\"height\":\"175\",\"mass\":\"80\",\"hair_color\":\"none\",\"skin_color\":\"red\",\"eye_color\":\"yellow\",\"birth_year\":\"54BBY\",\"gender\":\"male\",\"homeworld\":\"http://swapi.co/api/planets/36/\",\"films\":[\"http://swapi.co/api/films/4/\"],\"species\":[\"http://swapi.co/api/species/22/\"],\"vehicles\":[\"http://swapi.co/api/vehicles/42/\"],\"starships\":[\"http://swapi.co/api/starships/41/\"],\"created\":\"2014-12-19T18:00:41.929000Z\",\"edited\":\"2014-12-20T21:17:50.403000Z\",\"url\":\"http://swapi.co/api/people/44/\"}'\n",
      "b'{\"name\":\"Bib Fortuna\",\"height\":\"180\",\"mass\":\"unknown\",\"hair_color\":\"none\",\"skin_color\":\"pale\",\"eye_color\":\"pink\",\"birth_year\":\"unknown\",\"gender\":\"male\",\"homeworld\":\"http://swapi.co/api/planets/37/\",\"films\":[\"http://swapi.co/api/films/3/\"],\"species\":[\"http://swapi.co/api/species/15/\"],\"vehicles\":[],\"starships\":[],\"created\":\"2014-12-20T09:47:02.512000Z\",\"edited\":\"2014-12-20T21:17:50.407000Z\",\"url\":\"http://swapi.co/api/people/45/\"}'\n",
      "b'{\"name\":\"Ayla Secura\",\"height\":\"178\",\"mass\":\"55\",\"hair_color\":\"none\",\"skin_color\":\"blue\",\"eye_color\":\"hazel\",\"birth_year\":\"48BBY\",\"gender\":\"female\",\"homeworld\":\"http://swapi.co/api/planets/37/\",\"films\":[\"http://swapi.co/api/films/5/\",\"http://swapi.co/api/films/4/\",\"http://swapi.co/api/films/6/\"],\"species\":[\"http://swapi.co/api/species/15/\"],\"vehicles\":[],\"starships\":[],\"created\":\"2014-12-20T09:48:01.172000Z\",\"edited\":\"2014-12-20T21:17:50.409000Z\",\"url\":\"http://swapi.co/api/people/46/\"}'\n",
      "b'{\"name\":\"Ratts Tyerell\",\"height\":\"79\",\"mass\":\"15\",\"hair_color\":\"none\",\"skin_color\":\"grey, blue\",\"eye_color\":\"unknown\",\"birth_year\":\"unknown\",\"gender\":\"male\",\"homeworld\":\"http://swapi.co/api/planets/38/\",\"films\":[\"http://swapi.co/api/films/4/\"],\"species\":[\"http://swapi.co/api/species/16/\"],\"vehicles\":[],\"starships\":[],\"created\":\"2014-12-20T09:53:15.086000Z\",\"edited\":\"2016-06-30T12:52:19.604868Z\",\"url\":\"http://swapi.co/api/people/47/\"}'\n",
      "b'{\"name\":\"Dud Bolt\",\"height\":\"94\",\"mass\":\"45\",\"hair_color\":\"none\",\"skin_color\":\"blue, grey\",\"eye_color\":\"yellow\",\"birth_year\":\"unknown\",\"gender\":\"male\",\"homeworld\":\"http://swapi.co/api/planets/39/\",\"films\":[\"http://swapi.co/api/films/4/\"],\"species\":[\"http://swapi.co/api/species/17/\"],\"vehicles\":[],\"starships\":[],\"created\":\"2014-12-20T09:57:31.858000Z\",\"edited\":\"2014-12-20T21:17:50.414000Z\",\"url\":\"http://swapi.co/api/people/48/\"}'\n",
      "b'{\"name\":\"Gasgano\",\"height\":\"122\",\"mass\":\"unknown\",\"hair_color\":\"none\",\"skin_color\":\"white, blue\",\"eye_color\":\"black\",\"birth_year\":\"unknown\",\"gender\":\"male\",\"homeworld\":\"http://swapi.co/api/planets/40/\",\"films\":[\"http://swapi.co/api/films/4/\"],\"species\":[\"http://swapi.co/api/species/18/\"],\"vehicles\":[],\"starships\":[],\"created\":\"2014-12-20T10:02:12.223000Z\",\"edited\":\"2014-12-20T21:17:50.416000Z\",\"url\":\"http://swapi.co/api/people/49/\"}'\n",
      "50\n"
     ]
    }
   ],
   "source": [
    "import json\n",
    "i = 1\n",
    "r = requests.get('http://10.0.9.124:9200')\n",
    "es.indices.delete(index = 'sw', ignore = [400,404])\n",
    "while(i < 50):\n",
    "    r = requests.get('http://swapi.co/api/people/'+ str(i))\n",
    "    print(r.content)\n",
    "    es.index(index='sw', doc_type='people', id=i, body=json.loads(r.content.decode(\"utf-8\")))\n",
    "    i=i+1\n",
    " \n",
    "print(i)"
   ]
  },
  {
   "cell_type": "code",
   "execution_count": 27,
   "metadata": {
    "collapsed": false
   },
   "outputs": [
    {
     "name": "stdout",
     "output_type": "stream",
     "text": [
      "{'found': True, '_source': {'mass': '49', 'birth_year': '19BBY', 'gender': 'female', 'name': 'Leia Organa', 'skin_color': 'light', 'url': 'http://swapi.co/api/people/5/', 'created': '2014-12-10T15:20:09.791000Z', 'homeworld': 'http://swapi.co/api/planets/2/', 'eye_color': 'brown', 'species': ['http://swapi.co/api/species/1/'], 'height': '150', 'starships': [], 'hair_color': 'brown', 'films': ['http://swapi.co/api/films/2/', 'http://swapi.co/api/films/6/', 'http://swapi.co/api/films/3/', 'http://swapi.co/api/films/1/', 'http://swapi.co/api/films/7/'], 'edited': '2014-12-20T21:17:50.315000Z', 'vehicles': ['http://swapi.co/api/vehicles/30/']}, '_index': 'sw', '_id': '5', '_type': 'people', '_version': 1}\n"
     ]
    }
   ],
   "source": [
    "result = es.get(index='sw', doc_type='people', id = 5)\n",
    "print(result)"
   ]
  },
  {
   "cell_type": "code",
   "execution_count": 28,
   "metadata": {
    "collapsed": false
   },
   "outputs": [
    {
     "name": "stdout",
     "output_type": "stream",
     "text": [
      "{'took': 94, '_shards': {'successful': 5, 'failed': 0, 'total': 5}, 'timed_out': False, 'hits': {'hits': [{'_index': 'sw', '_id': '4', '_score': 2.3064394, '_source': {'mass': '136', 'birth_year': '41.9BBY', 'gender': 'male', 'name': 'Darth Vader', 'skin_color': 'white', 'url': 'http://swapi.co/api/people/4/', 'created': '2014-12-10T15:18:20.704000Z', 'homeworld': 'http://swapi.co/api/planets/1/', 'eye_color': 'yellow', 'species': ['http://swapi.co/api/species/1/'], 'height': '202', 'starships': ['http://swapi.co/api/starships/13/'], 'hair_color': 'none', 'films': ['http://swapi.co/api/films/2/', 'http://swapi.co/api/films/6/', 'http://swapi.co/api/films/3/', 'http://swapi.co/api/films/1/'], 'edited': '2014-12-20T21:17:50.313000Z', 'vehicles': []}, '_type': 'people'}, {'_index': 'sw', '_id': '44', '_score': 0.52640164, '_source': {'mass': '80', 'birth_year': '54BBY', 'gender': 'male', 'name': 'Darth Maul', 'skin_color': 'red', 'url': 'http://swapi.co/api/people/44/', 'created': '2014-12-19T18:00:41.929000Z', 'homeworld': 'http://swapi.co/api/planets/36/', 'eye_color': 'yellow', 'species': ['http://swapi.co/api/species/22/'], 'height': '175', 'starships': ['http://swapi.co/api/starships/41/'], 'hair_color': 'none', 'films': ['http://swapi.co/api/films/4/'], 'edited': '2014-12-20T21:17:50.403000Z', 'vehicles': ['http://swapi.co/api/vehicles/42/']}, '_type': 'people'}], 'max_score': 2.3064394, 'total': 2}}\n"
     ]
    }
   ],
   "source": [
    "result = es.search(index=\"sw\", body={\"query\": {\"match\": {'name':'Darth Vader'}}})\n",
    "print(result)"
   ]
  },
  {
   "cell_type": "code",
   "execution_count": 29,
   "metadata": {
    "collapsed": false
   },
   "outputs": [
    {
     "name": "stdout",
     "output_type": "stream",
     "text": [
      "{'took': 82, '_shards': {'successful': 5, 'failed': 0, 'total': 5}, 'timed_out': False, 'hits': {'hits': [{'_index': 'sw', '_id': '1', '_score': 1.0, '_source': {'mass': '77', 'birth_year': '19BBY', 'gender': 'male', 'name': 'Luke Skywalker', 'skin_color': 'fair', 'url': 'http://swapi.co/api/people/1/', 'created': '2014-12-09T13:50:51.644000Z', 'homeworld': 'http://swapi.co/api/planets/1/', 'eye_color': 'blue', 'species': ['http://swapi.co/api/species/1/'], 'height': '172', 'starships': ['http://swapi.co/api/starships/12/', 'http://swapi.co/api/starships/22/'], 'hair_color': 'blond', 'films': ['http://swapi.co/api/films/2/', 'http://swapi.co/api/films/6/', 'http://swapi.co/api/films/3/', 'http://swapi.co/api/films/1/', 'http://swapi.co/api/films/7/'], 'edited': '2014-12-20T21:17:56.891000Z', 'vehicles': ['http://swapi.co/api/vehicles/14/', 'http://swapi.co/api/vehicles/30/']}, '_type': 'people'}], 'max_score': 1.0, 'total': 1}}\n"
     ]
    }
   ],
   "source": [
    "result = es.search(index=\"sw\", body={\"query\": {\"prefix\" : { \"name\" : \"lu\" }}})\n",
    "print(result)"
   ]
  },
  {
   "cell_type": "code",
   "execution_count": 30,
   "metadata": {
    "collapsed": false
   },
   "outputs": [
    {
     "ename": "RequestError",
     "evalue": "TransportError(400, 'search_phase_execution_exception', 'No query registered for [fuzzy_like_this_field]')",
     "output_type": "error",
     "traceback": [
      "\u001b[0;31m---------------------------------------------------------------------------\u001b[0m",
      "\u001b[0;31mRequestError\u001b[0m                              Traceback (most recent call last)",
      "\u001b[0;32m<ipython-input-30-f24a76a53774>\u001b[0m in \u001b[0;36m<module>\u001b[0;34m()\u001b[0m\n\u001b[1;32m      1\u001b[0m result = es.search(index=\"sw\", body={\"query\": \n\u001b[1;32m      2\u001b[0m {\"fuzzy_like_this_field\" : { \"name\" : \n\u001b[0;32m----> 3\u001b[0;31m {\"like_text\": \"jaba\", \"max_query_terms\":5}}}})\n\u001b[0m\u001b[1;32m      4\u001b[0m \u001b[0mprint\u001b[0m\u001b[0;34m(\u001b[0m\u001b[0mresult\u001b[0m\u001b[0;34m)\u001b[0m\u001b[0;34m\u001b[0m\u001b[0m\n",
      "\u001b[0;32m//anaconda/lib/python3.5/site-packages/elasticsearch/client/utils.py\u001b[0m in \u001b[0;36m_wrapped\u001b[0;34m(*args, **kwargs)\u001b[0m\n\u001b[1;32m     71\u001b[0m                 \u001b[0;32mif\u001b[0m \u001b[0mp\u001b[0m \u001b[0;32min\u001b[0m \u001b[0mkwargs\u001b[0m\u001b[0;34m:\u001b[0m\u001b[0;34m\u001b[0m\u001b[0m\n\u001b[1;32m     72\u001b[0m                     \u001b[0mparams\u001b[0m\u001b[0;34m[\u001b[0m\u001b[0mp\u001b[0m\u001b[0;34m]\u001b[0m \u001b[0;34m=\u001b[0m \u001b[0mkwargs\u001b[0m\u001b[0;34m.\u001b[0m\u001b[0mpop\u001b[0m\u001b[0;34m(\u001b[0m\u001b[0mp\u001b[0m\u001b[0;34m)\u001b[0m\u001b[0;34m\u001b[0m\u001b[0m\n\u001b[0;32m---> 73\u001b[0;31m             \u001b[0;32mreturn\u001b[0m \u001b[0mfunc\u001b[0m\u001b[0;34m(\u001b[0m\u001b[0;34m*\u001b[0m\u001b[0margs\u001b[0m\u001b[0;34m,\u001b[0m \u001b[0mparams\u001b[0m\u001b[0;34m=\u001b[0m\u001b[0mparams\u001b[0m\u001b[0;34m,\u001b[0m \u001b[0;34m**\u001b[0m\u001b[0mkwargs\u001b[0m\u001b[0;34m)\u001b[0m\u001b[0;34m\u001b[0m\u001b[0m\n\u001b[0m\u001b[1;32m     74\u001b[0m         \u001b[0;32mreturn\u001b[0m \u001b[0m_wrapped\u001b[0m\u001b[0;34m\u001b[0m\u001b[0m\n\u001b[1;32m     75\u001b[0m     \u001b[0;32mreturn\u001b[0m \u001b[0m_wrapper\u001b[0m\u001b[0;34m\u001b[0m\u001b[0m\n",
      "\u001b[0;32m//anaconda/lib/python3.5/site-packages/elasticsearch/client/__init__.py\u001b[0m in \u001b[0;36msearch\u001b[0;34m(self, index, doc_type, body, params)\u001b[0m\n\u001b[1;32m    621\u001b[0m             \u001b[0mindex\u001b[0m \u001b[0;34m=\u001b[0m \u001b[0;34m'_all'\u001b[0m\u001b[0;34m\u001b[0m\u001b[0m\n\u001b[1;32m    622\u001b[0m         return self.transport.perform_request('GET', _make_path(index,\n\u001b[0;32m--> 623\u001b[0;31m             doc_type, '_search'), params=params, body=body)\n\u001b[0m\u001b[1;32m    624\u001b[0m \u001b[0;34m\u001b[0m\u001b[0m\n\u001b[1;32m    625\u001b[0m     @query_params('_source', '_source_exclude', '_source_include',\n",
      "\u001b[0;32m//anaconda/lib/python3.5/site-packages/elasticsearch/transport.py\u001b[0m in \u001b[0;36mperform_request\u001b[0;34m(self, method, url, params, body)\u001b[0m\n\u001b[1;32m    310\u001b[0m \u001b[0;34m\u001b[0m\u001b[0m\n\u001b[1;32m    311\u001b[0m             \u001b[0;32mtry\u001b[0m\u001b[0;34m:\u001b[0m\u001b[0;34m\u001b[0m\u001b[0m\n\u001b[0;32m--> 312\u001b[0;31m                 \u001b[0mstatus\u001b[0m\u001b[0;34m,\u001b[0m \u001b[0mheaders\u001b[0m\u001b[0;34m,\u001b[0m \u001b[0mdata\u001b[0m \u001b[0;34m=\u001b[0m \u001b[0mconnection\u001b[0m\u001b[0;34m.\u001b[0m\u001b[0mperform_request\u001b[0m\u001b[0;34m(\u001b[0m\u001b[0mmethod\u001b[0m\u001b[0;34m,\u001b[0m \u001b[0murl\u001b[0m\u001b[0;34m,\u001b[0m \u001b[0mparams\u001b[0m\u001b[0;34m,\u001b[0m \u001b[0mbody\u001b[0m\u001b[0;34m,\u001b[0m \u001b[0mignore\u001b[0m\u001b[0;34m=\u001b[0m\u001b[0mignore\u001b[0m\u001b[0;34m,\u001b[0m \u001b[0mtimeout\u001b[0m\u001b[0;34m=\u001b[0m\u001b[0mtimeout\u001b[0m\u001b[0;34m)\u001b[0m\u001b[0;34m\u001b[0m\u001b[0m\n\u001b[0m\u001b[1;32m    313\u001b[0m \u001b[0;34m\u001b[0m\u001b[0m\n\u001b[1;32m    314\u001b[0m             \u001b[0;32mexcept\u001b[0m \u001b[0mTransportError\u001b[0m \u001b[0;32mas\u001b[0m \u001b[0me\u001b[0m\u001b[0;34m:\u001b[0m\u001b[0;34m\u001b[0m\u001b[0m\n",
      "\u001b[0;32m//anaconda/lib/python3.5/site-packages/elasticsearch/connection/http_urllib3.py\u001b[0m in \u001b[0;36mperform_request\u001b[0;34m(self, method, url, params, body, timeout, ignore)\u001b[0m\n\u001b[1;32m    126\u001b[0m         \u001b[0;32mif\u001b[0m \u001b[0;32mnot\u001b[0m \u001b[0;34m(\u001b[0m\u001b[0;36m200\u001b[0m \u001b[0;34m<=\u001b[0m \u001b[0mresponse\u001b[0m\u001b[0;34m.\u001b[0m\u001b[0mstatus\u001b[0m \u001b[0;34m<\u001b[0m \u001b[0;36m300\u001b[0m\u001b[0;34m)\u001b[0m \u001b[0;32mand\u001b[0m \u001b[0mresponse\u001b[0m\u001b[0;34m.\u001b[0m\u001b[0mstatus\u001b[0m \u001b[0;32mnot\u001b[0m \u001b[0;32min\u001b[0m \u001b[0mignore\u001b[0m\u001b[0;34m:\u001b[0m\u001b[0;34m\u001b[0m\u001b[0m\n\u001b[1;32m    127\u001b[0m             \u001b[0mself\u001b[0m\u001b[0;34m.\u001b[0m\u001b[0mlog_request_fail\u001b[0m\u001b[0;34m(\u001b[0m\u001b[0mmethod\u001b[0m\u001b[0;34m,\u001b[0m \u001b[0mfull_url\u001b[0m\u001b[0;34m,\u001b[0m \u001b[0murl\u001b[0m\u001b[0;34m,\u001b[0m \u001b[0mbody\u001b[0m\u001b[0;34m,\u001b[0m \u001b[0mduration\u001b[0m\u001b[0;34m,\u001b[0m \u001b[0mresponse\u001b[0m\u001b[0;34m.\u001b[0m\u001b[0mstatus\u001b[0m\u001b[0;34m,\u001b[0m \u001b[0mraw_data\u001b[0m\u001b[0;34m)\u001b[0m\u001b[0;34m\u001b[0m\u001b[0m\n\u001b[0;32m--> 128\u001b[0;31m             \u001b[0mself\u001b[0m\u001b[0;34m.\u001b[0m\u001b[0m_raise_error\u001b[0m\u001b[0;34m(\u001b[0m\u001b[0mresponse\u001b[0m\u001b[0;34m.\u001b[0m\u001b[0mstatus\u001b[0m\u001b[0;34m,\u001b[0m \u001b[0mraw_data\u001b[0m\u001b[0;34m)\u001b[0m\u001b[0;34m\u001b[0m\u001b[0m\n\u001b[0m\u001b[1;32m    129\u001b[0m \u001b[0;34m\u001b[0m\u001b[0m\n\u001b[1;32m    130\u001b[0m         self.log_request_success(method, full_url, url, body, response.status,\n",
      "\u001b[0;32m//anaconda/lib/python3.5/site-packages/elasticsearch/connection/base.py\u001b[0m in \u001b[0;36m_raise_error\u001b[0;34m(self, status_code, raw_data)\u001b[0m\n\u001b[1;32m    123\u001b[0m             \u001b[0mlogger\u001b[0m\u001b[0;34m.\u001b[0m\u001b[0mwarning\u001b[0m\u001b[0;34m(\u001b[0m\u001b[0;34m'Undecodable raw error response from server: %s'\u001b[0m\u001b[0;34m,\u001b[0m \u001b[0merr\u001b[0m\u001b[0;34m)\u001b[0m\u001b[0;34m\u001b[0m\u001b[0m\n\u001b[1;32m    124\u001b[0m \u001b[0;34m\u001b[0m\u001b[0m\n\u001b[0;32m--> 125\u001b[0;31m         \u001b[0;32mraise\u001b[0m \u001b[0mHTTP_EXCEPTIONS\u001b[0m\u001b[0;34m.\u001b[0m\u001b[0mget\u001b[0m\u001b[0;34m(\u001b[0m\u001b[0mstatus_code\u001b[0m\u001b[0;34m,\u001b[0m \u001b[0mTransportError\u001b[0m\u001b[0;34m)\u001b[0m\u001b[0;34m(\u001b[0m\u001b[0mstatus_code\u001b[0m\u001b[0;34m,\u001b[0m \u001b[0merror_message\u001b[0m\u001b[0;34m,\u001b[0m \u001b[0madditional_info\u001b[0m\u001b[0;34m)\u001b[0m\u001b[0;34m\u001b[0m\u001b[0m\n\u001b[0m\u001b[1;32m    126\u001b[0m \u001b[0;34m\u001b[0m\u001b[0m\n\u001b[1;32m    127\u001b[0m \u001b[0;34m\u001b[0m\u001b[0m\n",
      "\u001b[0;31mRequestError\u001b[0m: TransportError(400, 'search_phase_execution_exception', 'No query registered for [fuzzy_like_this_field]')"
     ]
    }
   ],
   "source": [
    "result = es.search(index=\"sw\", body={\"query\": \n",
    "{\"fuzzy_like_this_field\" : { \"name\" : \n",
    "{\"like_text\": \"jaba\", \"max_query_terms\":5}}}})\n",
    "print(result)"
   ]
  },
  {
   "cell_type": "code",
   "execution_count": null,
   "metadata": {
    "collapsed": true
   },
   "outputs": [],
   "source": []
  }
 ],
 "metadata": {
  "kernelspec": {
   "display_name": "Python [Root]",
   "language": "python",
   "name": "Python [Root]"
  },
  "language_info": {
   "codemirror_mode": {
    "name": "ipython",
    "version": 3
   },
   "file_extension": ".py",
   "mimetype": "text/x-python",
   "name": "python",
   "nbconvert_exporter": "python",
   "pygments_lexer": "ipython3",
   "version": "3.5.1"
  }
 },
 "nbformat": 4,
 "nbformat_minor": 0
}
