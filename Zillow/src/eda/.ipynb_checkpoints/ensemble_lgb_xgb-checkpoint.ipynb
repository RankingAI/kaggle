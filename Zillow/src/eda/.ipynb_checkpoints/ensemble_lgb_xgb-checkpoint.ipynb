{
 "cells": [
  {
   "cell_type": "code",
   "execution_count": 1,
   "metadata": {
    "collapsed": true
   },
   "outputs": [],
   "source": [
    "import pandas as pd\n",
    "import numpy as np"
   ]
  },
  {
   "cell_type": "code",
   "execution_count": 33,
   "metadata": {
    "collapsed": false
   },
   "outputs": [
    {
     "name": "stdout",
     "output_type": "stream",
     "text": [
      "201610 done.\n",
      "201611 done.\n",
      "201612 done.\n",
      "201710 done.\n",
      "201711 done.\n",
      "201712 done.\n",
      "   ParcelId   201610   201611   201612   201710   201711   201712\n",
      "0  12026635  0.00953  0.00953  0.00953  0.00953  0.00953  0.00953\n",
      "1  14610937  0.00969  0.00969  0.00969  0.00966  0.00966  0.00966\n",
      "2  10746794  0.04520  0.04520  0.04520  0.04503  0.04503  0.04503\n",
      "3  13059191  0.00803  0.00809  0.00809  0.00803  0.00809  0.00809\n",
      "4  10929321  0.01200  0.01200  0.01200  0.01196  0.01196  0.01196\n"
     ]
    }
   ],
   "source": [
    "lgb_sub = '/Users/yuanpingzhou/project/workspace/python/kaggle/Zillow/data/SingleModel/lgb_646244.csv'\n",
    "xgb_sub = '/Users/yuanpingzhou/project/workspace/python/kaggle/Zillow/data/SingleModel/xgb_645968.csv'\n",
    "lgb_result = pd.read_csv(lgb_sub)\n",
    "xgb_result = pd.read_csv(xgb_sub)\n",
    "\n",
    "import numba\n",
    "\n",
    "ensembled_result = pd.DataFrame(index = lgb_result.index)\n",
    "ensembled_result['ParcelId'] = lgb_result['ParcelId']\n",
    "\n",
    "ensembled_result.set_index('ParcelId',inplace= True)\n",
    "lgb_result.set_index('ParcelId',inplace= True)\n",
    "xgb_result.set_index('ParcelId',inplace= True)\n",
    "lgb_weight = 0.1\n",
    "\n",
    "@numba.jit\n",
    "def ApplyEnsemble(LgbCol,XgbCol):\n",
    "    n = len(LgbCol)\n",
    "    result = np.empty((n),dtype='float32')\n",
    "    for i in range(n):\n",
    "        result[i] = lgb_weight * LgbCol[i] + (1.0 - lgb_weight) * XgbCol[i]\n",
    "    \n",
    "    return result\n",
    "\n",
    "for col in lgb_result.columns:\n",
    "    tmp = ApplyEnsemble(lgb_result[col].values,xgb_result[col].values)\n",
    "    df_tmp = pd.DataFrame(tmp, index=lgb_result.index, columns=[col])\n",
    "    ensembled_result = pd.concat([ensembled_result, df_tmp], axis=1)\n",
    "    print('%s done.' % col)\n",
    "\n",
    "ensembled_result = ensembled_result.reset_index()\n",
    "print(ensembled_result.head())\n",
    "\n",
    "ensemble_sub = '/Users/yuanpingzhou/project/workspace/python/kaggle/Zillow/data/SingleModel/ensemble_lgb_xgb.csv'\n",
    "ensembled_result.to_csv(ensemble_sub,index=False, float_format='%.4f')"
   ]
  },
  {
   "cell_type": "code",
   "execution_count": null,
   "metadata": {
    "collapsed": true
   },
   "outputs": [],
   "source": []
  }
 ],
 "metadata": {
  "kernelspec": {
   "display_name": "Python [Root]",
   "language": "python",
   "name": "Python [Root]"
  },
  "language_info": {
   "codemirror_mode": {
    "name": "ipython",
    "version": 3
   },
   "file_extension": ".py",
   "mimetype": "text/x-python",
   "name": "python",
   "nbconvert_exporter": "python",
   "pygments_lexer": "ipython3",
   "version": "3.5.1"
  }
 },
 "nbformat": 4,
 "nbformat_minor": 0
}
