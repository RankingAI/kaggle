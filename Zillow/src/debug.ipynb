{
 "cells": [
  {
   "cell_type": "code",
   "execution_count": 1,
   "metadata": {
    "collapsed": true
   },
   "outputs": [],
   "source": [
    "import numpy as np\n",
    "import pandas as pd\n",
    "import dill as pickle"
   ]
  },
  {
   "cell_type": "code",
   "execution_count": 11,
   "metadata": {},
   "outputs": [
    {
     "data": {
      "text/plain": [
       "(9954, 3765)"
      ]
     },
     "execution_count": 11,
     "metadata": {},
     "output_type": "execute_result"
    }
   ],
   "source": [
    "DataDir = '/Users/zoe/Desktop/kaggle/Zillow/data/'\n",
    "fileToCheck = '%s/feat/FeatureEngineering/ensemble/test/test.pkl' % DataDir\n",
    "\n",
    "### October month seems to be a bug\n",
    "with open(fileToCheck, 'rb') as file:\n",
    "    dataToCheck = pickle.load(file)\n",
    "file.close()\n",
    "\n",
    "month = dataToCheck[dataToCheck['transactiondate'].dt.month == 10]\n",
    "month.shape"
   ]
  },
  {
   "cell_type": "code",
   "execution_count": 12,
   "metadata": {},
   "outputs": [
    {
     "data": {
      "text/plain": [
       "(4977, 61)"
      ]
     },
     "execution_count": 12,
     "metadata": {},
     "output_type": "execute_result"
    }
   ],
   "source": [
    "OctMonth = '%s/feat/Preprocess/SplitData/10.pkl' % DataDir\n",
    "\n",
    "with open(OctMonth, 'rb') as file:\n",
    "    OctData = pickle.load(file)\n",
    "file.close()\n",
    "\n",
    "OctData.shape   ###so there sesms to be a bug!!!"
   ]
  },
  {
   "cell_type": "code",
   "execution_count": null,
   "metadata": {
    "collapsed": true
   },
   "outputs": [],
   "source": [
    "### Task check\n",
    "\n",
    "kfold = 4\n",
    "\n",
    "preprocessDir = '%s/feat/Preprocess' % DataDir\n",
    "\n",
    "#collectCategory\n",
    "df_train_file = '%s/CollectCategories/train.pkl' % perprocessDir\n",
    "\n",
    "with open(df_trian_file, 'rb') as file:\n",
    "    df_train = pickle.load(file)\n",
    "file.close\n"
   ]
  }
 ],
 "metadata": {
  "kernelspec": {
   "display_name": "Python 2",
   "language": "python",
   "name": "python2"
  },
  "language_info": {
   "codemirror_mode": {
    "name": "ipython",
    "version": 2
   },
   "file_extension": ".py",
   "mimetype": "text/x-python",
   "name": "python",
   "nbconvert_exporter": "python",
   "pygments_lexer": "ipython2",
   "version": "2.7.10"
  }
 },
 "nbformat": 4,
 "nbformat_minor": 1
}
