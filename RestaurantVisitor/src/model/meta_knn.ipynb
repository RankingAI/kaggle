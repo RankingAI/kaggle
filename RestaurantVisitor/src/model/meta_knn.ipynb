{
 "cells": [
  {
   "cell_type": "code",
   "execution_count": null,
   "metadata": {
    "ExecuteTime": {
     "start_time": "2018-01-25T14:27:30.537Z"
    }
   },
   "outputs": [
    {
     "name": "stderr",
     "output_type": "stream",
     "text": [
      "/Users/yuanpingzhou/miniconda3/lib/python3.6/site-packages/sklearn/cross_validation.py:41: DeprecationWarning: This module was deprecated in version 0.18 in favor of the model_selection module into which all the refactored classes and functions are moved. Also note that the interface of the new CV iterators are different from that of this module. This module will be removed in 0.20.\n",
      "  \"This module will be removed in 0.20.\", DeprecationWarning)\n",
      "/Users/yuanpingzhou/miniconda3/lib/python3.6/site-packages/sklearn/grid_search.py:42: DeprecationWarning: This module was deprecated in version 0.18 in favor of the model_selection module into which all the refactored classes and functions are moved. This module will be removed in 0.20.\n",
      "  DeprecationWarning)\n",
      "/Users/yuanpingzhou/miniconda3/lib/python3.6/site-packages/sklearn/learning_curve.py:22: DeprecationWarning: This module was deprecated in version 0.18 in favor of the model_selection module into which all the functions are moved. This module will be removed in 0.20\n",
      "  DeprecationWarning)\n",
      "/Users/yuanpingzhou/miniconda3/lib/python3.6/site-packages/IPython/core/interactiveshell.py:2698: DtypeWarning: Columns (26) have mixed types. Specify dtype option on import or set low_memory=False.\n",
      "  interactivity=interactivity, compiler=compiler, result=result)\n"
     ]
    },
    {
     "name": "stdout",
     "output_type": "stream",
     "text": [
      "feature size 222\n"
     ]
    },
    {
     "name": "stderr",
     "output_type": "stream",
     "text": [
      "/Users/yuanpingzhou/miniconda3/lib/python3.6/site-packages/ipykernel_launcher.py:71: SettingWithCopyWarning: \n",
      "A value is trying to be set on a copy of a slice from a DataFrame.\n",
      "Try using .loc[row_indexer,col_indexer] = value instead\n",
      "\n",
      "See the caveats in the documentation: http://pandas.pydata.org/pandas-docs/stable/indexing.html#indexing-view-versus-copy\n"
     ]
    },
    {
     "name": "stdout",
     "output_type": "stream",
     "text": [
      "fold 0: valid score 0.751364, holdout score 0.751868, valid length 45371\n",
      "feature size 222\n",
      "fold 1: valid score 0.754002, holdout score 0.751541, valid length 45371\n",
      "feature size 222\n",
      "fold 2: valid score 0.753310, holdout score 0.753107, valid length 45371\n",
      "feature size 222\n",
      "fold 3: valid score 0.754123, holdout score 0.745374, valid length 45370\n",
      "feature size 222\n",
      "fold 4: valid score 0.757228, holdout score 0.753443, valid length 45370\n",
      "\n",
      "======================\n",
      "meta model KNN-2 done, CV score 0.7540, Holdout score 0.7511, Elapsed time: 417.88s\n",
      "======================\n",
      "\n",
      "feature size 222\n",
      "fold 0: valid score 0.703998, holdout score 0.700889, valid length 45371\n",
      "feature size 222\n"
     ]
    }
   ],
   "source": [
    "########################################\n",
    "# meta knn-* using all of raw features #\n",
    "########################################\n",
    "import numpy as np\n",
    "import pandas as pd\n",
    "import datetime\n",
    "import time\n",
    "import os,sys\n",
    "import gc\n",
    "from sklearn import *\n",
    "import math\n",
    "\n",
    "def RMSLE(y, pred):\n",
    "    return metrics.mean_squared_error(y, pred) ** 0.5\n",
    "\n",
    "drop_cols = ['id', 'visit_date', 'visitors', 'hpg_store_id', 'fold', 'air_store_id', \n",
    "             'air_store_id_encoded', 'hpg_store_id_encoded', \n",
    "             'air_reserved_visitors', 'hpg_reserved_visitors','reserved_visitors']\n",
    "\n",
    "DataBaseDir = '../../data'\n",
    "InputDir = '%s/l0/kfold' % DataBaseDir\n",
    "OutputDir = '%s/meta/kfold' % DataBaseDir\n",
    "kfold = 5\n",
    "neighor_range = 6\n",
    "use_selected = False\n",
    "neighbor_num_list = [int(math.pow(2, i)) for i in list(range(1, neighor_range + 1))]\n",
    "#### load data\n",
    "valid_dfs = []\n",
    "holdout_dfs = []\n",
    "test_dfs = []\n",
    "for fold in range(kfold):\n",
    "    FoldInputDir = '%s/%s' % (InputDir, fold)\n",
    "    valid = pd.read_csv('%s/valid.csv' % FoldInputDir, parse_dates= ['visit_date']).reset_index(drop= True)\n",
    "    holdout = pd.read_csv('%s/holdout.csv' % FoldInputDir, parse_dates= ['visit_date']).reset_index(drop= True)\n",
    "    test = pd.read_csv('%s/test.csv' % FoldInputDir, parse_dates= ['visit_date']).reset_index(drop= True)\n",
    "    valid['fold'] = fold\n",
    "    valid_dfs.append(valid)\n",
    "    holdout_dfs.append(holdout)\n",
    "    test_dfs.append(test)\n",
    "TrainData = pd.concat(valid_dfs, axis= 0, ignore_index= True) \n",
    "##### model selection with CV\n",
    "start = time.time()\n",
    "for nn in neighbor_num_list:\n",
    "    strategy = 'knn_%s' % nn\n",
    "    # score\n",
    "    cv_score = .0\n",
    "    holdout_score = .0\n",
    "    for fold in range(kfold):\n",
    "        FoldData = {\n",
    "            'train': TrainData[TrainData['fold'] != fold],\n",
    "            'valid': TrainData[TrainData['fold'] == fold],\n",
    "            'holdout': holdout_dfs[fold],\n",
    "            'test': test_dfs[fold]\n",
    "        }\n",
    "        if(use_selected):\n",
    "            selected_features = []\n",
    "            with open('../../data/gfs/en_good_features.txt', 'r') as i_file:\n",
    "                for line in i_file:\n",
    "                    selected_features.append(line.rstrip())\n",
    "            i_file.close()\n",
    "#             selected_features.extend(meta_feats)\n",
    "            #selected_features.extend(['air_store_id_encoded', 'hpg_store_id_encoded'])\n",
    "            col = selected_features\n",
    "        else:\n",
    "            col = [c for c in FoldData['train'].columns if c not in drop_cols]\n",
    "            col = [c for c in col if((c.startswith('inter') == False))]\n",
    "        print('feature size %s' % len(col))\n",
    "        model = neighbors.KNeighborsRegressor(n_jobs= 2, n_neighbors= nn)\n",
    "        model.fit(FoldData['train'][col].values, FoldData['train']['visitors'].values)\n",
    "        # for valid\n",
    "        FoldData['valid'][strategy] = model.predict(FoldData['valid'][col].values)\n",
    "        rmsle_valid = RMSLE(FoldData['valid']['visitors'].values, FoldData['valid'][strategy])\n",
    "        cv_score += rmsle_valid\n",
    "        # for holdout\n",
    "        FoldData['holdout'][strategy] = model.predict(FoldData['holdout'][col])\n",
    "        rmsle_holdout = RMSLE(FoldData['holdout']['visitors'].values, FoldData['holdout'][strategy])\n",
    "        holdout_score += rmsle_holdout\n",
    "        # for test\n",
    "        FoldData['test'][strategy] = model.predict(FoldData['test'][col])\n",
    "        #### output\n",
    "        FoldOutputDir = '%s/%s' % (OutputDir, fold)\n",
    "        if(os.path.exists(FoldOutputDir) == False):\n",
    "            os.makedirs(FoldOutputDir)\n",
    "        for mod in FoldData.keys():\n",
    "            if(mod == 'train'):\n",
    "                continue\n",
    "            OutCols = []\n",
    "            if(mod == 'test'):\n",
    "                OutCols.append('id')\n",
    "            OutCols.extend(['air_store_id', 'visit_date', 'visitors', strategy])\n",
    "            OutputFile = '%s/%s_%s.csv' % (FoldOutputDir, mod, strategy)\n",
    "            OutFoldData = FoldData[mod][OutCols]\n",
    "            OutFoldData.to_csv(OutputFile, index= False)\n",
    "        print('fold %s: valid score %.6f, holdout score %.6f, valid length %s' % (fold, rmsle_valid, rmsle_holdout, len(FoldData['valid'])))  \n",
    "    cv_score /= kfold # Average valid set predictions\n",
    "    holdout_score /= kfold # Average holdout set predictions\n",
    "    end = time.time()\n",
    "    print('\\n======================')\n",
    "    print(\"meta model KNN-%s done, CV score %.4f, Holdout score %.4f, Elapsed time: %.2fs\" % (nn, cv_score, holdout_score, (end - start)))\n",
    "    print('======================\\n')"
   ]
  },
  {
   "cell_type": "code",
   "execution_count": null,
   "metadata": {},
   "outputs": [],
   "source": []
  }
 ],
 "metadata": {
  "kernelspec": {
   "display_name": "Python 3",
   "language": "python",
   "name": "python3"
  },
  "language_info": {
   "codemirror_mode": {
    "name": "ipython",
    "version": 3
   },
   "file_extension": ".py",
   "mimetype": "text/x-python",
   "name": "python",
   "nbconvert_exporter": "python",
   "pygments_lexer": "ipython3",
   "version": "3.6.1"
  },
  "varInspector": {
   "cols": {
    "lenName": 16,
    "lenType": 16,
    "lenVar": 40
   },
   "kernels_config": {
    "python": {
     "delete_cmd_postfix": "",
     "delete_cmd_prefix": "del ",
     "library": "var_list.py",
     "varRefreshCmd": "print(var_dic_list())"
    },
    "r": {
     "delete_cmd_postfix": ") ",
     "delete_cmd_prefix": "rm(",
     "library": "var_list.r",
     "varRefreshCmd": "cat(var_dic_list()) "
    }
   },
   "types_to_exclude": [
    "module",
    "function",
    "builtin_function_or_method",
    "instance",
    "_Feature"
   ],
   "window_display": false
  }
 },
 "nbformat": 4,
 "nbformat_minor": 2
}
