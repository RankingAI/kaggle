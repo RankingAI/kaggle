{
 "cells": [
  {
   "cell_type": "code",
   "execution_count": 3,
   "metadata": {
    "ExecuteTime": {
     "end_time": "2018-01-25T17:22:33.845844Z",
     "start_time": "2018-01-25T16:29:48.250608Z"
    }
   },
   "outputs": [
    {
     "name": "stderr",
     "output_type": "stream",
     "text": [
      "/Users/yuanpingzhou/miniconda3/lib/python3.6/site-packages/IPython/core/interactiveshell.py:2698: DtypeWarning: Columns (26) have mixed types. Specify dtype option on import or set low_memory=False.\n",
      "  interactivity=interactivity, compiler=compiler, result=result)\n"
     ]
    },
    {
     "name": "stdout",
     "output_type": "stream",
     "text": [
      "feature size 254\n"
     ]
    },
    {
     "name": "stderr",
     "output_type": "stream",
     "text": [
      "/Users/yuanpingzhou/miniconda3/lib/python3.6/site-packages/ipykernel_launcher.py:71: SettingWithCopyWarning: \n",
      "A value is trying to be set on a copy of a slice from a DataFrame.\n",
      "Try using .loc[row_indexer,col_indexer] = value instead\n",
      "\n",
      "See the caveats in the documentation: http://pandas.pydata.org/pandas-docs/stable/indexing.html#indexing-view-versus-copy\n"
     ]
    },
    {
     "name": "stdout",
     "output_type": "stream",
     "text": [
      "fold 0: valid score 0.708147, holdout score 0.705422, valid length 45371\n",
      "feature size 254\n",
      "fold 1: valid score 0.705310, holdout score 0.706241, valid length 45371\n",
      "feature size 254\n",
      "fold 2: valid score 0.705898, holdout score 0.705494, valid length 45371\n",
      "feature size 254\n",
      "fold 3: valid score 0.711132, holdout score 0.704832, valid length 45370\n",
      "feature size 254\n",
      "fold 4: valid score 0.707985, holdout score 0.706349, valid length 45370\n",
      "\n",
      "======================\n",
      "meta model KNN-128 done, CV score 0.7077, Holdout score 0.7057, Elapsed time: 648.66s\n",
      "======================\n",
      "\n",
      "feature size 254\n",
      "fold 0: valid score 0.725629, holdout score 0.722479, valid length 45371\n",
      "feature size 254\n",
      "fold 1: valid score 0.722182, holdout score 0.722793, valid length 45371\n",
      "feature size 254\n",
      "fold 2: valid score 0.722800, holdout score 0.722176, valid length 45371\n",
      "feature size 254\n",
      "fold 3: valid score 0.728827, holdout score 0.721998, valid length 45370\n",
      "feature size 254\n",
      "fold 4: valid score 0.724696, holdout score 0.722862, valid length 45370\n",
      "\n",
      "======================\n",
      "meta model KNN-256 done, CV score 0.7248, Holdout score 0.7225, Elapsed time: 1333.27s\n",
      "======================\n",
      "\n",
      "feature size 254\n",
      "fold 0: valid score 0.745458, holdout score 0.740054, valid length 45371\n",
      "feature size 254\n",
      "fold 1: valid score 0.740432, holdout score 0.740165, valid length 45371\n",
      "feature size 254\n",
      "fold 2: valid score 0.740783, holdout score 0.739755, valid length 45371\n",
      "feature size 254\n",
      "fold 3: valid score 0.748263, holdout score 0.739975, valid length 45370\n",
      "feature size 254\n",
      "fold 4: valid score 0.743056, holdout score 0.740120, valid length 45370\n",
      "\n",
      "======================\n",
      "meta model KNN-512 done, CV score 0.7436, Holdout score 0.7400, Elapsed time: 2123.86s\n",
      "======================\n",
      "\n",
      "feature size 254\n",
      "fold 0: valid score 0.763129, holdout score 0.756357, valid length 45371\n",
      "feature size 254\n",
      "fold 1: valid score 0.757677, holdout score 0.756427, valid length 45371\n",
      "feature size 254\n",
      "fold 2: valid score 0.757899, holdout score 0.756188, valid length 45371\n",
      "feature size 254\n",
      "fold 3: valid score 0.765113, holdout score 0.756216, valid length 45370\n",
      "feature size 254\n",
      "fold 4: valid score 0.760342, holdout score 0.756263, valid length 45370\n",
      "\n",
      "======================\n",
      "meta model KNN-1024 done, CV score 0.7608, Holdout score 0.7563, Elapsed time: 3134.11s\n",
      "======================\n",
      "\n"
     ]
    }
   ],
   "source": [
    "########################################\n",
    "# meta knn-* using all of raw features #\n",
    "########################################\n",
    "import numpy as np\n",
    "import pandas as pd\n",
    "import datetime\n",
    "import time\n",
    "import os,sys\n",
    "import gc\n",
    "from sklearn import *\n",
    "import math\n",
    "\n",
    "def RMSLE(y, pred):\n",
    "    return metrics.mean_squared_error(y, pred) ** 0.5\n",
    "\n",
    "drop_cols = ['id', 'visit_date', 'visitors', 'hpg_store_id', 'fold', 'air_store_id', \n",
    "             'air_store_id_encoded', 'hpg_store_id_encoded', \n",
    "             'air_reserved_visitors', 'hpg_reserved_visitors','reserved_visitors']\n",
    "\n",
    "DataBaseDir = '../../data'\n",
    "InputDir = '%s/l0/kfold' % DataBaseDir\n",
    "OutputDir = '%s/meta/kfold' % DataBaseDir\n",
    "kfold = 5\n",
    "neighor_range = 6\n",
    "use_selected = False\n",
    "neighbor_num_list = [int(math.pow(2, i)) for i in list(range(7, 11))]\n",
    "#### load data\n",
    "valid_dfs = []\n",
    "holdout_dfs = []\n",
    "test_dfs = []\n",
    "for fold in range(kfold):\n",
    "    FoldInputDir = '%s/%s' % (InputDir, fold)\n",
    "    valid = pd.read_csv('%s/valid.csv' % FoldInputDir, parse_dates= ['visit_date']).reset_index(drop= True)\n",
    "    holdout = pd.read_csv('%s/holdout.csv' % FoldInputDir, parse_dates= ['visit_date']).reset_index(drop= True)\n",
    "    test = pd.read_csv('%s/test.csv' % FoldInputDir, parse_dates= ['visit_date']).reset_index(drop= True)\n",
    "    valid['fold'] = fold\n",
    "    valid_dfs.append(valid)\n",
    "    holdout_dfs.append(holdout)\n",
    "    test_dfs.append(test)\n",
    "TrainData = pd.concat(valid_dfs, axis= 0, ignore_index= True) \n",
    "##### model selection with CV\n",
    "start = time.time()\n",
    "for nn in neighbor_num_list:\n",
    "    strategy = 'knn_%s' % nn\n",
    "    # score\n",
    "    cv_score = .0\n",
    "    holdout_score = .0\n",
    "    for fold in range(kfold):\n",
    "        FoldData = {\n",
    "            'train': TrainData[TrainData['fold'] != fold],\n",
    "            'valid': TrainData[TrainData['fold'] == fold],\n",
    "            'holdout': holdout_dfs[fold],\n",
    "            'test': test_dfs[fold]\n",
    "        }\n",
    "        if(use_selected):\n",
    "            selected_features = []\n",
    "            with open('../../data/gfs/en_good_features.txt', 'r') as i_file:\n",
    "                for line in i_file:\n",
    "                    selected_features.append(line.rstrip())\n",
    "            i_file.close()\n",
    "#             selected_features.extend(meta_feats)\n",
    "            #selected_features.extend(['air_store_id_encoded', 'hpg_store_id_encoded'])\n",
    "            col = selected_features\n",
    "        else:\n",
    "            col = [c for c in FoldData['train'].columns if c not in drop_cols]\n",
    "#             col = [c for c in col if((c.startswith('inter') == False))]\n",
    "        print('feature size %s' % len(col))\n",
    "        model = neighbors.KNeighborsRegressor(n_jobs= 2, n_neighbors= nn)\n",
    "        model.fit(FoldData['train'][col].values, FoldData['train']['visitors'].values)\n",
    "        # for valid\n",
    "        FoldData['valid'][strategy] = model.predict(FoldData['valid'][col].values)\n",
    "        rmsle_valid = RMSLE(FoldData['valid']['visitors'].values, FoldData['valid'][strategy])\n",
    "        cv_score += rmsle_valid\n",
    "        # for holdout\n",
    "        FoldData['holdout'][strategy] = model.predict(FoldData['holdout'][col])\n",
    "        rmsle_holdout = RMSLE(FoldData['holdout']['visitors'].values, FoldData['holdout'][strategy])\n",
    "        holdout_score += rmsle_holdout\n",
    "        # for test\n",
    "        FoldData['test'][strategy] = model.predict(FoldData['test'][col])\n",
    "        #### output\n",
    "        FoldOutputDir = '%s/%s' % (OutputDir, fold)\n",
    "        if(os.path.exists(FoldOutputDir) == False):\n",
    "            os.makedirs(FoldOutputDir)\n",
    "        for mod in FoldData.keys():\n",
    "            if(mod == 'train'):\n",
    "                continue\n",
    "            OutCols = []\n",
    "            if(mod == 'test'):\n",
    "                OutCols.append('id')\n",
    "            OutCols.extend(['air_store_id', 'visit_date', 'visitors', strategy])\n",
    "            OutputFile = '%s/%s_%s.csv' % (FoldOutputDir, mod, strategy)\n",
    "            OutFoldData = FoldData[mod][OutCols]\n",
    "            OutFoldData.to_csv(OutputFile, index= False)\n",
    "        print('fold %s: valid score %.6f, holdout score %.6f, valid length %s' % (fold, rmsle_valid, rmsle_holdout, len(FoldData['valid'])))  \n",
    "    cv_score /= kfold # Average valid set predictions\n",
    "    holdout_score /= kfold # Average holdout set predictions\n",
    "    end = time.time()\n",
    "    print('\\n======================')\n",
    "    print(\"meta model KNN-%s done, CV score %.4f, Holdout score %.4f, Elapsed time: %.2fs\" % (nn, cv_score, holdout_score, (end - start)))\n",
    "    print('======================\\n')"
   ]
  },
  {
   "cell_type": "code",
   "execution_count": null,
   "metadata": {},
   "outputs": [],
   "source": []
  }
 ],
 "metadata": {
  "kernelspec": {
   "display_name": "Python 3",
   "language": "python",
   "name": "python3"
  },
  "language_info": {
   "codemirror_mode": {
    "name": "ipython",
    "version": 3
   },
   "file_extension": ".py",
   "mimetype": "text/x-python",
   "name": "python",
   "nbconvert_exporter": "python",
   "pygments_lexer": "ipython3",
   "version": "3.6.1"
  },
  "varInspector": {
   "cols": {
    "lenName": 16,
    "lenType": 16,
    "lenVar": 40
   },
   "kernels_config": {
    "python": {
     "delete_cmd_postfix": "",
     "delete_cmd_prefix": "del ",
     "library": "var_list.py",
     "varRefreshCmd": "print(var_dic_list())"
    },
    "r": {
     "delete_cmd_postfix": ") ",
     "delete_cmd_prefix": "rm(",
     "library": "var_list.r",
     "varRefreshCmd": "cat(var_dic_list()) "
    }
   },
   "types_to_exclude": [
    "module",
    "function",
    "builtin_function_or_method",
    "instance",
    "_Feature"
   ],
   "window_display": false
  }
 },
 "nbformat": 4,
 "nbformat_minor": 2
}
