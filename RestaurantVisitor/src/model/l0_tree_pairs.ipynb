{
 "cells": [
  {
   "cell_type": "code",
   "execution_count": 2,
   "metadata": {
    "ExecuteTime": {
     "end_time": "2018-01-19T02:41:25.733046Z",
     "start_time": "2018-01-19T02:32:00.750577Z"
    }
   },
   "outputs": [
    {
     "name": "stdout",
     "output_type": "stream",
     "text": [
      "generate combinations done, combinations 124750, time elapsed 0.02s\n",
      "load fold 0 data done, time elapsed 19.38s\n",
      "load fold 1 data done, time elapsed 38.94s\n",
      "load fold 2 data done, time elapsed 58.49s\n",
      "load fold 3 data done, time elapsed 77.32s\n",
      "load fold 4 data done, time elapsed 96.07s\n",
      "load data done, time elapsed 96.07s\n",
      "calculating metric for 0 done, time elapsed 96.11s\n",
      "calculating metric for 10000 done, time elapsed 134.16s\n",
      "calculating metric for 20000 done, time elapsed 171.63s\n",
      "calculating metric for 30000 done, time elapsed 209.03s\n",
      "calculating metric for 40000 done, time elapsed 246.16s\n",
      "calculating metric for 50000 done, time elapsed 283.71s\n",
      "calculating metric for 60000 done, time elapsed 320.90s\n",
      "calculating metric for 70000 done, time elapsed 358.40s\n",
      "calculating metric for 80000 done, time elapsed 395.41s\n",
      "calculating metric for 90000 done, time elapsed 432.56s\n",
      "calculating metric for 100000 done, time elapsed 470.63s\n",
      "calculating metric for 110000 done, time elapsed 508.51s\n",
      "calculating metric for 120000 done, time elapsed 546.35s\n",
      "calculating metric done, time elapsed 564.50s\n",
      "sorting done, time elapsed 564.70s\n"
     ]
    }
   ],
   "source": [
    "import pandas as pd\n",
    "import numpy as np\n",
    "import os,sys,time,datetime\n",
    "from itertools import combinations\n",
    "from sklearn import metrics\n",
    "\n",
    "def RMSLE(y, pred):\n",
    "    return metrics.mean_squared_error(y, pred) ** 0.5\n",
    "\n",
    "start = time.time()\n",
    "\n",
    "mod = 'holdout'\n",
    "\n",
    "kfold = 5\n",
    "ModelNumber = 500\n",
    "#PairNumber = 100000\n",
    "TopPair = 50000\n",
    "ModelIndexList = [i for i in range(ModelNumber)]\n",
    "PairIter = combinations(ModelIndexList, 2) # generate all combinations of pairs\n",
    "PairList = list(PairIter)\n",
    "SelectedPairs = PairList\n",
    "end = time.time()\n",
    "print('generate combinations done, combinations %s, time elapsed %.2fs' % (len(PairList), (end - start)))\n",
    "#SelectedPairs = [PairList[i] for i in sorted(np.random.choice(range(len(PairList)), PairNumber, replace= False))]\n",
    "#\n",
    "meta_tree_mod = 'meta_trees_75_500'\n",
    "BaseDir = '../../data/%s' % meta_tree_mod\n",
    "InputDir = '%s/l1/kfold' % BaseDir\n",
    "strategy = 'lgb_l2_%s' % meta_tree_mod\n",
    "\n",
    "FoldData = []\n",
    "\n",
    "for fold in range(kfold):\n",
    "    data = pd.DataFrame()\n",
    "    for t in range(ModelNumber):\n",
    "        DataFile = '%s/%s/%s_%s_%s.csv' % (InputDir, fold, mod, strategy, t)\n",
    "        tmp = pd.read_csv(DataFile, parse_dates= ['visit_date']).reset_index(drop= True)\n",
    "        if(t == 0):\n",
    "            data = tmp\n",
    "        else:\n",
    "            data['%s_%s' % (strategy, t)] = tmp['%s_%s' % (strategy, t)]\n",
    "    FoldData.append(data)\n",
    "    end = time.time()\n",
    "    print('load fold %s data done, time elapsed %.2fs' % (fold, (end - start)))\n",
    "end = time.time()\n",
    "print('load data done, time elapsed %.2fs' % (end - start))\n",
    "# print(FoldData[2].head(5))\n",
    "\n",
    "PairMetrics = {}\n",
    "for idx in range(len(SelectedPairs)):\n",
    "    rmlse = .0\n",
    "    col1 = '%s_%s' % (strategy, SelectedPairs[idx][0])\n",
    "    col2 = '%s_%s' % (strategy, SelectedPairs[idx][1])\n",
    "    for fold in range(kfold):\n",
    "        rmlse += RMSLE((FoldData[fold][col1] + FoldData[fold][col2])/2, FoldData[fold]['visitors'])\n",
    "    PairMetrics[SelectedPairs[idx]] = rmlse/kfold\n",
    "    if(idx % 10000 == 0):\n",
    "        end = time.time()\n",
    "        print('calculating metric for %s done, time elapsed %.2fs' % (idx, (end - start)))\n",
    "\n",
    "end = time.time()\n",
    "print('calculating metric done, time elapsed %.2fs' % (end - start))\n",
    "## sort by valid metrics\n",
    "sorted_valid = sorted([(value,key) for (key,value) in PairMetrics.items()])\n",
    "\n",
    "top_valid = [v[1] for v in sorted_valid[:TopPair]]\n",
    "\n",
    "end = time.time()\n",
    "print('sorting done, time elapsed %.2fs' % (end - start))\n",
    "# save\n",
    "OutputDir = '%s/l1/pairs' % BaseDir\n",
    "if(os.path.exists(OutputDir) == False):\n",
    "    os.makedirs(OutputDir)\n",
    "ValidOutputFile = '%s/%s_top%s_%s.csv' % (OutputDir, meta_tree_mod, TopPair, mod)\n",
    "with open(ValidOutputFile, 'w') as o_file:\n",
    "    for v in top_valid:\n",
    "        o_file.write('%s,%s\\n' % (v[0], v[1]))\n",
    "o_file.close()"
   ]
  },
  {
   "cell_type": "code",
   "execution_count": null,
   "metadata": {},
   "outputs": [],
   "source": []
  }
 ],
 "metadata": {
  "kernelspec": {
   "display_name": "Python 3",
   "language": "python",
   "name": "python3"
  },
  "language_info": {
   "codemirror_mode": {
    "name": "ipython",
    "version": 3
   },
   "file_extension": ".py",
   "mimetype": "text/x-python",
   "name": "python",
   "nbconvert_exporter": "python",
   "pygments_lexer": "ipython3",
   "version": "3.6.1"
  },
  "varInspector": {
   "cols": {
    "lenName": 16,
    "lenType": 16,
    "lenVar": 40
   },
   "kernels_config": {
    "python": {
     "delete_cmd_postfix": "",
     "delete_cmd_prefix": "del ",
     "library": "var_list.py",
     "varRefreshCmd": "print(var_dic_list())"
    },
    "r": {
     "delete_cmd_postfix": ") ",
     "delete_cmd_prefix": "rm(",
     "library": "var_list.r",
     "varRefreshCmd": "cat(var_dic_list()) "
    }
   },
   "types_to_exclude": [
    "module",
    "function",
    "builtin_function_or_method",
    "instance",
    "_Feature"
   ],
   "window_display": false
  }
 },
 "nbformat": 4,
 "nbformat_minor": 2
}
