{
 "cells": [
  {
   "cell_type": "code",
   "execution_count": 1,
   "metadata": {
    "ExecuteTime": {
     "end_time": "2017-12-04T11:23:12.693066Z",
     "start_time": "2017-12-04T11:23:09.848466Z"
    },
    "collapsed": true
   },
   "outputs": [],
   "source": [
    "import numpy as np\n",
    "import pandas as pd\n",
    "from datetime import datetime\n",
    "\n",
    "data = {\n",
    "    'tra': pd.read_csv('../../data/raw/air_visit_data.csv'),\n",
    "    'as': pd.read_csv('../../data/raw/air_store_info.csv'),\n",
    "    'hs': pd.read_csv('../../data/raw/hpg_store_info.csv'),\n",
    "    'ar': pd.read_csv('../../data/raw/air_reserve.csv'),\n",
    "    'hr': pd.read_csv('../../data/raw/hpg_reserve.csv'),\n",
    "    'id': pd.read_csv('../../data/raw/store_id_relation.csv'),\n",
    "    'tes': pd.read_csv('../../data/raw/sample_submission.csv'),\n",
    "    'hol': pd.read_csv('../../data/raw/date_info.csv').rename(columns={'calendar_date':'visit_date'})\n",
    "    }"
   ]
  },
  {
   "cell_type": "code",
   "execution_count": 11,
   "metadata": {
    "ExecuteTime": {
     "end_time": "2017-12-04T11:26:33.363390Z",
     "start_time": "2017-12-04T11:26:33.010859Z"
    },
    "collapsed": false
   },
   "outputs": [],
   "source": [
    "data['hr'] = pd.merge(data['hr'], data['id'], how='inner', on=['hpg_store_id'])"
   ]
  },
  {
   "cell_type": "code",
   "execution_count": null,
   "metadata": {
    "collapsed": true
   },
   "outputs": [],
   "source": []
  }
 ],
 "metadata": {
  "anaconda-cloud": {},
  "kernelspec": {
   "display_name": "Python [eda]",
   "language": "python",
   "name": "Python [eda]"
  },
  "language_info": {
   "codemirror_mode": {
    "name": "ipython",
    "version": 3
   },
   "file_extension": ".py",
   "mimetype": "text/x-python",
   "name": "python",
   "nbconvert_exporter": "python",
   "pygments_lexer": "ipython3",
   "version": "3.6.1"
  }
 },
 "nbformat": 4,
 "nbformat_minor": 0
}
