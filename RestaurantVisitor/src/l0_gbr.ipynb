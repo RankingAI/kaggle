{
 "cells": [
  {
   "cell_type": "code",
   "execution_count": 3,
   "metadata": {
    "ExecuteTime": {
     "end_time": "2017-12-25T09:13:43.333558Z",
     "start_time": "2017-12-25T09:11:51.066528Z"
    }
   },
   "outputs": [
    {
     "name": "stderr",
     "output_type": "stream",
     "text": [
      "/Users/yuanpingzhou/miniconda3/lib/python3.6/site-packages/ipykernel_launcher.py:61: SettingWithCopyWarning: \n",
      "A value is trying to be set on a copy of a slice from a DataFrame.\n",
      "Try using .loc[row_indexer,col_indexer] = value instead\n",
      "\n",
      "See the caveats in the documentation: http://pandas.pydata.org/pandas-docs/stable/indexing.html#indexing-view-versus-copy\n"
     ]
    },
    {
     "name": "stdout",
     "output_type": "stream",
     "text": [
      "fold 0: valid score 0.511693, holdout score 0.502182, valid length 45371\n",
      "saving for 0th fold data done.\n",
      "fold 1: valid score 0.503928, holdout score 0.502423, valid length 45371\n",
      "saving for 1th fold data done.\n",
      "fold 2: valid score 0.505883, holdout score 0.502094, valid length 45371\n",
      "saving for 2th fold data done.\n",
      "fold 3: valid score 0.511717, holdout score 0.501761, valid length 45370\n",
      "saving for 3th fold data done.\n",
      "fold 4: valid score 0.506539, holdout score 0.501823, valid length 45370\n",
      "saving for 4th fold data done.\n",
      "zip ../../data/l1/submit/gbr_ls_submit_2017-12-25.zip ../../data/l1/submit/gbr_ls_submit_2017-12-25.csv\n",
      "\n",
      "======================\n",
      "CV score 0.5080, Holdout score 0.5021, Elapsed time: 111.00s\n",
      "======================\n",
      "\n"
     ]
    }
   ],
   "source": [
    "#############################\n",
    "# Gradient Boost Regression #\n",
    "#############################\n",
    "import numpy as np\n",
    "import pandas as pd\n",
    "import datetime\n",
    "import time\n",
    "import os,sys\n",
    "import gc\n",
    "import math\n",
    "from sklearn import *\n",
    "\n",
    "def RMSLE(y, pred):\n",
    "    return metrics.mean_squared_error(y, pred) ** 0.5\n",
    "\n",
    "DataBaseDir = '../../data'\n",
    "InputDir = '%s/l0/kfold' % DataBaseDir\n",
    "OutputDir = '%s/l1/kfold' % DataBaseDir\n",
    "kfold = 5\n",
    "strategy = 'gbr_ls'\n",
    "start_time = datetime.datetime.now()\n",
    "#### load data\n",
    "valid_dfs = []\n",
    "holdout_dfs = []\n",
    "test_dfs = []\n",
    "for fold in range(kfold):\n",
    "    FoldInputDir = '%s/%s' % (InputDir, fold)\n",
    "    valid = pd.read_csv('%s/valid.csv' % FoldInputDir, parse_dates= ['visit_date']).reset_index(drop= True)\n",
    "    holdout = pd.read_csv('%s/holdout.csv' % FoldInputDir, parse_dates= ['visit_date']).reset_index(drop= True)\n",
    "    test = pd.read_csv('%s/test.csv' % FoldInputDir, parse_dates= ['visit_date']).reset_index(drop= True)\n",
    "    valid['fold'] = fold\n",
    "    valid_dfs.append(valid)\n",
    "    holdout_dfs.append(holdout)\n",
    "    test_dfs.append(test)\n",
    "TrainData = pd.concat(valid_dfs, axis= 0, ignore_index= True) \n",
    "##### model selection with CV\n",
    "# score\n",
    "cv_score = .0\n",
    "holdout_score = .0\n",
    "# predict\n",
    "y_test_pred = 0\n",
    "for fold in range(kfold):\n",
    "    FoldData = {\n",
    "        'train': TrainData[TrainData['fold'] != fold],\n",
    "        'valid': TrainData[TrainData['fold'] == fold],\n",
    "        'holdout': holdout_dfs[fold],\n",
    "        'test': test_dfs[fold]\n",
    "    }\n",
    "    col = [c for c in FoldData['train'].columns if c not in ['id', 'air_store_id', 'visit_date', 'visitors', 'hpg_store_id', 'fold']]\n",
    "    # train\n",
    "    model = ensemble.GradientBoostingRegressor(n_estimators= 100,\n",
    "                                  learning_rate= 0.3,\n",
    "                                  max_depth = 6,\n",
    "                                  random_state = 2017,\n",
    "                                  subsample= 0.8,\n",
    "                                  loss = 'ls',\n",
    "                                  max_features= int(math.sqrt(len(col))),\n",
    "                                  verbose= False)\n",
    "    model.fit(FoldData['train'][col].astype(np.float32, copy=False), FoldData['train']['visitors'].values.astype(np.float32, copy=False))\n",
    "    # for valid\n",
    "    FoldData['valid'][strategy] = model.predict(FoldData['valid'][col])\n",
    "    rmsle_valid = RMSLE(FoldData['valid']['visitors'].values, FoldData['valid'][strategy])\n",
    "    cv_score += rmsle_valid\n",
    "    # for holdout\n",
    "    FoldData['holdout'][strategy] = model.predict(FoldData['holdout'][col])\n",
    "    rmsle_holdout = RMSLE(FoldData['holdout']['visitors'].values, FoldData['holdout'][strategy])\n",
    "    holdout_score += rmsle_holdout\n",
    "    # for test\n",
    "    FoldData['test'][strategy] = model.predict(FoldData['test'][col])\n",
    "    y_test_pred += FoldData['test'][strategy]\n",
    "\n",
    "    print('fold %s: valid score %.6f, holdout score %.6f, valid length %s' % (fold, rmsle_valid, rmsle_holdout, len(FoldData['valid'])))  \n",
    "    #### output\n",
    "    FoldOutputDir = '%s/%s' % (OutputDir, fold)\n",
    "    if(os.path.exists(FoldOutputDir) == False):\n",
    "        os.makedirs(FoldOutputDir)\n",
    "    for mod in FoldData.keys():\n",
    "        if(mod == 'train'):\n",
    "            continue\n",
    "        OutCols = []\n",
    "        if(mod == 'test'):\n",
    "            OutCols.append('id')\n",
    "        OutCols.extend(['air_store_id', 'visit_date', 'visitors', strategy])\n",
    "        OutputFile = '%s/%s_%s.csv' % (FoldOutputDir, mod, strategy)\n",
    "        OutFoldData = FoldData[mod][OutCols]\n",
    "        OutFoldData.to_csv(OutputFile, index= False)\n",
    "    print('saving for %sth fold data done.' % (fold))\n",
    "    \n",
    "y_test_pred /= kfold  # Average test set predictions\n",
    "cv_score /= kfold # Average valid set predictions\n",
    "holdout_score /= kfold # Average holdout set predictions\n",
    "\n",
    "# Create submission file\n",
    "sub = pd.DataFrame()\n",
    "sub['id'] = test_dfs[0]['id']\n",
    "sub['visitors'] = np.expm1(y_test_pred)\n",
    "OutputFileName = '%s_submit_%s' % (strategy, datetime.datetime.now().strftime(\"%Y-%m-%d\"))\n",
    "SubmitDir = '%s/l1/submit' % DataBaseDir\n",
    "if(os.path.exists(SubmitDir) == False):\n",
    "    os.makedirs(SubmitDir)\n",
    "sub.to_csv('%s/%s.csv' % (SubmitDir, OutputFileName), float_format='%.6f', index=False)\n",
    "print('zip %s/%s.zip %s/%s.csv' % (SubmitDir, OutputFileName, SubmitDir, OutputFileName))\n",
    "os.system('zip %s/%s.zip %s/%s.csv' % (SubmitDir, OutputFileName, SubmitDir, OutputFileName))\n",
    "\n",
    "finish_time = datetime.datetime.now()\n",
    "elapsed = (finish_time - start_time).seconds\n",
    "print('\\n======================')\n",
    "print(\"CV score %.4f, Holdout score %.4f, Elapsed time: %.2fs\" % (cv_score, holdout_score, elapsed))\n",
    "print('======================\\n')"
   ]
  },
  {
   "cell_type": "code",
   "execution_count": null,
   "metadata": {},
   "outputs": [],
   "source": []
  }
 ],
 "metadata": {
  "kernelspec": {
   "display_name": "Python 3",
   "language": "python",
   "name": "python3"
  },
  "language_info": {
   "codemirror_mode": {
    "name": "ipython",
    "version": 3
   },
   "file_extension": ".py",
   "mimetype": "text/x-python",
   "name": "python",
   "nbconvert_exporter": "python",
   "pygments_lexer": "ipython3",
   "version": "3.6.1"
  },
  "varInspector": {
   "cols": {
    "lenName": 16,
    "lenType": 16,
    "lenVar": 40
   },
   "kernels_config": {
    "python": {
     "delete_cmd_postfix": "",
     "delete_cmd_prefix": "del ",
     "library": "var_list.py",
     "varRefreshCmd": "print(var_dic_list())"
    },
    "r": {
     "delete_cmd_postfix": ") ",
     "delete_cmd_prefix": "rm(",
     "library": "var_list.r",
     "varRefreshCmd": "cat(var_dic_list()) "
    }
   },
   "types_to_exclude": [
    "module",
    "function",
    "builtin_function_or_method",
    "instance",
    "_Feature"
   ],
   "window_display": false
  }
 },
 "nbformat": 4,
 "nbformat_minor": 2
}
