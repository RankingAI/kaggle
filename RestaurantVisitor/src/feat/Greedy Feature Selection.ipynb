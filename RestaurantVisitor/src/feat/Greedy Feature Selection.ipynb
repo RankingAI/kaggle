{
 "cells": [
  {
   "cell_type": "code",
   "execution_count": 12,
   "metadata": {
    "ExecuteTime": {
     "end_time": "2018-01-23T16:19:01.866179Z",
     "start_time": "2018-01-23T16:19:01.807138Z"
    }
   },
   "outputs": [],
   "source": [
    "import json\n",
    "import pandas as pd\n",
    "import dill as pickle\n",
    "\n",
    "class DataUtil2:\n",
    "    \"\"\"\"\"\"\n",
    "    @classmethod\n",
    "    def load(cls, file, format, date_cols= None):\n",
    "        \"\"\"\"\"\"\n",
    "        data = ''\n",
    "        if(format== 'csv'):\n",
    "            data = pd.read_csv(file, parse_dates= date_cols)\n",
    "        elif(format== 'json'):\n",
    "            with open(file, 'r') as i_file:\n",
    "                data = json.load(file)\n",
    "            i_file.close()\n",
    "        elif(format== 'pkl'):\n",
    "            with open(file, 'rb') as i_file:\n",
    "                data = pickle.load(i_file)\n",
    "            i_file.close()\n",
    "        elif(format == 'hdf'):\n",
    "            data = pd.read_hdf(path_or_buf= file, key='undefined')\n",
    "\n",
    "        return  data\n",
    "\n",
    "    @classmethod\n",
    "    def save(cls, data, file, format, precision= 8):\n",
    "        \"\"\"\"\"\"\n",
    "        if(format == 'csv'):\n",
    "            data.to_csv(file, float_format= '%%.%df' % precision, index= False)\n",
    "        elif(format == 'json'):\n",
    "            with open(file, 'w') as o_file:\n",
    "                json.dump(data, o_file, ensure_ascii= True, indent= 4)\n",
    "            o_file.close()\n",
    "        elif(format == 'pkl'):\n",
    "            with open(file, 'wb') as o_file:\n",
    "                pickle.dump(data, o_file, -1)\n",
    "            o_file.close()\n",
    "        elif(format== 'hdf'):\n",
    "            data.to_hdf(path_or_buf= file, key='undefined', mode='w', complib='blosc')\n",
    "\n",
    "        return"
   ]
  },
  {
   "cell_type": "code",
   "execution_count": null,
   "metadata": {
    "ExecuteTime": {
     "start_time": "2018-01-23T16:19:01.805Z"
    }
   },
   "outputs": [
    {
     "name": "stderr",
     "output_type": "stream",
     "text": [
      "/Users/yuanpingzhou/miniconda3/lib/python3.6/site-packages/IPython/core/interactiveshell.py:2698: DtypeWarning: Columns (23) have mixed types. Specify dtype option on import or set low_memory=False.\n",
      "  interactivity=interactivity, compiler=compiler, result=result)\n"
     ]
    }
   ],
   "source": [
    "import numpy as np\n",
    "import pandas as pd\n",
    "import datetime\n",
    "import time\n",
    "import os,sys\n",
    "import gc\n",
    "from sklearn import *\n",
    "import lightgbm\n",
    "from itertools import combinations\n",
    "import math\n",
    "from scipy.special import erfinv\n",
    "\n",
    "drop_cols = ['id', 'visit_date', 'visitors', 'hpg_store_id', 'fold', 'air_store_id', \n",
    "             'air_reserved_visitors', 'hpg_reserved_visitors','reserved_visitors']\n",
    "DataBaseDir = '../../data'\n",
    "InputDir = '%s/l0/kfold' % DataBaseDir\n",
    "MetaInputDir = '%s/meta/kfold' % DataBaseDir\n",
    "OutputDir = '%s/l1/kfold' % DataBaseDir\n",
    "kfold = 5\n",
    "seed_num = 1\n",
    "strategy = 'lgb_l2'\n",
    "start_time = datetime.datetime.now()\n",
    "#### load data\n",
    "valid_dfs = []\n",
    "holdout_dfs = []\n",
    "test_dfs = []\n",
    "meta_feats = ['nn_ef', 'knn_2', 'knn_4', 'knn_8', 'knn_16', 'knn_32', 'knn_64', 'knn_128', 'knn_256', 'knn_512', 'knn_1024']\n",
    "for fold in range(kfold):\n",
    "    FoldInputDir = '%s/%s' % (InputDir, fold)\n",
    "    valid = pd.read_csv('%s/valid.csv' % FoldInputDir, parse_dates= ['visit_date']).reset_index(drop= True)\n",
    "    holdout = pd.read_csv('%s/holdout.csv' % FoldInputDir, parse_dates= ['visit_date']).reset_index(drop= True)\n",
    "    test = pd.read_csv('%s/test.csv' % FoldInputDir, parse_dates= ['visit_date']).reset_index(drop= True)\n",
    "    for t in meta_feats:\n",
    "        # load cb_ef\n",
    "        FoldOutputDir = '%s/%s' % (MetaInputDir, fold)\n",
    "        valid_cb_ef = pd.read_csv('%s/valid_%s.csv' % (FoldOutputDir, t), parse_dates= ['visit_date']).reset_index(drop= True)\n",
    "        holdout_cb_ef = pd.read_csv('%s/holdout_%s.csv' % (FoldOutputDir, t), parse_dates= ['visit_date']).reset_index(drop= True)\n",
    "        test_cb_ef = pd.read_csv('%s/test_%s.csv' % (FoldOutputDir, t), parse_dates= ['visit_date']).reset_index(drop= True)\n",
    "        # concate\n",
    "        valid = pd.concat([valid, valid_cb_ef[[t]]], axis= 1)\n",
    "        holdout = pd.concat([holdout, holdout_cb_ef[[t]]], axis= 1)\n",
    "        test = pd.concat([test, test_cb_ef[[t]]], axis= 1)\n",
    "    #\n",
    "    valid['fold'] = fold\n",
    "    valid_dfs.append(valid)\n",
    "    holdout_dfs.append(holdout)\n",
    "    test_dfs.append(test)\n",
    "TrainData = pd.concat(valid_dfs, axis= 0, ignore_index= True)"
   ]
  },
  {
   "cell_type": "code",
   "execution_count": null,
   "metadata": {
    "ExecuteTime": {
     "start_time": "2018-01-23T16:19:01.808Z"
    }
   },
   "outputs": [],
   "source": [
    "kfold = 5\n",
    "verbose = True\n",
    "\n",
    "def RMSLE(y, pred):\n",
    "    return metrics.mean_squared_error(y, pred) ** 0.5\n",
    "\n",
    "def EvaluateFeature(feats):\n",
    "    cv_rmlse = .0\n",
    "    for fold in range(kfold):\n",
    "        FoldData = {\n",
    "            'train': TrainData[TrainData['fold'] != fold],\n",
    "            'valid': TrainData[TrainData['fold'] == fold]\n",
    "        }\n",
    "        model = linear_model.ElasticNet(alpha= 0.0004, l1_ratio= 0.2, max_iter= 350, tol= 1e-4, selection= 'random', random_state= 2017)\n",
    "        model.fit(FoldData['train'][feats].astype(np.float32, copy=False), FoldData['train']['visitors'].values.astype(np.float32, copy=False))\n",
    "        # for valid\n",
    "        pred = model.predict(FoldData['valid'][feats])\n",
    "        rmsle_valid = RMSLE(FoldData['valid']['visitors'].values, pred)\n",
    "        cv_rmlse += rmsle_valid\n",
    "    return cv_rmlse/kfold\n",
    "\n",
    "all_feats = [c for c in TrainData.columns if c not in drop_cols]\n",
    "# all_feats = meta_feats\n",
    "\n",
    "start = time.time()\n",
    "score_history = []\n",
    "good_features = set([])\n",
    "while len(score_history) < 2 or score_history[-1][0] < score_history[-2][0]:\n",
    "    scores = []\n",
    "    for feature in all_feats:\n",
    "        if feature not in good_features:\n",
    "            selected_features = list(good_features) + [feature]\n",
    "            score = EvaluateFeature(selected_features)\n",
    "            scores.append((score, feature))\n",
    "#             if verbose:\n",
    "#                 print(\"feat %s, score %.4f\" % (feature,score))\n",
    "    selected = sorted(scores)[0]\n",
    "    current_feat = selected[1]\n",
    "    current_score = selected[0]\n",
    "    good_features.add(current_feat)\n",
    "    score_history.append(selected)\n",
    "    end = time.time()\n",
    "    if verbose:\n",
    "        improved_score = .0\n",
    "        if(len(score_history) > 1):\n",
    "            improved_score = score_history[-1][0] - score_history[-2][0]\n",
    "        print('====================================')\n",
    "        print('Current master %s, improve score %.5f, time elapsed %.2fs' % (current_feat, improved_score, (end - start)))\n",
    "        print('====================================\\n')\n",
    "        #print(\"iteration %s, current selected feature %s, score %.4f \" % (len(good_features), current_feat, current_score))\n",
    "        #print('current feature set ', good_features)\n",
    "\n",
    "# Remove last added feature\n",
    "good_features.remove(score_history[-1][1])\n",
    "good_features = sorted(list(good_features))\n",
    "if verbose:\n",
    "    print(\"Selected Features : \", good_features)"
   ]
  }
 ],
 "metadata": {
  "kernelspec": {
   "display_name": "Python 3",
   "language": "python",
   "name": "python3"
  },
  "language_info": {
   "codemirror_mode": {
    "name": "ipython",
    "version": 3
   },
   "file_extension": ".py",
   "mimetype": "text/x-python",
   "name": "python",
   "nbconvert_exporter": "python",
   "pygments_lexer": "ipython3",
   "version": "3.6.1"
  },
  "varInspector": {
   "cols": {
    "lenName": 16,
    "lenType": 16,
    "lenVar": 40
   },
   "kernels_config": {
    "python": {
     "delete_cmd_postfix": "",
     "delete_cmd_prefix": "del ",
     "library": "var_list.py",
     "varRefreshCmd": "print(var_dic_list())"
    },
    "r": {
     "delete_cmd_postfix": ") ",
     "delete_cmd_prefix": "rm(",
     "library": "var_list.r",
     "varRefreshCmd": "cat(var_dic_list()) "
    }
   },
   "types_to_exclude": [
    "module",
    "function",
    "builtin_function_or_method",
    "instance",
    "_Feature"
   ],
   "window_display": false
  }
 },
 "nbformat": 4,
 "nbformat_minor": 2
}
