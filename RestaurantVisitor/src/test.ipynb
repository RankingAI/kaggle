{
 "cells": [
  {
   "cell_type": "code",
   "execution_count": 7,
   "metadata": {
    "ExecuteTime": {
     "end_time": "2018-01-02T05:47:22.876385Z",
     "start_time": "2018-01-02T05:47:22.869639Z"
    }
   },
   "outputs": [
    {
     "name": "stdout",
     "output_type": "stream",
     "text": [
      "(2,)\n"
     ]
    }
   ],
   "source": [
    "# import pandas as pd\n",
    "# import numpy as np\n",
    "# import sys\n",
    "# from keras.models import Sequential\n",
    "# from keras.layers.core import Dense, Activation, Reshape\n",
    "# from keras.layers.embeddings import Embedding\n",
    "# from keras.layers import Merge\n",
    "# print(sys.version_info)\n",
    "\n",
    "# input_array = np.random.randint(1000, size=(32, 10))\n",
    "\n",
    "# model = Sequential()\n",
    "# model.add(Embedding(1000, 64, input_length=10))\n",
    "\n",
    "# model.compile('rmsprop', 'mse')\n",
    "# output_array = model.predict(input_array)\n",
    "\n",
    "# print(output_array)\n",
    "\n",
    "import numpy as np\n",
    "\n",
    "ar = np.array((10, 20))\n",
    "print(ar.shape)"
   ]
  },
  {
   "cell_type": "code",
   "execution_count": 1,
   "metadata": {
    "ExecuteTime": {
     "end_time": "2018-01-02T06:30:41.839930Z",
     "start_time": "2018-01-02T06:30:41.393865Z"
    }
   },
   "outputs": [
    {
     "name": "stdout",
     "output_type": "stream",
     "text": [
      "['apple' 'banana' 'cherry' 'apple' 'orange' 'peanout']\n"
     ]
    }
   ],
   "source": [
    "import pandas as pd\n",
    "import numpy as np\n",
    "df1 = pd.DataFrame(data = [['apple', 3, 5, 7], ['banana', 4, 4, 8], ['cherry', 7, 1, 3], ['apple', 3, 4, 7], ['orange', 5, 2, 8], ['peanout', 2, 9, 6]], index= range(6), columns= ['a', 'b', 'c', 'd'])\n",
    "df2 = pd.DataFrame(data = [['apple', 10, 5, 7], ['banana', 6, 4, 8], ['cherry', np.nan, 1, 3], ['apple', 7, 4, 7], ['orange', np.nan, 2, 8], ['peanout', 2, 9, 6]], index= range(6), columns= ['a', 'b', 'c', 'd'])\n",
    "\n",
    "print(df1.values[...,0])"
   ]
  },
  {
   "cell_type": "code",
   "execution_count": 2,
   "metadata": {
    "ExecuteTime": {
     "end_time": "2017-12-21T13:58:59.552260Z",
     "start_time": "2017-12-21T13:58:59.519309Z"
    }
   },
   "outputs": [
    {
     "data": {
      "text/html": [
       "<div>\n",
       "<style>\n",
       "    .dataframe thead tr:only-child th {\n",
       "        text-align: right;\n",
       "    }\n",
       "\n",
       "    .dataframe thead th {\n",
       "        text-align: left;\n",
       "    }\n",
       "\n",
       "    .dataframe tbody tr th {\n",
       "        vertical-align: top;\n",
       "    }\n",
       "</style>\n",
       "<table border=\"1\" class=\"dataframe\">\n",
       "  <thead>\n",
       "    <tr style=\"text-align: right;\">\n",
       "      <th></th>\n",
       "      <th>a</th>\n",
       "      <th>b</th>\n",
       "      <th>c</th>\n",
       "      <th>d</th>\n",
       "      <th>e</th>\n",
       "    </tr>\n",
       "  </thead>\n",
       "  <tbody>\n",
       "    <tr>\n",
       "      <th>0</th>\n",
       "      <td>apple</td>\n",
       "      <td>3</td>\n",
       "      <td>4.5</td>\n",
       "      <td>7</td>\n",
       "      <td>0.5</td>\n",
       "    </tr>\n",
       "    <tr>\n",
       "      <th>1</th>\n",
       "      <td>banana</td>\n",
       "      <td>4</td>\n",
       "      <td>4.0</td>\n",
       "      <td>8</td>\n",
       "      <td>0.0</td>\n",
       "    </tr>\n",
       "    <tr>\n",
       "      <th>2</th>\n",
       "      <td>cherry</td>\n",
       "      <td>7</td>\n",
       "      <td>1.0</td>\n",
       "      <td>3</td>\n",
       "      <td>0.0</td>\n",
       "    </tr>\n",
       "    <tr>\n",
       "      <th>3</th>\n",
       "      <td>orange</td>\n",
       "      <td>5</td>\n",
       "      <td>2.0</td>\n",
       "      <td>8</td>\n",
       "      <td>0.0</td>\n",
       "    </tr>\n",
       "    <tr>\n",
       "      <th>4</th>\n",
       "      <td>peanout</td>\n",
       "      <td>2</td>\n",
       "      <td>9.0</td>\n",
       "      <td>6</td>\n",
       "      <td>0.0</td>\n",
       "    </tr>\n",
       "  </tbody>\n",
       "</table>\n",
       "</div>"
      ],
      "text/plain": [
       "         a  b    c  d    e\n",
       "0    apple  3  4.5  7  0.5\n",
       "1   banana  4  4.0  8  0.0\n",
       "2   cherry  7  1.0  3  0.0\n",
       "3   orange  5  2.0  8  0.0\n",
       "4  peanout  2  9.0  6  0.0"
      ]
     },
     "execution_count": 2,
     "metadata": {},
     "output_type": "execute_result"
    }
   ],
   "source": [
    "def pop_std(x):\n",
    "    return x.std(ddof=0)\n",
    "\n",
    "result = df.groupby(['a'], as_index=False).agg({'c':['mean',pop_std],'b':'first', 'd':'first'})\n",
    "\n",
    "result.columns = ['a','c','e','b','d']\n",
    "result.reindex(columns=sorted(result.columns))"
   ]
  },
  {
   "cell_type": "code",
   "execution_count": 3,
   "metadata": {
    "ExecuteTime": {
     "end_time": "2017-12-21T13:58:59.558979Z",
     "start_time": "2017-12-21T13:58:59.554324Z"
    }
   },
   "outputs": [],
   "source": [
    "np.random.seed(2017)\n",
    "msk = np.random.rand(len(df)) < 0.1\n",
    "holdout = df[msk]\n",
    "train = df[~msk]"
   ]
  },
  {
   "cell_type": "code",
   "execution_count": 15,
   "metadata": {
    "ExecuteTime": {
     "end_time": "2017-12-26T04:49:53.275404Z",
     "start_time": "2017-12-26T04:49:53.222428Z"
    }
   },
   "outputs": [
    {
     "name": "stdout",
     "output_type": "stream",
     "text": [
      "0.0\n",
      "0.166666666667\n",
      "0.333333333333\n",
      "0.5\n",
      "0.5\n"
     ]
    }
   ],
   "source": [
    "import numpy as np\n",
    "import pandas as pd\n",
    "import sys\n",
    "\n",
    "def ComputeAUC(truth, predict):\n",
    "    ''''''\n",
    "    n = len(truth)\n",
    "    #\n",
    "    pos_num = np.sum(truth)\n",
    "    neg_num = len(truth) - pos_num\n",
    "    #\n",
    "    pairs = zip(truth, predict)\n",
    "    sorted_pairs = sorted(pairs, key= lambda x: x[1])\n",
    "    sorted_truth = [s[0] for s in sorted_pairs]\n",
    "    #\n",
    "    auc = 0.0\n",
    "    x = np.zeros((n), dtype= 'float')\n",
    "    y = np.zeros((n), dtype= 'float')\n",
    "    x[0] = 1.0\n",
    "    y[0] = 1.0\n",
    "    for i in range(1, n):\n",
    "        a = (n - i - np.sum(sorted_truth[i:n]))/neg_num\n",
    "        b = np.sum(sorted_truth[i:n])/pos_num\n",
    "        x[i] = a\n",
    "        y[i] = b\n",
    "        auc += ((y[i] + y[i - 1]) * (x[i - 1] - x[i]))/2.0\n",
    "    auc += (y[n - 1] * x[n - 1])/2.0\n",
    "    \n",
    "    return auc\n",
    "\n",
    "a = [1, 1, 0, 0, 0]\n",
    "b = [0.8, 0.1, 0.4, 0.6, 0.2]\n",
    "\n",
    "auc = ComputeAUC(a, b)\n",
    "print(auc)"
   ]
  },
  {
   "cell_type": "code",
   "execution_count": 6,
   "metadata": {
    "ExecuteTime": {
     "end_time": "2017-12-27T04:39:21.812645Z",
     "start_time": "2017-12-27T04:39:21.805089Z"
    }
   },
   "outputs": [
    {
     "name": "stdout",
     "output_type": "stream",
     "text": [
      "[ True False False  True False False  True False False False]\n",
      "[ True False False  True False False  True False False False]\n",
      "[ True False False  True False False  True False False False]\n"
     ]
    }
   ],
   "source": [
    "import numpy as np\n",
    "R = 3\n",
    "for i in range(R):\n",
    "    np.random.seed(2017)\n",
    "    msk = np.random.rand(10) < 0.2\n",
    "    np.random.seed(2018)\n",
    "    print(msk)"
   ]
  },
  {
   "cell_type": "code",
   "execution_count": 15,
   "metadata": {
    "ExecuteTime": {
     "end_time": "2017-12-28T03:13:38.905354Z",
     "start_time": "2017-12-28T03:13:38.864557Z"
    }
   },
   "outputs": [
    {
     "name": "stdout",
     "output_type": "stream",
     "text": [
      "['apple' 'bag' 'banana' 'book' 'cherry' 'dog' 'orange' 'peanout']\n",
      "         a   b   c   d  apple  bag  banana  book  cherry  dog  orange  peanout\n",
      "0    apple   3   5   7    1.0  0.0     0.0   0.0     0.0  0.0     0.0      0.0\n",
      "1   banana   4   4   8    0.0  0.0     0.0   0.0     0.0  1.0     0.0      0.0\n",
      "2   cherry   7   1   3    0.0  0.0     0.0   0.0     0.0  0.0     0.0      0.0\n",
      "3    apple   3   4   7    NaN  NaN     NaN   NaN     NaN  NaN     NaN      NaN\n",
      "4   orange   5   2   8    NaN  NaN     NaN   NaN     NaN  NaN     NaN      NaN\n",
      "5  peanout   2   9   6    NaN  NaN     NaN   NaN     NaN  NaN     NaN      NaN\n",
      "6     book  38  20  35    NaN  NaN     NaN   NaN     NaN  NaN     NaN      NaN\n",
      "7      dog   1  22  10    NaN  NaN     NaN   NaN     NaN  NaN     NaN      NaN\n",
      "8      bag   2   9  11    NaN  NaN     NaN   NaN     NaN  NaN     NaN      NaN\n"
     ]
    }
   ],
   "source": [
    "from sklearn import *\n",
    "import pandas as pd\n",
    "import numpy as np\n",
    "\n",
    "df = pd.DataFrame(data = [['apple', 3, 5, 7], \n",
    "                          ['banana', 4, 4, 8], \n",
    "                          ['cherry', 7, 1, 3], \n",
    "                          ['apple', 3, 4, 7], \n",
    "                          ['orange', 5, 2, 8], \n",
    "                          ['peanout', 2, 9, 6], \n",
    "                          ['book', 38, 20, 35], \n",
    "                          ['dog', 1, 22, 10], \n",
    "                          ['bag', 2, 9, 11]], index= range(9), columns= ['a', 'b', 'c', 'd'])\n",
    "# K = 3\n",
    "# kf = model_selection.KFold(n_splits = K, random_state = 1, shuffle = True)\n",
    "# np.random.seed(1)\n",
    "\n",
    "# for i, (train_index, test_index) in enumerate(kf.split(df)):\n",
    "#     print('---------- fold %s' % i)\n",
    "#     print(train_index)\n",
    "    \n",
    "from sklearn.preprocessing import LabelBinarizer \n",
    "from numpy import array\n",
    "#from keras.utils import to_categorical\n",
    "\n",
    "label_binarizer = LabelBinarizer()\n",
    "label_binarizer.fit(df['a']) \n",
    "ret = pd.DataFrame(data= label_binarizer.transform(['apple', 'dog', 'mobile']), \n",
    "                   index= range(3), \n",
    "                   columns= label_binarizer.classes_)\n",
    "df = pd.concat([df, ret], axis= 1)\n",
    "print(df)"
   ]
  },
  {
   "cell_type": "code",
   "execution_count": null,
   "metadata": {},
   "outputs": [],
   "source": []
  }
 ],
 "metadata": {
  "anaconda-cloud": {},
  "kernelspec": {
   "display_name": "Python 3",
   "language": "python",
   "name": "python3"
  },
  "language_info": {
   "codemirror_mode": {
    "name": "ipython",
    "version": 3
   },
   "file_extension": ".py",
   "mimetype": "text/x-python",
   "name": "python",
   "nbconvert_exporter": "python",
   "pygments_lexer": "ipython3",
   "version": "3.6.1"
  },
  "varInspector": {
   "cols": {
    "lenName": 16,
    "lenType": 16,
    "lenVar": 40
   },
   "kernels_config": {
    "python": {
     "delete_cmd_postfix": "",
     "delete_cmd_prefix": "del ",
     "library": "var_list.py",
     "varRefreshCmd": "print(var_dic_list())"
    },
    "r": {
     "delete_cmd_postfix": ") ",
     "delete_cmd_prefix": "rm(",
     "library": "var_list.r",
     "varRefreshCmd": "cat(var_dic_list()) "
    }
   },
   "types_to_exclude": [
    "module",
    "function",
    "builtin_function_or_method",
    "instance",
    "_Feature"
   ],
   "window_display": false
  }
 },
 "nbformat": 4,
 "nbformat_minor": 1
}
