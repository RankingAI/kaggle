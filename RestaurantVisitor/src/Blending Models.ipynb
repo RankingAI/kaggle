{
 "cells": [
  {
   "cell_type": "code",
   "execution_count": 6,
   "metadata": {
    "ExecuteTime": {
     "end_time": "2017-12-20T05:32:28.785161Z",
     "start_time": "2017-12-20T05:32:28.586714Z"
    }
   },
   "outputs": [
    {
     "data": {
      "text/plain": [
       "0"
      ]
     },
     "execution_count": 6,
     "metadata": {},
     "output_type": "execute_result"
    }
   ],
   "source": [
    "## ensemble of LGB and TDWA\n",
    "import pandas as pd\n",
    "import datetime\n",
    "import os,sys\n",
    "\n",
    "TDWAFileName = 'TDWA_submit_%s' % (datetime.datetime.now().strftime(\"%Y-%m-%d\"))\n",
    "LGBFileName = 'lgb_submit_%s' % (datetime.datetime.now().strftime(\"%Y-%m-%d\"))\n",
    "TDWA = pd.read_csv('../../data/submit/%s.csv' % TDWAFileName)\n",
    "LGB = pd.read_csv('../../data/l1/submit/%s.csv' % LGBFileName)\n",
    "averaged = TDWA\n",
    "averaged['visitors'] = (averaged['visitors'] + LGB['visitors']) / 2\n",
    "OutputFileName = 'TDWA_LGB_sqr_submit_%s' % (datetime.datetime.now().strftime(\"%Y-%m-%d\"))\n",
    "averaged[['id', 'visitors']].to_csv('%s.csv' % OutputFileName, float_format='%.6f', index=False)\n",
    "os.system('zip %s.zip %s.csv' % (OutputFileName, OutputFileName))"
   ]
  },
  {
   "cell_type": "code",
   "execution_count": 8,
   "metadata": {
    "ExecuteTime": {
     "end_time": "2017-12-20T08:01:05.655570Z",
     "start_time": "2017-12-20T08:01:05.417303Z"
    }
   },
   "outputs": [
    {
     "data": {
      "text/plain": [
       "0"
      ]
     },
     "execution_count": 8,
     "metadata": {},
     "output_type": "execute_result"
    }
   ],
   "source": [
    "## ensemble of LGB, TDWA, and ETR\n",
    "import pandas as pd\n",
    "import datetime\n",
    "import os,sys\n",
    "\n",
    "TDWAFileName = 'TDWA_submit_%s' % (datetime.datetime.now().strftime(\"%Y-%m-%d\"))\n",
    "LGBFileName = 'lgb_submit_%s' % (datetime.datetime.now().strftime(\"%Y-%m-%d\"))\n",
    "ETRFileName = 'etr_submit_%s' % (datetime.datetime.now().strftime(\"%Y-%m-%d\"))\n",
    "TDWA = pd.read_csv('../../data/submit/%s.csv' % TDWAFileName)\n",
    "LGB = pd.read_csv('../../data/submit/%s.csv' % LGBFileName)\n",
    "ETR = pd.read_csv('../../data/submit/%s.csv' % ETRFileName)\n",
    "averaged = TDWA\n",
    "averaged['visitors'] = 0.6 * averaged['visitors'] + 0.2 * LGB['visitors'] + 0.2 * ETR['visitors']\n",
    "#averaged['visitors'] = (averaged['visitors'] + LGB['visitors'] + ETR['visitors'])/3\n",
    "OutputFileName = '../../data/submit/TDWA_LGB_ETR_submit_%s' % (datetime.datetime.now().strftime(\"%Y-%m-%d\"))\n",
    "averaged[['id', 'visitors']].to_csv('%s.csv' % OutputFileName, float_format='%.6f', index=False)\n",
    "os.system('zip %s.zip %s.csv' % (OutputFileName, OutputFileName))"
   ]
  },
  {
   "cell_type": "code",
   "execution_count": 5,
   "metadata": {
    "ExecuteTime": {
     "end_time": "2017-12-25T10:07:17.890308Z",
     "start_time": "2017-12-25T10:07:17.623971Z"
    }
   },
   "outputs": [
    {
     "data": {
      "text/plain": [
       "0"
      ]
     },
     "execution_count": 5,
     "metadata": {},
     "output_type": "execute_result"
    }
   ],
   "source": [
    "## average of l1_en and TDWA\n",
    "import pandas as pd\n",
    "import datetime\n",
    "import os,sys\n",
    "\n",
    "TDWAFileName = 'TDWA_submit_%s' % (datetime.datetime.now().strftime(\"%Y-%m-%d\"))\n",
    "L1ENFileName = 'en_submit_%s' % (datetime.datetime.now().strftime(\"%Y-%m-%d\"))\n",
    "L1LLFileName = 'lassolars_submit_%s' % (datetime.datetime.now().strftime(\"%Y-%m-%d\"))\n",
    "L1LFFileName = 'lgb_fair_submit_%s' % (datetime.datetime.now().strftime(\"%Y-%m-%d\"))\n",
    "TDWA = pd.read_csv('../../data/submit/%s.csv' % TDWAFileName)\n",
    "L1EN = pd.read_csv('../../data/l2/submit/%s.csv' % L1ENFileName)\n",
    "L1LL = pd.read_csv('../../data/l2/submit/%s.csv' % L1LLFileName)\n",
    "L1LF = pd.read_csv('../../data/l2/submit/%s.csv' % L1LFFileName)\n",
    "\n",
    "\n",
    "averaged = TDWA\n",
    "averaged['visitors'] = (averaged['visitors'] + L1EN['visitors'] + L1LL['visitors'] + L1LF['visitors'])/4  # + 0.2 * L1LH['visitors']\n",
    "#averaged['visitors'] = (averaged['visitors'] + L1EN['visitors'])/2\n",
    "OutputFileName = '../../data/submit/TDWA_L1EN_L1LL_L1LF_submit_%s' % (datetime.datetime.now().strftime(\"%Y-%m-%d\"))\n",
    "averaged[['id', 'visitors']].to_csv('%s.csv' % OutputFileName, float_format='%.6f', index=False)\n",
    "os.system('zip %s.zip %s.csv' % (OutputFileName, OutputFileName))\n"
   ]
  },
  {
   "cell_type": "code",
   "execution_count": null,
   "metadata": {},
   "outputs": [],
   "source": []
  }
 ],
 "metadata": {
  "kernelspec": {
   "display_name": "Python 3",
   "language": "python",
   "name": "python3"
  },
  "language_info": {
   "codemirror_mode": {
    "name": "ipython",
    "version": 3
   },
   "file_extension": ".py",
   "mimetype": "text/x-python",
   "name": "python",
   "nbconvert_exporter": "python",
   "pygments_lexer": "ipython3",
   "version": "3.6.1"
  },
  "varInspector": {
   "cols": {
    "lenName": 16,
    "lenType": 16,
    "lenVar": 40
   },
   "kernels_config": {
    "python": {
     "delete_cmd_postfix": "",
     "delete_cmd_prefix": "del ",
     "library": "var_list.py",
     "varRefreshCmd": "print(var_dic_list())"
    },
    "r": {
     "delete_cmd_postfix": ") ",
     "delete_cmd_prefix": "rm(",
     "library": "var_list.r",
     "varRefreshCmd": "cat(var_dic_list()) "
    }
   },
   "types_to_exclude": [
    "module",
    "function",
    "builtin_function_or_method",
    "instance",
    "_Feature"
   ],
   "window_display": false
  }
 },
 "nbformat": 4,
 "nbformat_minor": 2
}
