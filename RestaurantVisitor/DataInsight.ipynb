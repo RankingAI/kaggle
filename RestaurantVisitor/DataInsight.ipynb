{
 "cells": [
  {
   "cell_type": "code",
   "execution_count": 1,
   "metadata": {
    "ExecuteTime": {
     "end_time": "2017-12-15T08:43:09.284530Z",
     "start_time": "2017-12-15T08:43:08.200517Z"
    },
    "collapsed": true
   },
   "outputs": [],
   "source": [
    "import numpy as np\n",
    "import pandas as pd\n",
    "#from datetime import datetime\n",
    "import datetime\n",
    "import time\n",
    "import numba\n",
    "import os,sys\n",
    "\n",
    "def LoadData(InputDir):\n",
    "    \"\"\"\"\"\"\n",
    "    ## load raw data\n",
    "    data = {\n",
    "        'tra': pd.read_csv('%s/air_visit_data.csv' % InputDir, parse_dates= ['visit_date']),\n",
    "        'as': pd.read_csv('%s/air_store_info.csv' % InputDir),\n",
    "        'hs': pd.read_csv('%s/hpg_store_info.csv' % InputDir),\n",
    "        'ar': pd.read_csv('%s/air_reserve.csv' % InputDir, parse_dates= ['visit_datetime', 'reserve_datetime']),\n",
    "        'hr': pd.read_csv('%s/hpg_reserve.csv' % InputDir, parse_dates= ['visit_datetime', 'reserve_datetime']),\n",
    "        'id': pd.read_csv('%s/store_id_relation.csv' % InputDir),\n",
    "        'tes': pd.read_csv('%s/sample_submission.csv' % InputDir),\n",
    "        'hol': pd.read_csv('%s/date_info.csv' % InputDir, parse_dates=['calendar_date']).rename(columns={'calendar_date': 'visit_date'})\n",
    "    }\n",
    "    return data\n",
    "\n",
    "@numba.jit\n",
    "def ApplyDayoff(VisitCols, ReserveCols):\n",
    "    \"\"\"\"\"\"\n",
    "    n = len(VisitCols)\n",
    "    result = np.zeros((n, 1), dtype= 'int8')\n",
    "    for i in range(n):\n",
    "        result[i] = (VisitCols[i]- ReserveCols[i]).days\n",
    "    return result"
   ]
  },
  {
   "cell_type": "code",
   "execution_count": 2,
   "metadata": {
    "ExecuteTime": {
     "end_time": "2017-12-15T08:44:27.096044Z",
     "start_time": "2017-12-15T08:44:11.286470Z"
    }
   },
   "outputs": [
    {
     "name": "stdout",
     "output_type": "stream",
     "text": [
      "\n",
      "============\n",
      "tra data: unique stores 829, total 252108, time elased 0.71s.\n",
      "tes data: unique stores 821, total 32019, time elased 0.13s.\n",
      "\n",
      "time-consuming part 10.43.\n",
      "time-consuming part 0.46.\n",
      "=============\n",
      "process date done, time consumed 11.02.\n",
      "\n"
     ]
    }
   ],
   "source": [
    "mod2id = {'ar': 'air', 'hr': 'hpg'}\n",
    "### load data set\n",
    "InputDir = '../../data/raw'\n",
    "DataSet = LoadData(InputDir)\n",
    "\n",
    "### date related features\n",
    "print('\\n============')\n",
    "for mod in ['tra', 'tes']:\n",
    "    start0 = time.time()\n",
    "    if (mod == 'tes'):\n",
    "        DataSet[mod]['visit_date'] = DataSet[mod]['id'].map(lambda x: str(x).split('_')[2])\n",
    "        DataSet[mod]['air_store_id'] = DataSet[mod]['id'].map(lambda x: '_'.join(x.split('_')[:2]))\n",
    "        DataSet[mod]['visit_date'] = pd.to_datetime(DataSet[mod]['visit_date'])\n",
    "    DataSet[mod]['dow'] = DataSet[mod]['visit_date'].dt.dayofweek\n",
    "    DataSet[mod]['year'] = DataSet[mod]['visit_date'].dt.year\n",
    "    DataSet[mod]['month'] = DataSet[mod]['visit_date'].dt.month\n",
    "    DataSet[mod]['visit_date'] = DataSet[mod]['visit_date'].dt.date\n",
    "    end0 = time.time()\n",
    "    print('%s data: unique stores %s, total %s, time elased %.2fs.' %\n",
    "            (mod, len(DataSet[mod]['air_store_id'].unique()), len(DataSet[mod]['air_store_id']), (end0 - start0)))\n",
    "print('')\n",
    "# for reservation data\n",
    "for mod in ['hr', 'ar']:\n",
    "    start1 = time.time()\n",
    "    DataSet[mod]['visit_date'] = DataSet[mod]['visit_datetime'].dt.date\n",
    "    DataSet[mod].drop(['visit_datetime'], axis= 1, inplace= True)\n",
    "    DataSet[mod]['reserve_date'] = DataSet[mod]['reserve_datetime'].dt.date\n",
    "    DataSet[mod].drop(['reserve_datetime'], axis= 1, inplace= True)\n",
    "    end1 = time.time()\n",
    "    print('time-consuming part %.2f.' % (end1 - start1))\n",
    "end0 = time.time()\n",
    "print('=============')\n",
    "print('process date done, time consumed %.2f.\\n' % (end0 - start0))"
   ]
  },
  {
   "cell_type": "code",
   "execution_count": 19,
   "metadata": {
    "ExecuteTime": {
     "end_time": "2017-12-15T09:19:03.773714Z",
     "start_time": "2017-12-15T09:19:03.758125Z"
    }
   },
   "outputs": [
    {
     "data": {
      "text/plain": [
       "array(['air_ba937bf13d40fb24', 'air_25e9888d30b386df',\n",
       "       'air_8e4360a64dbd4c50', 'air_35512c42db0868da',\n",
       "       'air_a271c9ba19e81d17', 'air_fd6aac1043520e83',\n",
       "       'air_64d4491ad8cdb1c6', 'air_cf22e368c1a71d53',\n",
       "       'air_f3f9824b7d70c3cf', 'air_820d1919cbecaa0a',\n",
       "       'air_9ae7081cb77dc51e', 'air_d69b08a175bc0387',\n",
       "       'air_ee3a01f0c71a769f', 'air_9438d67241c81314',\n",
       "       'air_3e93f3c81008696d', 'air_cb935ff8610ba3d3',\n",
       "       'air_9bf595ef095572fb', 'air_876d7a23c47811cb',\n",
       "       'air_6902e4ec305b3d08', 'air_cd5f54969be9ed08',\n",
       "       'air_d0e8a085d8dc83aa', 'air_5c65468938c07fa5',\n",
       "       'air_e8ed9335d0c38333', 'air_9fc607777ad76b26',\n",
       "       'air_b80fed1a07c817d2', 'air_45326ebb8dc72cfb',\n",
       "       'air_6ca1d941c8199a67', 'air_37189c92b6c761ec',\n",
       "       'air_7514d90009613cd6', 'air_8b4a46dc521bfcfe',\n",
       "       'air_326ca454ef3558bc', 'air_7ef9a5ea5c8fe39f',\n",
       "       'air_831658500aa7c846', 'air_eec5e572b9eb9c23',\n",
       "       'air_90f0efbb702d77b7', 'air_256be208a979e023',\n",
       "       'air_324f7c39a8410e7c', 'air_938ef91ecdde6878',\n",
       "       'air_5d7c744c3a2ef624', 'air_1c0b150f9e696a5f',\n",
       "       'air_8f13ef0f5e8c64dd', 'air_f8233ad00755c35c',\n",
       "       'air_d00161e19f08290b', 'air_c47aa7493b15f297',\n",
       "       'air_51281cd059d7b89b', 'air_082908692355165e',\n",
       "       'air_fcfbdcf7b1f82c6e', 'air_d07e57b21109304a',\n",
       "       'air_bcce1ea4350b7b72', 'air_627cabe2fe53f33f'], dtype=object)"
      ]
     },
     "execution_count": 19,
     "metadata": {},
     "output_type": "execute_result"
    }
   ],
   "source": [
    "DataSet['tra']['air_store_id'].unique()[:50]"
   ]
  },
  {
   "cell_type": "code",
   "execution_count": 20,
   "metadata": {
    "ExecuteTime": {
     "end_time": "2017-12-15T09:21:30.545056Z",
     "start_time": "2017-12-15T09:21:30.145590Z"
    }
   },
   "outputs": [
    {
     "data": {
      "image/png": "[encoded data removed]",
      "text/plain": [
       "<matplotlib.figure.Figure at 0x117f16fd0>"
      ]
     },
     "metadata": {},
     "output_type": "display_data"
    }
   ],
   "source": [
    "from pylab import *\n",
    "import matplotlib as mpl\n",
    "import datetime\n",
    "\n",
    "sid = 'air_082908692355165e'\n",
    "\n",
    "data = DataSet['tra']\n",
    "partial1 = data[(data['air_store_id'] == sid) & (data['visit_date'] >= datetime.date(2016, 3, 1)) & (data['visit_date'] < datetime.date(2016, 4, 1))]\n",
    "partial2 = data[(data['air_store_id'] == sid) & (data['visit_date'] >= datetime.date(2017, 3, 1)) & (data['visit_date'] < datetime.date(2017, 4, 1))]\n",
    "\n",
    "fig = figure()\n",
    "subplot(121)\n",
    "ax = gca()\n",
    "ax.plot_date(partial1['visit_date'], partial1['visitors'], linestyle='-', marker='')\n",
    "# specify formater\n",
    "date_format = mpl.dates.DateFormatter('%Y-%m-%d')\n",
    "# apply formater\n",
    "ax.xaxis.set_major_formatter(date_format)\n",
    "fig.autofmt_xdate(ha='right',bottom=0.0)\n",
    "\n",
    "subplot(122)\n",
    "ax = gca()\n",
    "ax.plot_date(partial2['visit_date'], partial2['visitors'], linestyle='-', marker='')\n",
    "# specify formater\n",
    "date_format = mpl.dates.DateFormatter('%Y-%m-%d')\n",
    "# apply formater\n",
    "ax.xaxis.set_major_formatter(date_format)\n",
    "fig.autofmt_xdate(ha='right',bottom=0.0)\n",
    "\n",
    "fig.autofmt_xdate(ha='right',bottom=0.0)\n",
    "\n",
    "show()"
   ]
  },
  {
   "cell_type": "code",
   "execution_count": 26,
   "metadata": {
    "ExecuteTime": {
     "end_time": "2017-12-15T09:26:53.326288Z",
     "start_time": "2017-12-15T09:26:53.317258Z"
    }
   },
   "outputs": [
    {
     "name": "stdout",
     "output_type": "stream",
     "text": [
      "    visit_date day_of_week  holiday_flg\n",
      "486 2017-05-01      Monday            0\n",
      "487 2017-05-02     Tuesday            0\n",
      "488 2017-05-03   Wednesday            1\n",
      "489 2017-05-04    Thursday            1\n",
      "490 2017-05-05      Friday            1\n",
      "491 2017-05-06    Saturday            0\n",
      "492 2017-05-07      Sunday            0\n",
      "493 2017-05-08      Monday            0\n",
      "494 2017-05-09     Tuesday            0\n",
      "495 2017-05-10   Wednesday            0\n",
      "496 2017-05-11    Thursday            0\n",
      "497 2017-05-12      Friday            0\n",
      "498 2017-05-13    Saturday            0\n",
      "499 2017-05-14      Sunday            0\n",
      "500 2017-05-15      Monday            0\n",
      "501 2017-05-16     Tuesday            0\n",
      "502 2017-05-17   Wednesday            0\n",
      "503 2017-05-18    Thursday            0\n",
      "504 2017-05-19      Friday            0\n",
      "505 2017-05-20    Saturday            0\n",
      "506 2017-05-21      Sunday            0\n",
      "507 2017-05-22      Monday            0\n",
      "508 2017-05-23     Tuesday            0\n",
      "509 2017-05-24   Wednesday            0\n",
      "510 2017-05-25    Thursday            0\n",
      "511 2017-05-26      Friday            0\n",
      "512 2017-05-27    Saturday            0\n",
      "513 2017-05-28      Sunday            0\n",
      "514 2017-05-29      Monday            0\n"
     ]
    }
   ],
   "source": [
    "data = DataSet['hol']\n",
    "partial = data[(data['visit_date'] >= datetime.date(2017, 5, 1)) & (data['visit_date'] < datetime.date(2017, 5, 30))]\n",
    "print(partial)"
   ]
  },
  {
   "cell_type": "code",
   "execution_count": null,
   "metadata": {
    "collapsed": true
   },
   "outputs": [],
   "source": []
  }
 ],
 "metadata": {
  "anaconda-cloud": {},
  "kernelspec": {
   "display_name": "Python 3",
   "language": "python",
   "name": "python3"
  },
  "language_info": {
   "codemirror_mode": {
    "name": "ipython",
    "version": 3
   },
   "file_extension": ".py",
   "mimetype": "text/x-python",
   "name": "python",
   "nbconvert_exporter": "python",
   "pygments_lexer": "ipython3",
   "version": "3.6.1"
  },
  "varInspector": {
   "cols": {
    "lenName": 16,
    "lenType": 16,
    "lenVar": 40
   },
   "kernels_config": {
    "python": {
     "delete_cmd_postfix": "",
     "delete_cmd_prefix": "del ",
     "library": "var_list.py",
     "varRefreshCmd": "print(var_dic_list())"
    },
    "r": {
     "delete_cmd_postfix": ") ",
     "delete_cmd_prefix": "rm(",
     "library": "var_list.r",
     "varRefreshCmd": "cat(var_dic_list()) "
    }
   },
   "types_to_exclude": [
    "module",
    "function",
    "builtin_function_or_method",
    "instance",
    "_Feature"
   ],
   "window_display": false
  }
 },
 "nbformat": 4,
 "nbformat_minor": 1
}
