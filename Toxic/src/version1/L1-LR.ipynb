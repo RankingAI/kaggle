{
 "cells": [
  {
   "cell_type": "code",
   "execution_count": 13,
   "metadata": {
    "ExecuteTime": {
     "end_time": "2018-03-11T14:36:15.392403Z",
     "start_time": "2018-03-11T14:35:51.067746Z"
    }
   },
   "outputs": [
    {
     "name": "stdout",
     "output_type": "stream",
     "text": [
      "fold 0 done.\n",
      "fold 1 done.\n",
      "fold 2 done.\n",
      "fold 3 done.\n",
      "load data done, train 159571\n",
      "[load data] done in 9 s\n"
     ]
    },
    {
     "name": "stderr",
     "output_type": "stream",
     "text": [
      "/Users/yuanpingzhou/miniconda3/lib/python3.6/site-packages/ipykernel_launcher.py:69: SettingWithCopyWarning: \n",
      "A value is trying to be set on a copy of a slice from a DataFrame.\n",
      "Try using .loc[row_indexer,col_indexer] = value instead\n",
      "\n",
      "See the caveats in the documentation: http://pandas.pydata.org/pandas-docs/stable/indexing.html#indexing-view-versus-copy\n",
      "/Users/yuanpingzhou/miniconda3/lib/python3.6/site-packages/ipykernel_launcher.py:83: SettingWithCopyWarning: \n",
      "A value is trying to be set on a copy of a slice from a DataFrame.\n",
      "Try using .loc[row_indexer,col_indexer] = value instead\n",
      "\n",
      "See the caveats in the documentation: http://pandas.pydata.org/pandas-docs/stable/indexing.html#indexing-view-versus-copy\n"
     ]
    },
    {
     "name": "stdout",
     "output_type": "stream",
     "text": [
      "[train for toxic] done in 0 s\n",
      "[train for severe_toxic] done in 0 s\n",
      "[train for obscene] done in 0 s\n",
      "[train for threat] done in 0 s\n",
      "[train for insult] done in 0 s\n",
      "[train for identity_hate] done in 0 s\n",
      "fold 0, score 0.99082\n",
      "[train for toxic] done in 0 s\n",
      "[train for severe_toxic] done in 0 s\n",
      "[train for obscene] done in 0 s\n",
      "[train for threat] done in 0 s\n",
      "[train for insult] done in 0 s\n",
      "[train for identity_hate] done in 0 s\n",
      "fold 1, score 0.99052\n",
      "[train for toxic] done in 0 s\n",
      "[train for severe_toxic] done in 0 s\n",
      "[train for obscene] done in 0 s\n",
      "[train for threat] done in 0 s\n",
      "[train for insult] done in 0 s\n",
      "[train for identity_hate] done in 0 s\n",
      "fold 2, score 0.99014\n",
      "[train for toxic] done in 0 s\n",
      "[train for severe_toxic] done in 0 s\n",
      "[train for obscene] done in 0 s\n",
      "[train for threat] done in 0 s\n",
      "[train for insult] done in 0 s\n",
      "[train for identity_hate] done in 0 s\n",
      "fold 3, score 0.99134\n",
      "\n",
      "================\n",
      "cv score 0.99071\n",
      "================\n",
      "zip ../../data/version2/l1/submit/l1-lr_submit_2018-03-11.zip ../../data/version2/l1/submit/l1-lr_submit_2018-03-11.csv\n"
     ]
    },
    {
     "data": {
      "text/plain": [
       "0"
      ]
     },
     "execution_count": 13,
     "metadata": {},
     "output_type": "execute_result"
    }
   ],
   "source": [
    "import pandas as pd\n",
    "import numpy as np\n",
    "from contextlib import contextmanager\n",
    "import os,sys,datetime, time\n",
    "from sklearn.metrics import roc_auc_score\n",
    "from sklearn import linear_model\n",
    "from sklearn import svm\n",
    "\n",
    "@contextmanager\n",
    "def timer(name):\n",
    "    \"\"\"\n",
    "    Taken from Konstantin Lopuhin https://www.kaggle.com/lopuhin\n",
    "    in script named : Mercari Golf: 0.3875 CV in 75 LOC, 1900 s\n",
    "    https://www.kaggle.com/lopuhin/mercari-golf-0-3875-cv-in-75-loc-1900-s\n",
    "    \"\"\"\n",
    "    t0 = time.time()\n",
    "    yield\n",
    "    print(f'[{name}] done in {time.time() - t0:.0f} s')\n",
    "\n",
    "kfold = 4\n",
    "DataBaseDir = '../../data/version2'\n",
    "InputDir = '%s/l1' % DataBaseDir\n",
    "OutputDir = '%s/l2' % DataBaseDir\n",
    "targets = ['toxic', 'severe_toxic', 'obscene', 'threat', 'insult', 'identity_hate']\n",
    "strategy = 'l1-lr'\n",
    "meta_models = ['nbsvm', 'bi-gru', 'lr', 'fm-ftrl','bi-gru-glove', 'bi-gru-cnn', 'lgb']\n",
    "drop_cols = ['id', 'fold']\n",
    "\n",
    "# load data\n",
    "valid_dfs = []\n",
    "test_dfs = []\n",
    "with timer('load data'):\n",
    "    for fold in range(kfold):\n",
    "        FoldInputDir = '%s/kfold/%s' % (InputDir, fold)\n",
    "        for i in range(len(meta_models)):\n",
    "            valid = pd.read_csv('%s/valid_%s.csv' % (FoldInputDir, meta_models[i])).reset_index(drop= True)\n",
    "            test = pd.read_csv('%s/test_%s.csv' % (FoldInputDir, meta_models[i])).reset_index(drop= True)\n",
    "            if(i == 0):\n",
    "                FoldValid = valid\n",
    "                FoldTest = test\n",
    "            else:\n",
    "                for t in targets:\n",
    "                    target = '%s_%s' % (meta_models[i], t)\n",
    "                    FoldValid[target] = valid[target].copy()\n",
    "                    FoldTest[target] = test[target].copy()\n",
    "        FoldValid['fold'] = fold\n",
    "        valid_dfs.append(FoldValid)\n",
    "        test_dfs.append(FoldTest)\n",
    "        print('fold %s done.' % fold)\n",
    "    TrainData = pd.concat(valid_dfs, axis= 0, ignore_index= True)\n",
    "    print('load data done, train %s' % (len(TrainData)))\n",
    "\n",
    "# print(TrainData.columns)\n",
    "## CV score\n",
    "cv_score = .0\n",
    "# predict\n",
    "y_test_pred = 0\n",
    "pred_targets = ['%s_%s' % (strategy, t) for t in targets]\n",
    "TestData = test_dfs[0][['id']].copy()\n",
    "for t in pred_targets:\n",
    "    TestData[t] = .0\n",
    "for fold in range(kfold):\n",
    "    FoldData = {\n",
    "        'train': TrainData[TrainData['fold'] != fold],\n",
    "        'valid': TrainData[TrainData['fold'] == fold],\n",
    "        'test': test_dfs[fold].copy()\n",
    "    }\n",
    "    for t in targets:\n",
    "        FoldData['valid']['%s_%s' % (strategy, t)] = .0\n",
    "        FoldData['test']['%s_%s' % (strategy, t)] = .0\n",
    "    for target in targets:\n",
    "        with timer('train for %s' % target):\n",
    "            meta_feats = ['%s_%s' % (c, target) for c in meta_models]\n",
    "            # train\n",
    "            model = linear_model.LogisticRegression(C= 0.00000004, \n",
    "                                                    max_iter= 100, \n",
    "                                                    tol= 1e-6, \n",
    "                                                    class_weight= 'balanced')#, warm_start= True)\n",
    "#             model = svm.SVC(C= 100, class_weight= 'balanced', max_iter= 10, probability= True)\n",
    "            model.fit(FoldData['train'][meta_feats], FoldData['train'][target])\n",
    "            # for valid\n",
    "            pred_target = '%s_%s' % (strategy, target)\n",
    "            FoldData['valid'][pred_target] = model.predict_proba(FoldData['valid'][meta_feats])[:,1]\n",
    "            # for test\n",
    "            pred_test = model.predict_proba(FoldData['test'][meta_feats])[:,1]\n",
    "            FoldData['test'][pred_target] = pred_test\n",
    "            TestData[pred_target] += pred_test\n",
    "    \n",
    "    score = roc_auc_score(FoldData['valid'][targets], FoldData['valid'][pred_targets])\n",
    "    cv_score += score\n",
    "    \n",
    "    ## output\n",
    "    FoldOutputDir = '%s/kfold/%s' % (OutputDir, fold)\n",
    "    if(os.path.exists(FoldOutputDir) == False):\n",
    "        os.makedirs(FoldOutputDir)\n",
    "    for mod in ['valid', 'test']:\n",
    "        if(mod == 'test'):\n",
    "            out_cols = ['id']\n",
    "            out_cols.extend(pred_targets)\n",
    "        else:\n",
    "            out_cols = pred_targets.copy()\n",
    "            out_cols.extend(targets)\n",
    "        FoldData[mod][out_cols].to_csv('%s/%s_%s.csv' % (FoldOutputDir, mod, strategy),float_format='%.8f', index= False) \n",
    "    print('fold %s, score %.5f' % (fold, score))\n",
    "\n",
    "for t in pred_targets:\n",
    "    TestData[t] /= kfold\n",
    "cv_score /= kfold # Average valid set predictions\n",
    "print('\\n================')\n",
    "print('cv score %.5f' % (cv_score))\n",
    "print('================')\n",
    "\n",
    "## submit\n",
    "sub = TestData[['id']].copy()\n",
    "sub[targets] = TestData[pred_targets]\n",
    "OutputFileName = '%s_submit_%s' % (strategy, datetime.datetime.now().strftime(\"%Y-%m-%d\"))\n",
    "SubmitDir = '%s/submit' % InputDir\n",
    "if(os.path.exists(SubmitDir) == False):\n",
    "    os.makedirs(SubmitDir)\n",
    "sub.to_csv('%s/%s.csv' % (SubmitDir, OutputFileName), float_format='%.8f', index=False)\n",
    "print('zip %s/%s.zip %s/%s.csv' % (SubmitDir, OutputFileName, SubmitDir, OutputFileName))\n",
    "os.system('zip %s/%s.zip %s/%s.csv' % (SubmitDir, OutputFileName, SubmitDir, OutputFileName))"
   ]
  },
  {
   "cell_type": "code",
   "execution_count": null,
   "metadata": {},
   "outputs": [],
   "source": []
  }
 ],
 "metadata": {
  "kernelspec": {
   "display_name": "Python 3",
   "language": "python",
   "name": "python3"
  },
  "language_info": {
   "codemirror_mode": {
    "name": "ipython",
    "version": 3
   },
   "file_extension": ".py",
   "mimetype": "text/x-python",
   "name": "python",
   "nbconvert_exporter": "python",
   "pygments_lexer": "ipython3",
   "version": "3.6.1"
  },
  "varInspector": {
   "cols": {
    "lenName": 16,
    "lenType": 16,
    "lenVar": 40
   },
   "kernels_config": {
    "python": {
     "delete_cmd_postfix": "",
     "delete_cmd_prefix": "del ",
     "library": "var_list.py",
     "varRefreshCmd": "print(var_dic_list())"
    },
    "r": {
     "delete_cmd_postfix": ") ",
     "delete_cmd_prefix": "rm(",
     "library": "var_list.r",
     "varRefreshCmd": "cat(var_dic_list()) "
    }
   },
   "types_to_exclude": [
    "module",
    "function",
    "builtin_function_or_method",
    "instance",
    "_Feature"
   ],
   "window_display": false
  }
 },
 "nbformat": 4,
 "nbformat_minor": 2
}
