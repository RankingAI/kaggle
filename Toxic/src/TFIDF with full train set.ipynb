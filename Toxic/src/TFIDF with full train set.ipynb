{
 "cells": [
  {
   "cell_type": "code",
   "execution_count": 22,
   "metadata": {
    "ExecuteTime": {
     "end_time": "2018-01-02T16:05:38.175874Z",
     "start_time": "2018-01-02T16:05:38.101641Z"
    }
   },
   "outputs": [],
   "source": [
    "import json\n",
    "import pandas as pd\n",
    "import dill as pickle\n",
    "import scipy.sparse\n",
    "\n",
    "class DataUtil2:\n",
    "    \"\"\"\"\"\"\n",
    "    @classmethod\n",
    "    def load(cls, file, format, date_cols= None):\n",
    "        \"\"\"\"\"\"\n",
    "        data = ''\n",
    "        if(format== 'csv'):\n",
    "            data = pd.read_csv(file, parse_dates= date_cols)\n",
    "        elif(format== 'json'):\n",
    "            with open(file, 'r') as i_file:\n",
    "                data = json.load(file)\n",
    "            i_file.close()\n",
    "        elif(format== 'pkl'):\n",
    "            with open(file, 'rb') as i_file:\n",
    "                data = pickle.load(i_file)\n",
    "            i_file.close()\n",
    "        elif(format == 'hdf'):\n",
    "            data = pd.read_hdf(path_or_buf= file, key='undefined')\n",
    "#         elif(format == 'csr'):\n",
    "#             loader = np.load(file)\n",
    "#             data = csr_matrix((loader['data'], loader['indices'], loader['indptr']), shape=loader['shape'])\n",
    "        elif(format == 'npz'):\n",
    "            data = scipy.sparse.load_npz(file)\n",
    "\n",
    "        return  data\n",
    "\n",
    "    @classmethod\n",
    "    def save(cls, data, file, format, precision= 8):\n",
    "        \"\"\"\"\"\"\n",
    "        if(format == 'csv'):\n",
    "            data.to_csv(file, float_format= '%%.%df' % precision, index= False)\n",
    "        elif(format == 'json'):\n",
    "            with open(file, 'w') as o_file:\n",
    "                json.dump(data, o_file, ensure_ascii= True, indent= 4)\n",
    "            o_file.close()\n",
    "        elif(format == 'pkl'):\n",
    "            with open(file, 'wb') as o_file:\n",
    "                pickle.dump(data, o_file, -1)\n",
    "            o_file.close()\n",
    "        elif(format== 'hdf'):\n",
    "            data.to_hdf(path_or_buf= file, key='undefined', mode='w', complib='blosc')\n",
    "#         elif(format == 'csr'):\n",
    "#             np.savez(file, data= data['data'], indices= data['indices'], indptr= data['indptr'], shape= data['shape'])\n",
    "        elif(format == 'npz'):\n",
    "            scipy.sparse.save_npz(file, data)\n",
    "        return"
   ]
  },
  {
   "cell_type": "code",
   "execution_count": 23,
   "metadata": {
    "ExecuteTime": {
     "end_time": "2018-01-02T16:05:38.629545Z",
     "start_time": "2018-01-02T16:05:38.177768Z"
    }
   },
   "outputs": [
    {
     "name": "stdout",
     "output_type": "stream",
     "text": [
      "load data done.\n"
     ]
    }
   ],
   "source": [
    "# load data\n",
    "iformat = 'hdf'\n",
    "DataBase = '../data'\n",
    "DataSet = {}\n",
    "for mod in ['train', 'test']:\n",
    "    DataSet[mod] = DataUtil2.load('%s/bow/%s.%s' % (DataBase, mod, iformat), iformat)\n",
    "print('load data done.')"
   ]
  },
  {
   "cell_type": "code",
   "execution_count": 24,
   "metadata": {
    "ExecuteTime": {
     "end_time": "2018-01-02T16:07:07.892719Z",
     "start_time": "2018-01-02T16:05:38.631377Z"
    }
   },
   "outputs": [
    {
     "name": "stdout",
     "output_type": "stream",
     "text": [
      "sampled data rate 91058/95851\n",
      "LOO data rate 9130/91058\n",
      "fitting for tfidf done, time elapsed 10.21\n",
      "saving for fold 0 of holdout/test done, time elapsed 32.30s\n",
      "saving for fold 1 of holdout/test done, time elapsed 41.79s\n",
      "saving for fold 2 of holdout/test done, time elapsed 51.20s\n",
      "saving for fold 3 of holdout/test done, time elapsed 60.64s\n",
      "saving for fold 4 of holdout/test done, time elapsed 70.41s\n",
      "save holdout/test done, time elapsed 70.64s\n",
      "(16386, 5000)\n",
      "saving fold 0 of valid done, time elapsed 77.27s\n",
      "(16386, 5000)\n",
      "saving fold 1 of valid done, time elapsed 80.12s\n",
      "(16386, 5000)\n",
      "saving fold 2 of valid done, time elapsed 83.02s\n",
      "(16385, 5000)\n",
      "saving fold 3 of valid done, time elapsed 85.91s\n",
      "(16385, 5000)\n",
      "saving fold 4 of valid done, time elapsed 88.96s\n",
      "save valid done, time elapsed 88.97\n",
      "boostrap 0 done\n"
     ]
    }
   ],
   "source": [
    "from sklearn import model_selection\n",
    "import numpy as np\n",
    "import sys,os,time,gc\n",
    "from scipy import sparse\n",
    "\n",
    "label_cols = ['toxic', 'severe_toxic', 'obscene', 'threat', 'insult', 'identity_hate']\n",
    "\n",
    "\n",
    "# np.random.seed(2017)\n",
    "# DataSet['train'] = DataSet['train'].sample(frac= 0.2)\n",
    "# DataSet['test'] = DataSet['test'].sample(frac= 0.2)\n",
    "## resampling bootstrap\n",
    "R = 3 # bootstrap number\n",
    "RRate = 0.95 # resampling rate\n",
    "HRate = 0.1 # holdout rate\n",
    "K = 5 # folds number\n",
    "COMMENT = 'comment_text'\n",
    "TrainData = DataSet['train']\n",
    "start = time.time()\n",
    "for i in range(R):\n",
    "    BoostrapOutputDir = '%s/bootstrap/%s' % (DataBase, i)\n",
    "    ## sampling\n",
    "    ReSampledTrainData = TrainData.sample(frac= RRate, random_state= 2017 + i)\n",
    "    print('sampled data rate %s/%s' % (len(ReSampledTrainData), len(TrainData)))\n",
    "    ## leave-one-out(holdout) strategy for local validation\n",
    "    np.random.seed(2017 + i)\n",
    "    msk = np.random.rand(len(ReSampledTrainData)) < HRate\n",
    "    holdout = ReSampledTrainData[msk]\n",
    "    train = ReSampledTrainData[~msk]\n",
    "    test = DataSet['test']\n",
    "    print('LOO data rate %s/%s' % (len(holdout), len(ReSampledTrainData)))\n",
    "    ## split int x and y\n",
    "    y_cols = ['id']\n",
    "    y_cols.extend(label_cols)\n",
    "    train_x = train[COMMENT]\n",
    "    train_y = train[y_cols]\n",
    "    holdout_x = holdout[COMMENT]\n",
    "    holdout_y = holdout[y_cols]\n",
    "    test_x = DataSet['test'][COMMENT]\n",
    "    test_y = DataSet['test'][y_cols]\n",
    "    del train, holdout, test\n",
    "    gc.collect()\n",
    "\n",
    "    ## k-fold\n",
    "    kf = model_selection.KFold(n_splits = K, random_state = 2017 + i, shuffle = True)\n",
    "    OutputDir = '%s/l0' % BoostrapOutputDir\n",
    "    if(os.path.exists('%s/kfold' % OutputDir) == False):\n",
    "        os.makedirs('%s/kfold' % OutputDir)\n",
    "\n",
    "    ## tfidf transformation\n",
    "    TFIDF = feature_extraction.text.TfidfVectorizer(ngram_range= (1,2), \n",
    "                              tokenizer= lambda x: x.split(' '), \n",
    "                              min_df= 20, \n",
    "                              max_df= 0.8, \n",
    "                              strip_accents='unicode',\n",
    "                              max_features = 5000,\n",
    "                              use_idf= 1, \n",
    "                              smooth_idf= 1, \n",
    "                              sublinear_tf= 1)\n",
    "    TFIDF.fit(train_x)\n",
    "    feats = TFIDF.get_feature_names()\n",
    "    feat_cols = [str(i) for i in range(len(feats))]\n",
    "    end = time.time()\n",
    "    print('fitting for tfidf done, time elapsed %.2f' % (end - start))\n",
    "\n",
    "    holdout_x_tfidf = TFIDF.transform(holdout_x)\n",
    "    test_x_tfidf = TFIDF.transform(test_x)\n",
    "    # save for holdout and test\n",
    "    for fold in range(K):\n",
    "        FoldOutputDir = '%s/kfold/%s/tfidf' % (OutputDir, fold)\n",
    "        if(os.path.exists(FoldOutputDir) == False):\n",
    "            os.makedirs(FoldOutputDir)\n",
    "        DataUtil2.save(holdout_x_tfidf, '%s/holdout_x_tfidf.%s' % (FoldOutputDir, 'npz'), 'npz')\n",
    "        DataUtil2.save(holdout_y, '%s/holdout_y.%s' % (FoldOutputDir, 'csv'), 'csv')\n",
    "        DataUtil2.save(test_x_tfidf, '%s/test_x_tfidf.%s' % (FoldOutputDir, 'npz'), 'npz')\n",
    "        DataUtil2.save(test_y, '%s/test_y.%s' % (FoldOutputDir, 'csv'), 'csv')\n",
    "        end = time.time()\n",
    "        print('saving for fold %s of holdout/test done, time elapsed %.2fs' % ( fold, (end - start)))\n",
    "    del holdout_x_tfidf, test_x_tfidf\n",
    "    gc.collect()\n",
    "    end = time.time()\n",
    "    print('save holdout/test done, time elapsed %.2fs' % (end - start))\n",
    "    \n",
    "    train_x_tfidf = TFIDF.transform(train_x)\n",
    "    # save for valid\n",
    "    for fold, (train_index, test_index) in enumerate(kf.split(train_x_tfidf)):\n",
    "        valid_x_tfidf = sparse.csr_matrix(train_x_tfidf.toarray()[test_index,:])\n",
    "        valid_y = train_y.iloc[test_index]\n",
    "        FoldOutputDir = '%s/kfold/%s/tfidf' % (OutputDir, fold)\n",
    "        if(os.path.exists(FoldOutputDir) == False):\n",
    "            os.makedirs(FoldOutputDir)\n",
    "        DataUtil2.save(valid_x_tfidf, '%s/valid_x_tfidf.%s' % (FoldOutputDir, 'npz'), 'npz')\n",
    "        DataUtil2.save(valid_y, '%s/valid_y.%s' % (FoldOutputDir, 'csv'), 'csv')\n",
    "        end = time.time()\n",
    "        print('saving fold %s of valid done, time elapsed %.2fs' % (fold, (end - start)))\n",
    "        \n",
    "    end = time.time()\n",
    "    print('save valid done, time elapsed %.2f' % (end - start))\n",
    "    \n",
    "    print('boostrap %s done' % i)\n",
    "    break"
   ]
  },
  {
   "cell_type": "code",
   "execution_count": null,
   "metadata": {},
   "outputs": [],
   "source": []
  }
 ],
 "metadata": {
  "kernelspec": {
   "display_name": "Python 3",
   "language": "python",
   "name": "python3"
  },
  "language_info": {
   "codemirror_mode": {
    "name": "ipython",
    "version": 3
   },
   "file_extension": ".py",
   "mimetype": "text/x-python",
   "name": "python",
   "nbconvert_exporter": "python",
   "pygments_lexer": "ipython3",
   "version": "3.6.1"
  },
  "varInspector": {
   "cols": {
    "lenName": 16,
    "lenType": 16,
    "lenVar": 40
   },
   "kernels_config": {
    "python": {
     "delete_cmd_postfix": "",
     "delete_cmd_prefix": "del ",
     "library": "var_list.py",
     "varRefreshCmd": "print(var_dic_list())"
    },
    "r": {
     "delete_cmd_postfix": ") ",
     "delete_cmd_prefix": "rm(",
     "library": "var_list.r",
     "varRefreshCmd": "cat(var_dic_list()) "
    }
   },
   "types_to_exclude": [
    "module",
    "function",
    "builtin_function_or_method",
    "instance",
    "_Feature"
   ],
   "window_display": false
  }
 },
 "nbformat": 4,
 "nbformat_minor": 2
}
