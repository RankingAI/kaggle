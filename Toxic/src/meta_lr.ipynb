{
 "cells": [
  {
   "cell_type": "code",
   "execution_count": 2,
   "metadata": {
    "ExecuteTime": {
     "end_time": "2018-01-18T11:41:30.369133Z",
     "start_time": "2018-01-18T11:41:28.985617Z"
    }
   },
   "outputs": [],
   "source": [
    "import json\n",
    "import pandas as pd\n",
    "import numpy as np\n",
    "import dill as pickle\n",
    "import scipy.sparse\n",
    "from nltk.tokenize import wordpunct_tokenize\n",
    "from nltk.stem.snowball import EnglishStemmer\n",
    "from nltk.stem import WordNetLemmatizer\n",
    "from functools import lru_cache\n",
    "from tqdm import tqdm as tqdm\n",
    "from sklearn.model_selection import StratifiedKFold\n",
    "from sklearn.metrics import log_loss\n",
    "from scipy import sparse\n",
    "from sklearn.feature_extraction.text import TfidfVectorizer\n",
    "from sklearn.linear_model import LogisticRegression\n",
    "import os,sys,time\n",
    "\n",
    "class DataUtil2:\n",
    "    \"\"\"\"\"\"\n",
    "    @classmethod\n",
    "    def load(cls, file, format, date_cols= None):\n",
    "        \"\"\"\"\"\"\n",
    "        data = ''\n",
    "        if(format== 'csv'):\n",
    "            data = pd.read_csv(file, parse_dates= date_cols)\n",
    "        elif(format== 'json'):\n",
    "            with open(file, 'r') as i_file:\n",
    "                data = json.load(file)\n",
    "            i_file.close()\n",
    "        elif(format== 'pkl'):\n",
    "            with open(file, 'rb') as i_file:\n",
    "                data = pickle.load(i_file)\n",
    "            i_file.close()\n",
    "        elif(format == 'hdf'):\n",
    "            data = pd.read_hdf(path_or_buf= file, key='undefined')\n",
    "        elif(format == 'npz'):\n",
    "            data = scipy.sparse.load_npz(file)\n",
    "\n",
    "        return  data\n",
    "\n",
    "    @classmethod\n",
    "    def save(cls, data, file, format, precision= 8):\n",
    "        \"\"\"\"\"\"\n",
    "        if(format == 'csv'):\n",
    "            data.to_csv(file, float_format= '%%.%df' % precision, index= False)\n",
    "        elif(format == 'json'):\n",
    "            with open(file, 'w') as o_file:\n",
    "                json.dump(data, o_file, ensure_ascii= True, indent= 4)\n",
    "            o_file.close()\n",
    "        elif(format == 'pkl'):\n",
    "            with open(file, 'wb') as o_file:\n",
    "                pickle.dump(data, o_file, -1)\n",
    "            o_file.close()\n",
    "        elif(format== 'hdf'):\n",
    "            data.to_hdf(path_or_buf= file, key='undefined', mode='w', complib='blosc')\n",
    "        elif(format == 'npz'):\n",
    "            scipy.sparse.save_npz(file, data)\n",
    "        return"
   ]
  },
  {
   "cell_type": "code",
   "execution_count": 3,
   "metadata": {
    "ExecuteTime": {
     "end_time": "2018-01-18T11:41:33.270290Z",
     "start_time": "2018-01-18T11:41:31.345324Z"
    }
   },
   "outputs": [
    {
     "name": "stdout",
     "output_type": "stream",
     "text": [
      "load data done.\n"
     ]
    }
   ],
   "source": [
    "# load data\n",
    "iformat = 'csv'\n",
    "oformat = 'hdf'\n",
    "DataBase = '../data'\n",
    "DataSet = {}\n",
    "for mod in ['train', 'test']:\n",
    "    DataSet[mod] = DataUtil2.load('%s/raw/%s.%s' % (DataBase, mod, iformat), iformat)\n",
    "    DataSet[mod]['comment_text'] = DataSet[mod]['comment_text'].fillna('nan')\n",
    "print('load data done.')"
   ]
  },
  {
   "cell_type": "code",
   "execution_count": 4,
   "metadata": {
    "ExecuteTime": {
     "end_time": "2018-01-18T11:42:12.275234Z",
     "start_time": "2018-01-18T11:41:35.213850Z"
    }
   },
   "outputs": [
    {
     "name": "stderr",
     "output_type": "stream",
     "text": [
      "100%|██████████| 95851/95851 [00:10<00:00, 8881.83it/s]\n",
      "100%|██████████| 226998/226998 [00:26<00:00, 8654.16it/s]\n"
     ]
    }
   ],
   "source": [
    "stemmer = EnglishStemmer()\n",
    "\n",
    "@lru_cache(30000)\n",
    "def stem_word(text):\n",
    "    return stemmer.stem(text)\n",
    "\n",
    "lemmatizer = WordNetLemmatizer()\n",
    "\n",
    "@lru_cache(30000)\n",
    "def lemmatize_word(text):\n",
    "    return lemmatizer.lemmatize(text)\n",
    "\n",
    "def reduce_text(conversion, text):\n",
    "    return \" \".join(map(conversion, wordpunct_tokenize(text.lower())))\n",
    "\n",
    "def reduce_texts(conversion, texts):\n",
    "    return [reduce_text(conversion, str(text))\n",
    "            for text in tqdm(texts)]\n",
    "\n",
    "for mod in ['train', 'test']:\n",
    "    DataSet[mod]['comment_text_stemmed'] = reduce_texts(stem_word, DataSet[mod]['comment_text'])\n",
    "    #DataSet[mod]['comment_text_lemmatized'] = reduce_texts(lemmatize_word, DataSet[mod]['comment_text'])"
   ]
  },
  {
   "cell_type": "code",
   "execution_count": 7,
   "metadata": {
    "ExecuteTime": {
     "end_time": "2018-01-18T11:44:06.171044Z",
     "start_time": "2018-01-18T11:44:05.849995Z"
    }
   },
   "outputs": [],
   "source": [
    "label2binary = np.array([\n",
    "    [0, 0, 0, 0, 0, 0],\n",
    "    [0, 0, 0, 0, 0, 1],\n",
    "    [0, 0, 0, 0, 1, 0],\n",
    "    [0, 0, 0, 0, 1, 1],\n",
    "    [0, 0, 0, 1, 0, 0],\n",
    "    [0, 0, 0, 1, 0, 1],\n",
    "    [0, 0, 0, 1, 1, 0],\n",
    "    [0, 0, 0, 1, 1, 1],\n",
    "    [0, 0, 1, 0, 0, 0],\n",
    "    [0, 0, 1, 0, 0, 1],\n",
    "    [0, 0, 1, 0, 1, 0],\n",
    "    [0, 0, 1, 0, 1, 1],\n",
    "    [0, 0, 1, 1, 0, 0],\n",
    "    [0, 0, 1, 1, 0, 1],\n",
    "    [0, 0, 1, 1, 1, 0],\n",
    "    [0, 0, 1, 1, 1, 1],\n",
    "    [0, 1, 0, 0, 0, 0],\n",
    "    [0, 1, 0, 0, 0, 1],\n",
    "    [0, 1, 0, 0, 1, 0],\n",
    "    [0, 1, 0, 0, 1, 1],\n",
    "    [0, 1, 0, 1, 0, 0],\n",
    "    [0, 1, 0, 1, 0, 1],\n",
    "    [0, 1, 0, 1, 1, 0],\n",
    "    [0, 1, 0, 1, 1, 1],\n",
    "    [0, 1, 1, 0, 0, 0],\n",
    "    [0, 1, 1, 0, 0, 1],\n",
    "    [0, 1, 1, 0, 1, 0],\n",
    "    [0, 1, 1, 0, 1, 1],\n",
    "    [0, 1, 1, 1, 0, 0],\n",
    "    [0, 1, 1, 1, 0, 1],\n",
    "    [0, 1, 1, 1, 1, 0],\n",
    "    [0, 1, 1, 1, 1, 1],\n",
    "    [1, 0, 0, 0, 0, 0],\n",
    "    [1, 0, 0, 0, 0, 1],\n",
    "    [1, 0, 0, 0, 1, 0],\n",
    "    [1, 0, 0, 0, 1, 1],\n",
    "    [1, 0, 0, 1, 0, 0],\n",
    "    [1, 0, 0, 1, 0, 1],\n",
    "    [1, 0, 0, 1, 1, 0],\n",
    "    [1, 0, 0, 1, 1, 1],\n",
    "    [1, 0, 1, 0, 0, 0],\n",
    "    [1, 0, 1, 0, 0, 1],\n",
    "    [1, 0, 1, 0, 1, 0],\n",
    "    [1, 0, 1, 0, 1, 1],\n",
    "    [1, 0, 1, 1, 0, 0],\n",
    "    [1, 0, 1, 1, 0, 1],\n",
    "    [1, 0, 1, 1, 1, 0],\n",
    "    [1, 0, 1, 1, 1, 1],\n",
    "    [1, 1, 0, 0, 0, 0],\n",
    "    [1, 1, 0, 0, 0, 1],\n",
    "    [1, 1, 0, 0, 1, 0],\n",
    "    [1, 1, 0, 0, 1, 1],\n",
    "    [1, 1, 0, 1, 0, 0],\n",
    "    [1, 1, 0, 1, 0, 1],\n",
    "    [1, 1, 0, 1, 1, 0],\n",
    "    [1, 1, 0, 1, 1, 1],\n",
    "    [1, 1, 1, 0, 0, 0],\n",
    "    [1, 1, 1, 0, 0, 1],\n",
    "    [1, 1, 1, 0, 1, 0],\n",
    "    [1, 1, 1, 0, 1, 1],\n",
    "    [1, 1, 1, 1, 0, 0],\n",
    "    [1, 1, 1, 1, 0, 1],\n",
    "    [1, 1, 1, 1, 1, 0],\n",
    "    [1, 1, 1, 1, 1, 1],\n",
    "])\n",
    "\n",
    "OutputDir = '../data/meta/kfold/'\n",
    "strategy = 'lr_word_char_tfidf'\n",
    "\n",
    "def metric(y_true, y_pred):\n",
    "    assert y_true.shape == y_pred.shape\n",
    "    columns = y_true.shape[1]\n",
    "    column_losses = []\n",
    "    for i in range(0, columns):\n",
    "        column_losses.append(log_loss(y_true[:, i], y_pred[:, i]))\n",
    "    return np.array(column_losses).mean()\n",
    "\n",
    "def cv(model, X, y, label2binary, n_splits=3):\n",
    "    def split(X, y):\n",
    "        return StratifiedKFold(n_splits=n_splits).split(X, y)\n",
    "    \n",
    "    def convert_y(y):\n",
    "        new_y = np.zeros([len(y)])\n",
    "        for i, val in enumerate(label2binary):\n",
    "            idx = (y == val).max(axis=1)\n",
    "            new_y[idx] = i\n",
    "        return new_y\n",
    "    \n",
    "    X = np.array(X)\n",
    "    y = np.array(y)\n",
    "    scores = []\n",
    "    fold = 0\n",
    "    for train, test in tqdm(split(X, convert_y(y)), total=n_splits):\n",
    "        FoldOutput = '%s/%s' % (OutputDir, fold)\n",
    "        if(os.path.exists(FoldOutput) == False):\n",
    "            os.makedirs(FoldOutput)\n",
    "        fitted_model = model(X[train], y[train])\n",
    "        predict = fitted_model(X[test])\n",
    "        score = metric(y[test], predict)\n",
    "        scores.append(score)\n",
    "        FoldOutputFile = '%s/valid_%s.csv' % (FoldOutput, strategy)\n",
    "        DataUtil2.save(pd.DataFrame({strategy: predict}), FoldOutputFile, 'csv', 6)\n",
    "        print('fold %s, cv score %.4f' % (fold, score))\n",
    "        fold += 1\n",
    "    return np.array(scores)"
   ]
  },
  {
   "cell_type": "code",
   "execution_count": 12,
   "metadata": {
    "ExecuteTime": {
     "end_time": "2018-01-18T12:55:17.204284Z",
     "start_time": "2018-01-18T12:22:34.976364Z"
    }
   },
   "outputs": [
    {
     "name": "stderr",
     "output_type": "stream",
     "text": [
      "\r",
      "  0%|          | 0/3 [00:00<?, ?it/s]"
     ]
    },
    {
     "name": "stdout",
     "output_type": "stream",
     "text": [
      "convert for total_length done...\n",
      "convert for capitals done...\n",
      "convert for caps_vs_length done...\n",
      "convert for num_exclamation_marks done...\n",
      "convert for num_question_marks done...\n",
      "convert for num_punctuation done...\n",
      "convert for imcomplete_punctuation done...\n",
      "convert for question_mask_ratio done...\n",
      "convert for exclamation_mark_ratio done...\n",
      "convert for imcomplete_punctuation_ratio done...\n",
      "convert for num_words done...\n",
      "convert for num_unique_words done...\n",
      "convert for words_vs_unique done...\n",
      "convert for num_smilies done...\n",
      "convert for similes_ratio done...\n",
      "feature reconstruction pass...\n",
      "convert for total_length done...\n",
      "convert for capitals done...\n",
      "convert for caps_vs_length done...\n",
      "convert for num_exclamation_marks done...\n",
      "convert for num_question_marks done...\n",
      "convert for num_punctuation done...\n",
      "convert for imcomplete_punctuation done...\n",
      "convert for question_mask_ratio done...\n",
      "convert for exclamation_mark_ratio done...\n",
      "convert for imcomplete_punctuation_ratio done...\n",
      "convert for num_words done...\n",
      "convert for num_unique_words done...\n",
      "convert for words_vs_unique done...\n",
      "convert for num_smilies done...\n",
      "convert for similes_ratio done...\n"
     ]
    },
    {
     "name": "stderr",
     "output_type": "stream",
     "text": [
      "\r",
      " 33%|███▎      | 1/3 [11:35<23:10, 695.49s/it]"
     ]
    },
    {
     "name": "stdout",
     "output_type": "stream",
     "text": [
      "convert for total_length done...\n",
      "convert for capitals done...\n",
      "convert for caps_vs_length done...\n",
      "convert for num_exclamation_marks done...\n",
      "convert for num_question_marks done...\n",
      "convert for num_punctuation done...\n",
      "convert for imcomplete_punctuation done...\n",
      "convert for question_mask_ratio done...\n",
      "convert for exclamation_mark_ratio done...\n",
      "convert for imcomplete_punctuation_ratio done...\n",
      "convert for num_words done...\n",
      "convert for num_unique_words done...\n",
      "convert for words_vs_unique done...\n",
      "convert for num_smilies done...\n",
      "convert for similes_ratio done...\n",
      "feature reconstruction pass...\n",
      "convert for total_length done...\n",
      "convert for capitals done...\n",
      "convert for caps_vs_length done...\n",
      "convert for num_exclamation_marks done...\n",
      "convert for num_question_marks done...\n",
      "convert for num_punctuation done...\n",
      "convert for imcomplete_punctuation done...\n",
      "convert for question_mask_ratio done...\n",
      "convert for exclamation_mark_ratio done...\n",
      "convert for imcomplete_punctuation_ratio done...\n",
      "convert for num_words done...\n",
      "convert for num_unique_words done...\n",
      "convert for words_vs_unique done...\n",
      "convert for num_smilies done...\n",
      "convert for similes_ratio done...\n"
     ]
    },
    {
     "name": "stderr",
     "output_type": "stream",
     "text": [
      "\r",
      " 67%|██████▋   | 2/3 [21:41<10:50, 650.81s/it]"
     ]
    },
    {
     "name": "stdout",
     "output_type": "stream",
     "text": [
      "convert for total_length done...\n",
      "convert for capitals done...\n",
      "convert for caps_vs_length done...\n",
      "convert for num_exclamation_marks done...\n",
      "convert for num_question_marks done...\n",
      "convert for num_punctuation done...\n",
      "convert for imcomplete_punctuation done...\n",
      "convert for question_mask_ratio done...\n",
      "convert for exclamation_mark_ratio done...\n",
      "convert for imcomplete_punctuation_ratio done...\n",
      "convert for num_words done...\n",
      "convert for num_unique_words done...\n",
      "convert for words_vs_unique done...\n",
      "convert for num_smilies done...\n",
      "convert for similes_ratio done...\n",
      "feature reconstruction pass...\n",
      "convert for total_length done...\n",
      "convert for capitals done...\n",
      "convert for caps_vs_length done...\n",
      "convert for num_exclamation_marks done...\n",
      "convert for num_question_marks done...\n",
      "convert for num_punctuation done...\n",
      "convert for imcomplete_punctuation done...\n",
      "convert for question_mask_ratio done...\n",
      "convert for exclamation_mark_ratio done...\n",
      "convert for imcomplete_punctuation_ratio done...\n",
      "convert for num_words done...\n",
      "convert for num_unique_words done...\n",
      "convert for words_vs_unique done...\n",
      "convert for num_smilies done...\n",
      "convert for similes_ratio done...\n"
     ]
    },
    {
     "name": "stderr",
     "output_type": "stream",
     "text": [
      "\r",
      "100%|██████████| 3/3 [32:41<00:00, 653.97s/it]"
     ]
    },
    {
     "name": "stdout",
     "output_type": "stream",
     "text": [
      "[ 0.13508295  0.15222496  0.13697673]\n"
     ]
    },
    {
     "name": "stderr",
     "output_type": "stream",
     "text": [
      "\n"
     ]
    }
   ],
   "source": [
    "import sys,os\n",
    "\n",
    "other_feats = ['total_length', 'capitals', 'caps_vs_length', 'num_exclamation_marks', 'num_question_marks', 'num_punctuation', 'imcomplete_punctuation', 'question_mask_ratio', 'exclamation_mark_ratio', \n",
    "               'imcomplete_punctuation_ratio', 'num_words', 'num_unique_words', 'words_vs_unique', 'num_smilies', 'similes_ratio']\n",
    "\n",
    "def regression_wordchars(X, y):\n",
    "    tfidf_word = TfidfVectorizer(\n",
    "        sublinear_tf=True,\n",
    "        strip_accents='unicode',\n",
    "        analyzer='word',\n",
    "        min_df=3, \n",
    "        max_df=0.9,\n",
    "        use_idf= 1,\n",
    "        smooth_idf= 1,\n",
    "        ngram_range=(1,1),\n",
    "        max_features=20000\n",
    "    )\n",
    "    X_tfidf_word = tfidf_word.fit_transform(X[:, 1])\n",
    "    tfidf_char = TfidfVectorizer(\n",
    "        sublinear_tf=True,\n",
    "        strip_accents='unicode',\n",
    "        analyzer='char', \n",
    "        ngram_range=(1, 4),\n",
    "        max_features=20000,\n",
    "        lowercase=False)\n",
    "    X_tfidf_char = tfidf_char.fit_transform(X[:, 0])\n",
    "    ##\n",
    "    feats = [X_tfidf_word, X_tfidf_char]\n",
    "#     for i in range(len(other_feats)):\n",
    "#         feats.append(sparse.csr_matrix(np.reshape(X[:, 2+i], (X[:, 2+i].shape[0], 1)).tolist()))\n",
    "#         print('convert for %s done...' % other_feats[i])\n",
    "    #\n",
    "    X_tfidf = sparse.hstack(feats)\n",
    "    print('feature reconstruction pass...')\n",
    "    \n",
    "    columns = y.shape[1]\n",
    "    regressions = [\n",
    "        LogisticRegression(C= 4).fit(X_tfidf, y[:, i])\n",
    "        for i in range(columns)\n",
    "    ]\n",
    "    \n",
    "    def _predict(X):\n",
    "        X_tfidf_word = tfidf_word.transform(X[:, 1])\n",
    "        X_tfidf_char = tfidf_char.transform(X[:, 0])\n",
    "        feats = [X_tfidf_word, X_tfidf_char]\n",
    "#         for i in range(len(other_feats)):\n",
    "#             feats.append(sparse.csr_matrix(np.reshape(X[:, 2+i], (X[:, 2+i].shape[0], 1)).tolist()))\n",
    "#             print('convert for %s done...' % other_feats[i])\n",
    "        X_tfidf = sparse.hstack(feats)\n",
    "        predictions = np.zeros([len(X), columns])\n",
    "        for i, regression in enumerate(regressions):\n",
    "            regression_prediction = regression.predict_proba(X_tfidf)\n",
    "            predictions[:, i] = regression_prediction[:, regression.classes_ == 1][:, 0]\n",
    "        return predictions\n",
    "    \n",
    "    return _predict\n",
    "\n",
    "cols = ['comment_text', 'comment_text_stemmed']\n",
    "DataSet['train'][other_feats] = DataSet['train'][other_feats].astype(float)\n",
    "cols.extend(other_feats)\n",
    "ret = cv(regression_wordchars,\n",
    "   DataSet['train'][cols].values,\n",
    "   DataSet['train'][['toxic', 'severe_toxic', 'obscene', 'threat', 'insult', 'identity_hate']],\n",
    "   label2binary)\n",
    "print(ret)"
   ]
  },
  {
   "cell_type": "code",
   "execution_count": 12,
   "metadata": {
    "ExecuteTime": {
     "end_time": "2018-01-09T10:29:59.660667Z",
     "start_time": "2018-01-09T10:25:31.437630Z"
    }
   },
   "outputs": [
    {
     "name": "stdout",
     "output_type": "stream",
     "text": [
      "CPU times: user 4min 15s, sys: 11.2 s, total: 4min 26s\n",
      "Wall time: 4min 28s\n"
     ]
    }
   ],
   "source": [
    "%%time\n",
    "model = regression_wordchars(np.array(DataSet['train'][['comment_text', 'comment_text_stemmed']]),\n",
    "                             np.array(DataSet['train'][['toxic', 'severe_toxic', 'obscene', 'threat', 'insult', 'identity_hate']]))"
   ]
  },
  {
   "cell_type": "code",
   "execution_count": 13,
   "metadata": {
    "ExecuteTime": {
     "end_time": "2018-01-09T10:36:04.668181Z",
     "start_time": "2018-01-09T10:30:03.500423Z"
    }
   },
   "outputs": [
    {
     "name": "stdout",
     "output_type": "stream",
     "text": [
      "CPU times: user 5min 39s, sys: 18.3 s, total: 5min 57s\n",
      "Wall time: 6min 1s\n"
     ]
    }
   ],
   "source": [
    "%%time\n",
    "prediction = model(np.array(DataSet['test'][['comment_text', 'comment_text_stemmed']]))"
   ]
  },
  {
   "cell_type": "code",
   "execution_count": 14,
   "metadata": {
    "ExecuteTime": {
     "end_time": "2018-01-09T10:36:04.733817Z",
     "start_time": "2018-01-09T10:36:04.697143Z"
    }
   },
   "outputs": [],
   "source": [
    "submission = pd.DataFrame()\n",
    "submission['id'] = DataSet['test']['id']\n",
    "for i, label in enumerate(['toxic', 'severe_toxic', 'obscene', 'threat', 'insult', 'identity_hate']):\n",
    "    submission[label] = prediction[:, i]\n",
    "# print(submission.tail(100))"
   ]
  },
  {
   "cell_type": "code",
   "execution_count": 16,
   "metadata": {
    "ExecuteTime": {
     "end_time": "2018-01-09T10:42:09.486236Z",
     "start_time": "2018-01-09T10:42:04.453463Z"
    }
   },
   "outputs": [
    {
     "name": "stdout",
     "output_type": "stream",
     "text": [
      "zip ../data/l0/lr_tfidf_word_char_2018-01-09.zip ../data/l0/lr_tfidf_word_char_2018-01-09.csv\n"
     ]
    },
    {
     "data": {
      "text/plain": [
       "0"
      ]
     },
     "execution_count": 16,
     "metadata": {},
     "output_type": "execute_result"
    }
   ],
   "source": [
    "import sys,os,datetime\n",
    "\n",
    "strategy = 'lr_tfidf_word_char'\n",
    "SubmitOutputDir = '../data/l0'\n",
    "if(os.path.exists(SubmitOutputDir) == False):\n",
    "    os.makedirs(SubmitOutputDir)\n",
    "SubmitFileName = '%s_%s' % (strategy, datetime.datetime.now().strftime(\"%Y-%m-%d\"))\n",
    "submission.to_csv('%s/%s.csv' % (SubmitOutputDir, SubmitFileName), index= None)\n",
    "print('zip %s/%s.zip %s/%s.csv' % (SubmitOutputDir, SubmitFileName, SubmitOutputDir, SubmitFileName))\n",
    "os.system('zip %s/%s.zip %s/%s.csv' % (SubmitOutputDir, SubmitFileName, SubmitOutputDir, SubmitFileName))"
   ]
  },
  {
   "cell_type": "code",
   "execution_count": null,
   "metadata": {},
   "outputs": [],
   "source": []
  }
 ],
 "metadata": {
  "kernelspec": {
   "display_name": "Python 3",
   "language": "python",
   "name": "python3"
  },
  "language_info": {
   "codemirror_mode": {
    "name": "ipython",
    "version": 3
   },
   "file_extension": ".py",
   "mimetype": "text/x-python",
   "name": "python",
   "nbconvert_exporter": "python",
   "pygments_lexer": "ipython3",
   "version": "3.6.1"
  },
  "varInspector": {
   "cols": {
    "lenName": 16,
    "lenType": 16,
    "lenVar": 40
   },
   "kernels_config": {
    "python": {
     "delete_cmd_postfix": "",
     "delete_cmd_prefix": "del ",
     "library": "var_list.py",
     "varRefreshCmd": "print(var_dic_list())"
    },
    "r": {
     "delete_cmd_postfix": ") ",
     "delete_cmd_prefix": "rm(",
     "library": "var_list.r",
     "varRefreshCmd": "cat(var_dic_list()) "
    }
   },
   "types_to_exclude": [
    "module",
    "function",
    "builtin_function_or_method",
    "instance",
    "_Feature"
   ],
   "window_display": false
  }
 },
 "nbformat": 4,
 "nbformat_minor": 2
}
