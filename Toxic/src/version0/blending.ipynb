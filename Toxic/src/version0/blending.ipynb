{
 "cells": [
  {
   "cell_type": "code",
   "execution_count": 2,
   "metadata": {
    "ExecuteTime": {
     "end_time": "2018-01-09T11:36:37.555108Z",
     "start_time": "2018-01-09T11:36:30.787844Z"
    }
   },
   "outputs": [
    {
     "name": "stdout",
     "output_type": "stream",
     "text": [
      "zip ../data/l0/lr_nbsvm_tfidf_word_char_2018-01-09.zip ../data/l0/lr_nbsvm_tfidf_word_char_2018-01-09.csv\n"
     ]
    },
    {
     "data": {
      "text/plain": [
       "0"
      ]
     },
     "execution_count": 2,
     "metadata": {},
     "output_type": "execute_result"
    }
   ],
   "source": [
    "import pandas as pd\n",
    "import os,sys, datetime\n",
    "\n",
    "SubmitInputDir = '../data/l0'\n",
    "\n",
    "nbsvm = pd.read_csv('%s/nbsvm_tfidf_word_char_%s.csv' % (SubmitInputDir, datetime.datetime.now().strftime(\"%Y-%m-%d\")))\n",
    "lr = pd.read_csv('%s/lr_tfidf_word_char_%s.csv' % (SubmitInputDir, datetime.datetime.now().strftime(\"%Y-%m-%d\")))\n",
    "\n",
    "merged = nbsvm\n",
    "for col in ['toxic', 'severe_toxic', 'obscene', 'threat', 'insult', 'identity_hate']:\n",
    "    merged[col] = (merged[col] + lr[col])/2\n",
    "\n",
    "strategy = 'lr_nbsvm_tfidf_word_char'\n",
    "SubmitOutputDir = '../data/l0'\n",
    "if(os.path.exists(SubmitOutputDir) == False):\n",
    "    os.makedirs(SubmitOutputDir)\n",
    "SubmitFileName = '%s_%s' % (strategy, datetime.datetime.now().strftime(\"%Y-%m-%d\"))\n",
    "merged.to_csv('%s/%s.csv' % (SubmitInputDir, SubmitFileName), index= None)\n",
    "print('zip %s/%s.zip %s/%s.csv' % (SubmitOutputDir, SubmitFileName, SubmitOutputDir, SubmitFileName))\n",
    "os.system('zip %s/%s.zip %s/%s.csv' % (SubmitOutputDir, SubmitFileName, SubmitOutputDir, SubmitFileName))"
   ]
  },
  {
   "cell_type": "code",
   "execution_count": null,
   "metadata": {},
   "outputs": [],
   "source": []
  }
 ],
 "metadata": {
  "kernelspec": {
   "display_name": "Python 3",
   "language": "python",
   "name": "python3"
  },
  "language_info": {
   "codemirror_mode": {
    "name": "ipython",
    "version": 3
   },
   "file_extension": ".py",
   "mimetype": "text/x-python",
   "name": "python",
   "nbconvert_exporter": "python",
   "pygments_lexer": "ipython3",
   "version": "3.6.1"
  },
  "varInspector": {
   "cols": {
    "lenName": 16,
    "lenType": 16,
    "lenVar": 40
   },
   "kernels_config": {
    "python": {
     "delete_cmd_postfix": "",
     "delete_cmd_prefix": "del ",
     "library": "var_list.py",
     "varRefreshCmd": "print(var_dic_list())"
    },
    "r": {
     "delete_cmd_postfix": ") ",
     "delete_cmd_prefix": "rm(",
     "library": "var_list.r",
     "varRefreshCmd": "cat(var_dic_list()) "
    }
   },
   "types_to_exclude": [
    "module",
    "function",
    "builtin_function_or_method",
    "instance",
    "_Feature"
   ],
   "window_display": false
  }
 },
 "nbformat": 4,
 "nbformat_minor": 2
}
