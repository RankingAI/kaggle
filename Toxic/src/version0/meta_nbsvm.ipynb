{
 "cells": [
  {
   "cell_type": "code",
   "execution_count": 6,
   "metadata": {
    "ExecuteTime": {
     "end_time": "2018-01-09T09:35:48.100511Z",
     "start_time": "2018-01-09T09:35:47.139475Z"
    },
    "collapsed": true
   },
   "outputs": [],
   "source": [
    "import json\n",
    "import pandas as pd\n",
    "import numpy as np\n",
    "import dill as pickle\n",
    "import scipy.sparse\n",
    "from nltk.tokenize import wordpunct_tokenize\n",
    "from nltk.stem.snowball import EnglishStemmer\n",
    "from nltk.stem import WordNetLemmatizer\n",
    "from functools import lru_cache\n",
    "from tqdm import tqdm as tqdm\n",
    "from sklearn.model_selection import StratifiedKFold\n",
    "from sklearn.metrics import log_loss\n",
    "from scipy import sparse\n",
    "from sklearn.feature_extraction.text import TfidfVectorizer\n",
    "from sklearn.linear_model import LogisticRegression\n",
    "import os,sys,time\n",
    "\n",
    "class DataUtil2:\n",
    "    \"\"\"\"\"\"\n",
    "    @classmethod\n",
    "    def load(cls, file, format, date_cols= None):\n",
    "        \"\"\"\"\"\"\n",
    "        data = ''\n",
    "        if(format== 'csv'):\n",
    "            data = pd.read_csv(file, parse_dates= date_cols)\n",
    "        elif(format== 'json'):\n",
    "            with open(file, 'r') as i_file:\n",
    "                data = json.load(file)\n",
    "            i_file.close()\n",
    "        elif(format== 'pkl'):\n",
    "            with open(file, 'rb') as i_file:\n",
    "                data = pickle.load(i_file)\n",
    "            i_file.close()\n",
    "        elif(format == 'hdf'):\n",
    "            data = pd.read_hdf(path_or_buf= file, key='undefined')\n",
    "        elif(format == 'npz'):\n",
    "            data = scipy.sparse.load_npz(file)\n",
    "\n",
    "        return  data\n",
    "\n",
    "    @classmethod\n",
    "    def save(cls, data, file, format, precision= 8):\n",
    "        \"\"\"\"\"\"\n",
    "        if(format == 'csv'):\n",
    "            data.to_csv(file, float_format= '%%.%df' % precision, index= False)\n",
    "        elif(format == 'json'):\n",
    "            with open(file, 'w') as o_file:\n",
    "                json.dump(data, o_file, ensure_ascii= True, indent= 4)\n",
    "            o_file.close()\n",
    "        elif(format == 'pkl'):\n",
    "            with open(file, 'wb') as o_file:\n",
    "                pickle.dump(data, o_file, -1)\n",
    "            o_file.close()\n",
    "        elif(format== 'hdf'):\n",
    "            data.to_hdf(path_or_buf= file, key='undefined', mode='w', complib='blosc')\n",
    "        elif(format == 'npz'):\n",
    "            scipy.sparse.save_npz(file, data)\n",
    "        return"
   ]
  },
  {
   "cell_type": "code",
   "execution_count": 7,
   "metadata": {
    "ExecuteTime": {
     "end_time": "2018-01-09T09:35:51.582761Z",
     "start_time": "2018-01-09T09:35:49.800924Z"
    }
   },
   "outputs": [
    {
     "name": "stdout",
     "output_type": "stream",
     "text": [
      "load data done.\n"
     ]
    }
   ],
   "source": [
    "# load data\n",
    "iformat = 'csv'\n",
    "oformat = 'hdf'\n",
    "DataBase = '../data'\n",
    "DataSet = {}\n",
    "for mod in ['train', 'test']:\n",
    "    DataSet[mod] = DataUtil2.load('%s/raw/%s.%s' % (DataBase, mod, iformat), iformat)\n",
    "    DataSet[mod]['comment_text'] = DataSet[mod]['comment_text'].fillna('nan')\n",
    "print('load data done.')"
   ]
  },
  {
   "cell_type": "code",
   "execution_count": 8,
   "metadata": {
    "ExecuteTime": {
     "end_time": "2018-01-09T09:36:36.171063Z",
     "start_time": "2018-01-09T09:35:58.971869Z"
    }
   },
   "outputs": [
    {
     "name": "stderr",
     "output_type": "stream",
     "text": [
      "100%|██████████| 95851/95851 [00:05<00:00, 17921.67it/s]\n",
      "100%|██████████| 226998/226998 [00:14<00:00, 15983.08it/s]\n"
     ]
    }
   ],
   "source": [
    "stemmer = EnglishStemmer()\n",
    "\n",
    "@lru_cache(30000)\n",
    "def stem_word(text):\n",
    "    return stemmer.stem(text)\n",
    "\n",
    "lemmatizer = WordNetLemmatizer()\n",
    "\n",
    "@lru_cache(30000)\n",
    "def lemmatize_word(text):\n",
    "    return lemmatizer.lemmatize(text)\n",
    "\n",
    "def reduce_text(conversion, text):\n",
    "    return \" \".join(map(conversion, wordpunct_tokenize(text.lower())))\n",
    "\n",
    "def reduce_texts(conversion, texts):\n",
    "    return [reduce_text(conversion, str(text))\n",
    "            for text in tqdm(texts)]\n",
    "\n",
    "for mod in ['train', 'test']:\n",
    "    DataSet[mod]['comment_text_stemmed'] = reduce_texts(stem_word, DataSet[mod]['comment_text'])\n",
    "    #DataSet[mod]['comment_text_lemmatized'] = reduce_texts(lemmatize_word, DataSet[mod]['comment_text'])"
   ]
  },
  {
   "cell_type": "code",
   "execution_count": 11,
   "metadata": {
    "ExecuteTime": {
     "end_time": "2018-01-09T09:36:39.618670Z",
     "start_time": "2018-01-09T09:36:39.280967Z"
    },
    "collapsed": true
   },
   "outputs": [],
   "source": [
    "label2binary = np.array([\n",
    "    [0, 0, 0, 0, 0, 0],\n",
    "    [0, 0, 0, 0, 0, 1],\n",
    "    [0, 0, 0, 0, 1, 0],\n",
    "    [0, 0, 0, 0, 1, 1],\n",
    "    [0, 0, 0, 1, 0, 0],\n",
    "    [0, 0, 0, 1, 0, 1],\n",
    "    [0, 0, 0, 1, 1, 0],\n",
    "    [0, 0, 0, 1, 1, 1],\n",
    "    [0, 0, 1, 0, 0, 0],\n",
    "    [0, 0, 1, 0, 0, 1],\n",
    "    [0, 0, 1, 0, 1, 0],\n",
    "    [0, 0, 1, 0, 1, 1],\n",
    "    [0, 0, 1, 1, 0, 0],\n",
    "    [0, 0, 1, 1, 0, 1],\n",
    "    [0, 0, 1, 1, 1, 0],\n",
    "    [0, 0, 1, 1, 1, 1],\n",
    "    [0, 1, 0, 0, 0, 0],\n",
    "    [0, 1, 0, 0, 0, 1],\n",
    "    [0, 1, 0, 0, 1, 0],\n",
    "    [0, 1, 0, 0, 1, 1],\n",
    "    [0, 1, 0, 1, 0, 0],\n",
    "    [0, 1, 0, 1, 0, 1],\n",
    "    [0, 1, 0, 1, 1, 0],\n",
    "    [0, 1, 0, 1, 1, 1],\n",
    "    [0, 1, 1, 0, 0, 0],\n",
    "    [0, 1, 1, 0, 0, 1],\n",
    "    [0, 1, 1, 0, 1, 0],\n",
    "    [0, 1, 1, 0, 1, 1],\n",
    "    [0, 1, 1, 1, 0, 0],\n",
    "    [0, 1, 1, 1, 0, 1],\n",
    "    [0, 1, 1, 1, 1, 0],\n",
    "    [0, 1, 1, 1, 1, 1],\n",
    "    [1, 0, 0, 0, 0, 0],\n",
    "    [1, 0, 0, 0, 0, 1],\n",
    "    [1, 0, 0, 0, 1, 0],\n",
    "    [1, 0, 0, 0, 1, 1],\n",
    "    [1, 0, 0, 1, 0, 0],\n",
    "    [1, 0, 0, 1, 0, 1],\n",
    "    [1, 0, 0, 1, 1, 0],\n",
    "    [1, 0, 0, 1, 1, 1],\n",
    "    [1, 0, 1, 0, 0, 0],\n",
    "    [1, 0, 1, 0, 0, 1],\n",
    "    [1, 0, 1, 0, 1, 0],\n",
    "    [1, 0, 1, 0, 1, 1],\n",
    "    [1, 0, 1, 1, 0, 0],\n",
    "    [1, 0, 1, 1, 0, 1],\n",
    "    [1, 0, 1, 1, 1, 0],\n",
    "    [1, 0, 1, 1, 1, 1],\n",
    "    [1, 1, 0, 0, 0, 0],\n",
    "    [1, 1, 0, 0, 0, 1],\n",
    "    [1, 1, 0, 0, 1, 0],\n",
    "    [1, 1, 0, 0, 1, 1],\n",
    "    [1, 1, 0, 1, 0, 0],\n",
    "    [1, 1, 0, 1, 0, 1],\n",
    "    [1, 1, 0, 1, 1, 0],\n",
    "    [1, 1, 0, 1, 1, 1],\n",
    "    [1, 1, 1, 0, 0, 0],\n",
    "    [1, 1, 1, 0, 0, 1],\n",
    "    [1, 1, 1, 0, 1, 0],\n",
    "    [1, 1, 1, 0, 1, 1],\n",
    "    [1, 1, 1, 1, 0, 0],\n",
    "    [1, 1, 1, 1, 0, 1],\n",
    "    [1, 1, 1, 1, 1, 0],\n",
    "    [1, 1, 1, 1, 1, 1],\n",
    "])\n",
    "\n",
    "OutputDir = '../data/meta/kfold/'\n",
    "strategy = 'nbsvm_word_char_tfidf'\n",
    "targets = ['toxic', 'severe_toxic', 'obscene', 'threat', 'insult', 'identity_hate']\n",
    "\n",
    "def metric(y_true, y_pred):\n",
    "    assert y_true.shape == y_pred.shape\n",
    "    columns = y_true.shape[1]\n",
    "    column_losses = []\n",
    "    for i in range(0, columns):\n",
    "        column_losses.append(log_loss(y_true[:, i], y_pred[:, i]))\n",
    "    return np.array(column_losses).mean()\n",
    "\n",
    "def cv(model, X, y, label2binary, n_splits=3):\n",
    "    def split(X, y):\n",
    "        return StratifiedKFold(n_splits=n_splits).split(X, y)\n",
    "    \n",
    "    def convert_y(y):\n",
    "        new_y = np.zeros([len(y)])\n",
    "        for i, val in enumerate(label2binary):\n",
    "            idx = (y == val).max(axis=1)\n",
    "            new_y[idx] = i\n",
    "        return new_y\n",
    "    \n",
    "    X = np.array(X)\n",
    "    y = np.array(y)\n",
    "    scores = []\n",
    "    fold = 0\n",
    "    for train, test in tqdm(split(X, convert_y(y)), total=n_splits):\n",
    "        FoldOutput = '%s/%s' % (OutputDir, fold)\n",
    "        if(os.path.exists(FoldOutput) == False):\n",
    "            os.makedirs(FoldOutput)\n",
    "        fitted_model = model(X[train], y[train])\n",
    "        predict = fitted_model(X[test])\n",
    "        score = metric(y[test], predict)\n",
    "        scores.append(score)\n",
    "        FoldOutputFile = '%s/valid_%s.csv' % (FoldOutput, strategy)\n",
    "        df = pd.DataFrame(index= range(len(predict)))\n",
    "        #df.columns = ['%s_%s' % (strategy,t) for t in targets]\n",
    "        for idx in range(len(targets)):\n",
    "            df['%s_%s' % (strategy, targets[idx])] = predict[:,idx]\n",
    "        DataUtil2.save(df, FoldOutputFile, 'csv', 6)\n",
    "        print('fold %s, cv score %.4f' % (fold, score))\n",
    "        fold += 1\n",
    "    return np.array(scores)"
   ]
  },
  {
   "cell_type": "code",
   "execution_count": 12,
   "metadata": {
    "ExecuteTime": {
     "end_time": "2018-01-09T12:25:33.548157Z",
     "start_time": "2018-01-09T12:11:11.753623Z"
    }
   },
   "outputs": [
    {
     "name": "stderr",
     "output_type": "stream",
     "text": [
      "\n",
      "  0%|          | 0/3 [00:00<?, ?it/s]\u001b[A\n",
      "Exception in thread Thread-9:\n",
      "Traceback (most recent call last):\n",
      "  File \"/home/joe/anaconda3/lib/python3.6/threading.py\", line 916, in _bootstrap_inner\n",
      "    self.run()\n",
      "  File \"/home/joe/anaconda3/lib/python3.6/site-packages/tqdm/_tqdm.py\", line 144, in run\n",
      "    for instance in self.tqdm_cls._instances:\n",
      "  File \"/home/joe/anaconda3/lib/python3.6/_weakrefset.py\", line 60, in __iter__\n",
      "    for itemref in self.data:\n",
      "RuntimeError: Set changed size during iteration\n",
      "\n",
      " 33%|███▎      | 1/3 [01:53<03:46, 113.44s/it]"
     ]
    },
    {
     "name": "stdout",
     "output_type": "stream",
     "text": [
      "fold 0, cv score 0.0484\n"
     ]
    },
    {
     "name": "stderr",
     "output_type": "stream",
     "text": [
      "\r",
      " 67%|██████▋   | 2/3 [03:48<01:54, 114.23s/it]"
     ]
    },
    {
     "name": "stdout",
     "output_type": "stream",
     "text": [
      "fold 1, cv score 0.0489\n"
     ]
    },
    {
     "name": "stderr",
     "output_type": "stream",
     "text": [
      "\r",
      "100%|██████████| 3/3 [05:46<00:00, 115.37s/it]"
     ]
    },
    {
     "name": "stdout",
     "output_type": "stream",
     "text": [
      "fold 2, cv score 0.0487\n",
      "[ 0.04838638  0.04890334  0.04871086]\n"
     ]
    },
    {
     "name": "stderr",
     "output_type": "stream",
     "text": [
      "\n"
     ]
    }
   ],
   "source": [
    "def regression_wordchars(X, y):\n",
    "    tfidf_word = TfidfVectorizer(\n",
    "        strip_accents='unicode',\n",
    "        analyzer='word',\n",
    "        sublinear_tf= 1,\n",
    "        ngram_range=(1,1),\n",
    "        max_features=20000\n",
    "    )\n",
    "    X_tfidf_word = tfidf_word.fit_transform(X[:, 1])\n",
    "    tfidf_char = TfidfVectorizer(\n",
    "        strip_accents='unicode',\n",
    "        analyzer='char', \n",
    "        sublinear_tf= 1,\n",
    "        ngram_range=(1, 4),\n",
    "        max_features=20000,\n",
    "        lowercase=False)\n",
    "    X_tfidf_char = tfidf_char.fit_transform(X[:, 0])\n",
    "    X_tfidf = sparse.hstack([X_tfidf_word, X_tfidf_char])\n",
    "    \n",
    "    def fit(x, y):\n",
    "        x = x.tocsr()\n",
    "        p_1 = x[y == 1].sum(0)\n",
    "        pr_1 = (p_1 + 1) / ((y == 1).sum() + 1)\n",
    "        p_0 = x[y == 0].sum(0)\n",
    "        pr_0 = (p_0 + 1) / ((y == 0).sum() + 1)\n",
    "        r = np.log(pr_1 / pr_0)\n",
    "        m = LogisticRegression(C= 0.4)\n",
    "        x_nb = x.multiply(r)\n",
    "        return m.fit(x_nb, y), r\n",
    "    \n",
    "    columns = y.shape[1]\n",
    "    regressions = [fit(X_tfidf, y[:, i]) for i in range(columns)]\n",
    "    \n",
    "    def _predict(X):\n",
    "        X_tfidf_word = tfidf_word.transform(X[:, 1])\n",
    "        X_tfidf_char = tfidf_char.transform(X[:, 0])\n",
    "        X_tfidf = sparse.hstack([X_tfidf_word, X_tfidf_char])\n",
    "        predictions = np.zeros([len(X), columns])\n",
    "        for i, (regression, r) in enumerate(regressions):\n",
    "            predictions[:, i] = regression.predict_proba(X_tfidf.multiply(r))[:, regression.classes_ == 1][:, 0]\n",
    "        return predictions\n",
    "    \n",
    "    return _predict\n",
    "\n",
    "ret = cv(regression_wordchars,\n",
    "   DataSet['train'][['comment_text', 'comment_text_stemmed']],\n",
    "   DataSet['train'][['toxic', 'severe_toxic', 'obscene', 'threat', 'insult', 'identity_hate']],\n",
    "   label2binary)\n",
    "print(ret)"
   ]
  },
  {
   "cell_type": "code",
   "execution_count": 14,
   "metadata": {
    "ExecuteTime": {
     "end_time": "2018-01-09T11:09:56.053021Z",
     "start_time": "2018-01-09T11:04:27.284057Z"
    }
   },
   "outputs": [
    {
     "name": "stdout",
     "output_type": "stream",
     "text": [
      "CPU times: user 2min 23s, sys: 984 ms, total: 2min 24s\n",
      "Wall time: 2min 24s\n"
     ]
    }
   ],
   "source": [
    "%%time\n",
    "model = regression_wordchars(np.array(DataSet['train'][['comment_text', 'comment_text_stemmed']]),\n",
    "                             np.array(DataSet['train'][['toxic', 'severe_toxic', 'obscene', 'threat', 'insult', 'identity_hate']]))"
   ]
  },
  {
   "cell_type": "code",
   "execution_count": 15,
   "metadata": {
    "ExecuteTime": {
     "end_time": "2018-01-09T11:20:08.821692Z",
     "start_time": "2018-01-09T11:09:56.104724Z"
    }
   },
   "outputs": [
    {
     "name": "stdout",
     "output_type": "stream",
     "text": [
      "CPU times: user 3min 5s, sys: 50.3 s, total: 3min 55s\n",
      "Wall time: 3min 55s\n"
     ]
    }
   ],
   "source": [
    "%%time\n",
    "prediction = model(np.array(DataSet['test'][['comment_text', 'comment_text_stemmed']]))"
   ]
  },
  {
   "cell_type": "code",
   "execution_count": 16,
   "metadata": {
    "ExecuteTime": {
     "end_time": "2018-01-09T11:20:08.925074Z",
     "start_time": "2018-01-09T11:20:08.881721Z"
    },
    "collapsed": true
   },
   "outputs": [],
   "source": [
    "submission = pd.DataFrame()\n",
    "submission['id'] = DataSet['test']['id']\n",
    "for i, label in enumerate(['toxic', 'severe_toxic', 'obscene', 'threat', 'insult', 'identity_hate']):\n",
    "    submission[label] = prediction[:, i]\n",
    "# print(submission.tail(100))"
   ]
  },
  {
   "cell_type": "code",
   "execution_count": 17,
   "metadata": {
    "ExecuteTime": {
     "end_time": "2018-01-11T17:01:44.417417Z",
     "start_time": "2018-01-11T17:01:44.396985Z"
    }
   },
   "outputs": [
    {
     "name": "stdout",
     "output_type": "stream",
     "text": [
      "zip ../data/meta/submit/nbsvm_word_char_tfidf_2018-01-18.zip ../data/meta/submit/nbsvm_word_char_tfidf_2018-01-18.csv\n"
     ]
    },
    {
     "data": {
      "text/plain": [
       "0"
      ]
     },
     "execution_count": 17,
     "metadata": {},
     "output_type": "execute_result"
    }
   ],
   "source": [
    "import sys,os,datetime\n",
    "\n",
    "SubmitOutputDir = '../data/meta/submit'\n",
    "if(os.path.exists(SubmitOutputDir) == False):\n",
    "    os.makedirs(SubmitOutputDir)\n",
    "SubmitFileName = '%s_%s' % (strategy, datetime.datetime.now().strftime(\"%Y-%m-%d\"))\n",
    "submission.to_csv('%s/%s.csv' % (SubmitOutputDir, SubmitFileName), index= None)\n",
    "print('zip %s/%s.zip %s/%s.csv' % (SubmitOutputDir, SubmitFileName, SubmitOutputDir, SubmitFileName))\n",
    "os.system('zip %s/%s.zip %s/%s.csv' % (SubmitOutputDir, SubmitFileName, SubmitOutputDir, SubmitFileName))"
   ]
  },
  {
   "cell_type": "code",
   "execution_count": null,
   "metadata": {
    "collapsed": true
   },
   "outputs": [],
   "source": []
  }
 ],
 "metadata": {
  "kernelspec": {
   "display_name": "Python 3",
   "language": "python",
   "name": "python3"
  },
  "language_info": {
   "codemirror_mode": {
    "name": "ipython",
    "version": 3
   },
   "file_extension": ".py",
   "mimetype": "text/x-python",
   "name": "python",
   "nbconvert_exporter": "python",
   "pygments_lexer": "ipython3",
   "version": "3.6.3"
  },
  "varInspector": {
   "cols": {
    "lenName": 16,
    "lenType": 16,
    "lenVar": 40
   },
   "kernels_config": {
    "python": {
     "delete_cmd_postfix": "",
     "delete_cmd_prefix": "del ",
     "library": "var_list.py",
     "varRefreshCmd": "print(var_dic_list())"
    },
    "r": {
     "delete_cmd_postfix": ") ",
     "delete_cmd_prefix": "rm(",
     "library": "var_list.r",
     "varRefreshCmd": "cat(var_dic_list()) "
    }
   },
   "types_to_exclude": [
    "module",
    "function",
    "builtin_function_or_method",
    "instance",
    "_Feature"
   ],
   "window_display": false
  }
 },
 "nbformat": 4,
 "nbformat_minor": 2
}
