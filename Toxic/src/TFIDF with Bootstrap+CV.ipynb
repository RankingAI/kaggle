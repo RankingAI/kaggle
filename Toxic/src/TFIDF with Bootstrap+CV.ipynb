{
 "cells": [
  {
   "cell_type": "code",
   "execution_count": 28,
   "metadata": {
    "ExecuteTime": {
     "end_time": "2017-12-29T12:19:53.822214Z",
     "start_time": "2017-12-29T12:19:53.763885Z"
    }
   },
   "outputs": [],
   "source": [
    "import json\n",
    "import pandas as pd\n",
    "import dill as pickle\n",
    "\n",
    "class DataUtil2:\n",
    "    \"\"\"\"\"\"\n",
    "    @classmethod\n",
    "    def load(cls, file, format, date_cols= None):\n",
    "        \"\"\"\"\"\"\n",
    "        data = ''\n",
    "        if(format== 'csv'):\n",
    "            data = pd.read_csv(file, parse_dates= date_cols)\n",
    "        elif(format== 'json'):\n",
    "            with open(file, 'r') as i_file:\n",
    "                data = json.load(file)\n",
    "            i_file.close()\n",
    "        elif(format== 'pkl'):\n",
    "            with open(file, 'rb') as i_file:\n",
    "                data = pickle.load(i_file)\n",
    "            i_file.close()\n",
    "        elif(format == 'hdf'):\n",
    "            data = pd.read_hdf(path_or_buf= file, key='undefined')\n",
    "\n",
    "        return  data\n",
    "\n",
    "    @classmethod\n",
    "    def save(cls, data, file, format, precision= 8):\n",
    "        \"\"\"\"\"\"\n",
    "        if(format == 'csv'):\n",
    "            data.to_csv(file, float_format= '%%.%df' % precision, index= False)\n",
    "        elif(format == 'json'):\n",
    "            with open(file, 'w') as o_file:\n",
    "                json.dump(data, o_file, ensure_ascii= True, indent= 4)\n",
    "            o_file.close()\n",
    "        elif(format == 'pkl'):\n",
    "            with open(file, 'wb') as o_file:\n",
    "                pickle.dump(data, o_file, -1)\n",
    "            o_file.close()\n",
    "        elif(format== 'hdf'):\n",
    "            data.to_hdf(path_or_buf= file, key='undefined', mode='w', complib='blosc')\n",
    "\n",
    "        return"
   ]
  },
  {
   "cell_type": "code",
   "execution_count": 29,
   "metadata": {
    "ExecuteTime": {
     "end_time": "2017-12-29T12:19:54.281337Z",
     "start_time": "2017-12-29T12:19:53.824094Z"
    }
   },
   "outputs": [
    {
     "name": "stdout",
     "output_type": "stream",
     "text": [
      "load data done.\n"
     ]
    }
   ],
   "source": [
    "# load data\n",
    "iformat = 'hdf'\n",
    "DataBase = '../data'\n",
    "DataSet = {}\n",
    "for mod in ['train', 'test']:\n",
    "    DataSet[mod] = DataUtil2.load('%s/bow/%s.%s' % (DataBase, mod, iformat), iformat)\n",
    "print('load data done.')"
   ]
  },
  {
   "cell_type": "code",
   "execution_count": 30,
   "metadata": {
    "ExecuteTime": {
     "end_time": "2017-12-29T12:20:13.624168Z",
     "start_time": "2017-12-29T12:19:54.282914Z"
    },
    "scrolled": false
   },
   "outputs": [
    {
     "name": "stdout",
     "output_type": "stream",
     "text": [
      "sampled data rate 8626/9585\n",
      "LOO data rate 845/8626\n",
      "train/test = 6224/1557\n",
      "valid data rate 1557/7781\n",
      "TFIDF transform done, time elapsed 2.90s.\n",
      "save demo for fold 0 done, time elapsed 2.92s.\n",
      "fold 0 done, time elapsed 3.83s.\n",
      "train/test = 6225/1556\n",
      "valid data rate 1556/7781\n",
      "TFIDF transform done, time elapsed 6.78s.\n",
      "save demo for fold 1 done, time elapsed 6.80s.\n",
      "fold 1 done, time elapsed 7.68s.\n",
      "train/test = 6225/1556\n",
      "valid data rate 1556/7781\n",
      "TFIDF transform done, time elapsed 10.53s.\n",
      "save demo for fold 2 done, time elapsed 10.55s.\n",
      "fold 2 done, time elapsed 11.50s.\n",
      "train/test = 6225/1556\n",
      "valid data rate 1556/7781\n",
      "TFIDF transform done, time elapsed 14.31s.\n",
      "save demo for fold 3 done, time elapsed 14.33s.\n",
      "fold 3 done, time elapsed 15.22s.\n",
      "train/test = 6225/1556\n",
      "valid data rate 1556/7781\n",
      "TFIDF transform done, time elapsed 18.01s.\n",
      "save demo for fold 4 done, time elapsed 18.04s.\n",
      "fold 4 done, time elapsed 18.94s.\n",
      "boostrap 0 done\n"
     ]
    }
   ],
   "source": [
    "from sklearn import feature_extraction\n",
    "from sklearn import model_selection\n",
    "import numpy as np\n",
    "import sys,os,time\n",
    "\n",
    "label_cols = ['toxic', 'severe_toxic', 'obscene', 'threat', 'insult', 'identity_hate']\n",
    "\n",
    "np.random.seed(2017)\n",
    "DataSet['train'] = DataSet['train'].sample(frac= 0.1)\n",
    "DataSet['test'] = DataSet['test'].sample(frac= 0.1)\n",
    "## resampling bootstrap\n",
    "R = 3 # bootstrap number\n",
    "RRate = 0.9 # resampling rate\n",
    "HRate = 0.1 # holdout rate\n",
    "K = 5 # folds number\n",
    "COMMENT = 'comment_text'\n",
    "TrainData = DataSet['train']\n",
    "TestData = DataSet['test']\n",
    "for i in range(R):\n",
    "    BoostrapOutputDir = '%s/bootstrap/%s' % (DataBase, i)\n",
    "    ## sampling\n",
    "    ReSampledTrainData = TrainData.sample(frac= RRate, random_state= 2017 + i)\n",
    "    print('sampled data rate %s/%s' % (len(ReSampledTrainData), len(TrainData)))\n",
    "    ## leave-one-out(holdout) strategy for local validation\n",
    "    np.random.seed(2017 + i)\n",
    "    msk = np.random.rand(len(ReSampledTrainData)) < HRate\n",
    "    holdout = ReSampledTrainData[msk]\n",
    "    train = ReSampledTrainData[~msk]\n",
    "    print('LOO data rate %s/%s' % (len(holdout), len(ReSampledTrainData)))\n",
    "    ## CV before engineering in case of data-leak for feature/model selection\n",
    "    kf = model_selection.KFold(n_splits = K, random_state = 2017 + i, shuffle = True)\n",
    "    OutputDir = '%s/l0' % BoostrapOutputDir\n",
    "    if(os.path.exists('%s/kfold' % OutputDir) == False):\n",
    "        os.makedirs('%s/kfold' % OutputDir)\n",
    "    start = time.time()\n",
    "    for fold, (train_index, test_index) in enumerate(kf.split(train)):\n",
    "\n",
    "        print('train/test = %s/%s' % (len(train_index), len(test_index)))\n",
    "        FoldTrain, FoldValid = train.iloc[train_index].copy(), train.iloc[test_index].copy()\n",
    "        FoldHoldout = holdout.copy()\n",
    "        FoldTest = TestData.copy()\n",
    "        print('valid data rate %s/%s' % (len(FoldValid), len(train)))\n",
    "        ## TODO\n",
    "        # log1p length\n",
    "        FoldTrain['total_log1p_len'] = np.log1p(FoldTrain[COMMENT].str.len())\n",
    "        # none label\n",
    "        FoldTrain['none'] = 1 - FoldTrain[label_cols].max(axis=1)\n",
    "        # fill null comment text\n",
    "        FoldTrain[COMMENT].fillna(\"unknown\", inplace= True)\n",
    "        #\n",
    "        TFIDF = feature_extraction.text.TfidfVectorizer(ngram_range= (1,2), \n",
    "                              tokenizer= lambda x: x.split(' '), \n",
    "                              min_df= 20, \n",
    "                              max_df= 0.8, \n",
    "                              strip_accents='unicode',\n",
    "                              max_features = 5000,\n",
    "                              use_idf= 1, \n",
    "                              smooth_idf= 1, \n",
    "                              sublinear_tf= 1)\n",
    "        TFIDF.fit(FoldTrain[COMMENT])\n",
    "        feats = TFIDF.get_feature_names()\n",
    "        feat_cols = [str(i) for i in range(len(feats))]\n",
    "        # for valid\n",
    "        tmpdf = pd.DataFrame(data= TFIDF.transform(FoldValid[COMMENT]).todense(), index= FoldValid.index, columns = feat_cols)\n",
    "        FoldValid.drop([COMMENT], axis= 1, inplace= True)\n",
    "        FoldValid = pd.concat([FoldValid, tmpdf], axis= 1)\n",
    "        # for holdout\n",
    "        tmpdf = pd.DataFrame(data= TFIDF.transform(FoldHoldout[COMMENT]).todense(), index= FoldHoldout.index, columns = feat_cols)\n",
    "        FoldHoldout.drop([COMMENT], axis= 1, inplace= True)\n",
    "        FoldHoldout = pd.concat([FoldHoldout, tmpdf], axis= 1)\n",
    "        # for test\n",
    "        tmpdf = pd.DataFrame(data= TFIDF.transform(FoldTest[COMMENT]).todense(), index= FoldTest.index, columns = feat_cols)\n",
    "        FoldTest.drop([COMMENT], axis= 1, inplace= True)\n",
    "        FoldTest = pd.concat([FoldTest, tmpdf], axis= 1)\n",
    "        end = time.time()\n",
    "        print('TFIDF transform done, time elapsed %.2fs.' % (end - start))\n",
    "        ## save\n",
    "        FoldOutputDir = '%s/kfold/%s/tfidf' % (OutputDir, fold)\n",
    "        if(os.path.exists(FoldOutputDir) == False):\n",
    "            os.makedirs(FoldOutputDir)\n",
    "        FoldValid[:5].to_csv('%s/valid.csv' % FoldOutputDir, index= False)\n",
    "        FoldTest[:5].to_csv('%s/holdout.csv' % FoldOutputDir, index= False)\n",
    "        FoldTest[:5].to_csv('%s/test.csv' % FoldOutputDir, index= False)\n",
    "        end = time.time()\n",
    "        print('save demo for fold %s done, time elapsed %.2fs.' % (fold, (end - start)))\n",
    "        DataUtil2.save(FoldValid, '%s/valid.%s' % (FoldOutputDir, 'hdf'), 'hdf')\n",
    "        DataUtil2.save(FoldHoldout, '%s/holdout.%s' % (FoldOutputDir, 'hdf'), 'hdf')\n",
    "        DataUtil2.save(FoldTest, '%s/test.%s' % (FoldOutputDir, 'hdf'), 'hdf')\n",
    "        ## save feature index\n",
    "        featdf = pd.DataFrame(index= range(len(feat_cols)))\n",
    "        featdf['tfidf'] = feats\n",
    "        featdf.reset_index(drop= False, inplace= True)\n",
    "        featdf.to_csv('%s/feat.csv' % FoldOutputDir, index= False)\n",
    "        end = time.time()\n",
    "        print('fold %s done, time elapsed %.2fs.' % (fold, (end - start)))\n",
    "    print('boostrap %s done' % i)\n",
    "    break"
   ]
  },
  {
   "cell_type": "code",
   "execution_count": null,
   "metadata": {},
   "outputs": [],
   "source": []
  }
 ],
 "metadata": {
  "kernelspec": {
   "display_name": "Python 3",
   "language": "python",
   "name": "python3"
  },
  "language_info": {
   "codemirror_mode": {
    "name": "ipython",
    "version": 3
   },
   "file_extension": ".py",
   "mimetype": "text/x-python",
   "name": "python",
   "nbconvert_exporter": "python",
   "pygments_lexer": "ipython3",
   "version": "3.6.1"
  },
  "varInspector": {
   "cols": {
    "lenName": 16,
    "lenType": 16,
    "lenVar": 40
   },
   "kernels_config": {
    "python": {
     "delete_cmd_postfix": "",
     "delete_cmd_prefix": "del ",
     "library": "var_list.py",
     "varRefreshCmd": "print(var_dic_list())"
    },
    "r": {
     "delete_cmd_postfix": ") ",
     "delete_cmd_prefix": "rm(",
     "library": "var_list.r",
     "varRefreshCmd": "cat(var_dic_list()) "
    }
   },
   "types_to_exclude": [
    "module",
    "function",
    "builtin_function_or_method",
    "instance",
    "_Feature"
   ],
   "window_display": false
  }
 },
 "nbformat": 4,
 "nbformat_minor": 2
}
