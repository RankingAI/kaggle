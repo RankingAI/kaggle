{
 "cells": [
  {
   "cell_type": "code",
   "execution_count": 2,
   "metadata": {
    "ExecuteTime": {
     "end_time": "2018-04-04T17:25:33.022214Z",
     "start_time": "2018-04-04T17:24:00.182850Z"
    }
   },
   "outputs": [
    {
     "name": "stdout",
     "output_type": "stream",
     "text": [
      "Day 6 done, memory usage 295M \n",
      "Day 7 done, memory usage 933M \n",
      "Day 8 done, memory usage 1657M \n",
      "Day 9 done, memory usage 2282M \n",
      "Day 10 done, memory usage 4171M \n",
      "[Load data] done in 66 s\n"
     ]
    }
   ],
   "source": [
    "##\n",
    "# This is feature engineering process based on preprocessed raw data sets.\n",
    "# 1. add count features, with sampling rate 0.1 on train data set. Updated on 2018/4/2\n",
    "##\n",
    "\n",
    "import pandas as pd\n",
    "import numpy as np\n",
    "import os,sys,gc,time\n",
    "from datetime import datetime\n",
    "from contextlib import contextmanager\n",
    "import psutil\n",
    "\n",
    "DataBaseDir = '../../data'\n",
    "InputDir = '%s/raw' % DataBaseDir\n",
    "OutputDir = '%s/feat/version1' % DataBaseDir\n",
    "dtypes = {\n",
    "        'ip'            : 'uint32',\n",
    "        'app'           : 'uint16',\n",
    "        'device'        : 'uint16',\n",
    "        'os'            : 'uint16',\n",
    "        'channel'       : 'uint16',\n",
    "        'is_attributed' : 'uint8',\n",
    "        'day'           : 'uint8',\n",
    "        'hour'          : 'uint8', \n",
    "        'click_id'      : 'uint32'\n",
    "        }\n",
    "feat_columns = ['ip', 'app', 'device', 'os', 'channel', 'day', 'hour']\n",
    "target = 'is_attributed'\n",
    "local_public_hours = [4, 5, 9, 10, 13, 14]\n",
    "local_private_hours = [i for i in range(24) if(i not in local_public_hours)]\n",
    "public_hours = [4, 5, 6, 9, 10, 11, 13, 14, 15]\n",
    "days = {\n",
    "    6: list(range(14, 24)),\n",
    "    7: list(range(0, 24)),\n",
    "    8: list(range(0, 24)),\n",
    "    9: list(range(0, 17)),\n",
    "    10: public_hours\n",
    "}\n",
    "process = psutil.Process(os.getpid())\n",
    "\n",
    "@contextmanager\n",
    "def timer(name):\n",
    "    \"\"\"\n",
    "    Taken from Konstantin Lopuhin https://www.kaggle.com/lopuhin\n",
    "    in script named : Mercari Golf: 0.3875 CV in 75 LOC, 1900 s\n",
    "    https://www.kaggle.com/lopuhin/mercari-golf-0-3875-cv-in-75-loc-1900-s\n",
    "    \"\"\"\n",
    "    t0 = time.time()\n",
    "    yield\n",
    "    print(f'[{name}] done in {time.time() - t0:.0f} s')\n",
    "\n",
    "train_columns = [target]\n",
    "train_columns.extend(feat_columns)\n",
    "test_columns = ['click_id']\n",
    "test_columns.extend(feat_columns)\n",
    "\n",
    "DataSet = {\n",
    "    6: pd.DataFrame(columns= train_columns),\n",
    "    7: pd.DataFrame(columns= train_columns),\n",
    "    8: pd.DataFrame(columns= train_columns),\n",
    "    9: pd.DataFrame(columns= train_columns),\n",
    "    10: pd.DataFrame(columns= test_columns)\n",
    "}\n",
    "## load data\n",
    "with timer('Load data'):\n",
    "    for d in DataSet.keys():\n",
    "        for h in days[d]:\n",
    "            if(d < 10): # for train\n",
    "                hour_df = pd.DataFrame(columns= train_columns)\n",
    "            else: # for test\n",
    "                hour_df = pd.DataFrame(columns= test_columns)\n",
    "            HourInputDir = '%s/%s/%s' % (InputDir, d, h)\n",
    "            chunk_files = os.listdir(HourInputDir)\n",
    "            for f in chunk_files:\n",
    "                chunk_num = int(f.split('.')[0])\n",
    "                chunk_df = pd.read_hdf(path_or_buf= '%s/%s' % (HourInputDir, f), key= '%s' % chunk_num)\n",
    "                if(len(chunk_df) == 0):\n",
    "                    continue\n",
    "                if(d < 10): # sample for train\n",
    "                    chunk_df = chunk_df.sample(frac= 0.1)\n",
    "                hour_df = pd.concat([hour_df, chunk_df], axis= 0, ignore_index= True)\n",
    "            DataSet[d] = pd.concat([DataSet[d], hour_df], axis= 0, ignore_index= True)\n",
    "        print('Day %s done, memory usage %sM '% (d, (int(process.memory_info().rss/1e6))))\n",
    "# type conversion\n",
    "for d in DataSet.keys():\n",
    "    for col in DataSet[d].columns:\n",
    "        DataSet[d][col] = DataSet[d][col].astype(dtypes[col])\n",
    "# print(DataSet[7].dtypes)\n",
    "# for d in DataSet.keys():\n",
    "#     print('\\nday %s' % d)\n",
    "#     print('------------max ')\n",
    "#     print(DataSet[d].max(0))\n",
    "#     print('------------min')\n",
    "#     print(DataSet[d].min(0))"
   ]
  },
  {
   "cell_type": "code",
   "execution_count": 5,
   "metadata": {
    "ExecuteTime": {
     "end_time": "2018-04-04T17:28:02.077142Z",
     "start_time": "2018-04-04T17:27:52.684062Z"
    }
   },
   "outputs": [
    {
     "name": "stdout",
     "output_type": "stream",
     "text": [
      "6 0.778740451004\n",
      "7 0.0511838012708\n",
      "8 0.0345817447787\n",
      "9 0.0300358828842\n",
      "10 0.0814636398911\n"
     ]
    },
    {
     "ename": "SystemExit",
     "evalue": "1",
     "output_type": "error",
     "traceback": [
      "An exception has occurred, use %tb to see the full traceback.\n",
      "\u001b[0;31mSystemExit\u001b[0m\u001b[0;31m:\u001b[0m 1\n"
     ]
    },
    {
     "name": "stderr",
     "output_type": "stream",
     "text": [
      "/Users/yuanpingzhou/miniconda3/lib/python3.6/site-packages/IPython/core/interactiveshell.py:2918: UserWarning: To exit: use 'exit', 'quit', or Ctrl-D.\n",
      "  warn(\"To exit: use 'exit', 'quit', or Ctrl-D.\", stacklevel=1)\n"
     ]
    }
   ],
   "source": [
    "## add new ip feature\n",
    "with timer('Add new ip feature'):\n",
    "    uni_ip = {}\n",
    "    for d in DataSet.keys():\n",
    "        uni_ip[d] = set(list(DataSet[d]['ip'].unique().astype(np.uint32)))\n",
    "    for d in range(7, 10):\n",
    "        uni_ip[d] = uni_ip[d].union(uni_ip[d - 1])\n",
    "    for d in DataSet.keys():\n",
    "        if(d == 6):\n",
    "            DataSet[d]['new_ip'] = (~(DataSet[d]['ip'] > 126420)).astype(np.uint8)\n",
    "        else:\n",
    "            DataSet[d]['new_ip'] = (~(DataSet[d]['ip'].isin(uni_ip[d - 1]))).astype(np.uint8)\n",
    "    #checking\n",
    "    for d in DataSet.keys():\n",
    "        print('day %s, new ip rate %.4f' % (d, (DataSet[d]['new_ip'].sum())/len(DataSet[d])))\n",
    "## add count features\n",
    "with timer('Add count features'):\n",
    "    column_combinations = [['ip', 'hour'], ['ip', 'app'], ['ip', 'app', 'os'], ['ip', 'device'], ['app', 'channel']]\n",
    "    with timer('Add count features'):\n",
    "        for d in range(6, 11):\n",
    "            for cc in column_combinations:\n",
    "                arr_slice = DataSet[d][cc].values\n",
    "                uni, uni_index, uni_count = np.unique(np.ravel_multi_index(arr_slice.T, arr_slice.max(0) + 1),return_inverse=True, return_counts=True)\n",
    "                DataSet[d]['count_%s' % '_'.join(cc)] = uni_count[uni_index]\n",
    "            print('Day %s done, memory usage %sM '% (d, (int(process.memory_info().rss/1e6))))\n",
    "## split dataset into two fold\n",
    "# for fold 1\n",
    "with timer('Saving for fold %s' % 0):\n",
    "    FoldOutput = '%s/kfold/%s' % (OutputDir, 0)\n",
    "    if(os.path.exists(FoldOutput) == False):\n",
    "        os.makedirs(FoldOutput)\n",
    "    DataSet[6].to_hdf(path_or_buf= '%s/train_6.hdf' % (FoldOutput), key= 'train_6', mode='w', complib='blosc')\n",
    "    DataSet[7].to_hdf(path_or_buf= '%s/train_7.hdf' % (FoldOutput), key= 'train_7', mode='w', complib='blosc')\n",
    "    k1 = 'test_8_public'\n",
    "    DataSet[8][DataSet[8]['hour'].isin(local_public_hours)].to_hdf(path_or_buf= '%s/%s.hdf' % (FoldOutput, k1), key= k1, mode='w', complib='blosc')\n",
    "    k2 = 'test_8_private'\n",
    "    DataSet[8][DataSet[8]['hour'].isin(local_private_hours)].to_hdf(path_or_buf= '%s/%s.hdf' % (FoldOutput, k2), key= k2, mode='w', complib='blosc')\n",
    "# for fold 2\n",
    "with timer('Saving for fold %s' % 1):\n",
    "    FoldOutput = '%s/kfold/%s' % (OutputDir, 1)\n",
    "    if(os.path.exists(FoldOutput) == False):\n",
    "        os.makedirs(FoldOutput)\n",
    "    DataSet[6].to_hdf(path_or_buf= '%s/train_6.hdf' % (FoldOutput), key= 'train_6', mode='w', complib='blosc')\n",
    "    DataSet[7].to_hdf(path_or_buf= '%s/train_7.hdf' % (FoldOutput), key= 'train_7', mode='w', complib='blosc')\n",
    "    DataSet[8].to_hdf(path_or_buf= '%s/train_8.hdf' % (FoldOutput), key= 'train_8', mode='w', complib='blosc')\n",
    "    k1 = 'test_9_public'\n",
    "    DataSet[9][DataSet[9]['hour'].isin(local_public_hours)].to_hdf(path_or_buf= '%s/%s.hdf' % (FoldOutput, k1), key= k1, mode='w', complib='blosc')\n",
    "    k2 = 'test_9_private'\n",
    "    DataSet[9][DataSet[9]['hour'].isin(local_private_hours)].to_hdf(path_or_buf= '%s/%s.hdf' % (FoldOutput, k2), key= k2, mode='w', complib='blosc')\n",
    "# for fold 3\n",
    "with timer('Saving for fold %s' % 2):\n",
    "    FoldOutput = '%s/kfold/%s' % (OutputDir, 2)\n",
    "    if(os.path.exists(FoldOutput) == False):\n",
    "        os.makedirs(FoldOutput)\n",
    "    DataSet[6].to_hdf(path_or_buf= '%s/train_6.hdf' % (FoldOutput), key= 'train_6', mode='w', complib='blosc')\n",
    "    DataSet[7].to_hdf(path_or_buf= '%s/train_7.hdf' % (FoldOutput), key= 'train_7', mode='w', complib='blosc')\n",
    "    DataSet[8].to_hdf(path_or_buf= '%s/train_8.hdf' % (FoldOutput), key= 'train_8', mode='w', complib='blosc')\n",
    "    DataSet[9].to_hdf(path_or_buf= '%s/train_9.hdf' % (FoldOutput), key= 'train_9', mode='w', complib='blosc')\n",
    "    k1 = 'test_10_public'\n",
    "    DataSet[10].to_hdf(path_or_buf= '%s/%s.hdf' % (FoldOutput, k1), key= k1, mode='w', complib='blosc')"
   ]
  },
  {
   "cell_type": "code",
   "execution_count": null,
   "metadata": {
    "collapsed": true
   },
   "outputs": [],
   "source": []
  }
 ],
 "metadata": {
  "kernelspec": {
   "display_name": "Python 3",
   "language": "python",
   "name": "python3"
  },
  "language_info": {
   "codemirror_mode": {
    "name": "ipython",
    "version": 3
   },
   "file_extension": ".py",
   "mimetype": "text/x-python",
   "name": "python",
   "nbconvert_exporter": "python",
   "pygments_lexer": "ipython3",
   "version": "3.6.4"
  },
  "varInspector": {
   "cols": {
    "lenName": 16,
    "lenType": 16,
    "lenVar": 40
   },
   "kernels_config": {
    "python": {
     "delete_cmd_postfix": "",
     "delete_cmd_prefix": "del ",
     "library": "var_list.py",
     "varRefreshCmd": "print(var_dic_list())"
    },
    "r": {
     "delete_cmd_postfix": ") ",
     "delete_cmd_prefix": "rm(",
     "library": "var_list.r",
     "varRefreshCmd": "cat(var_dic_list()) "
    }
   },
   "types_to_exclude": [
    "module",
    "function",
    "builtin_function_or_method",
    "instance",
    "_Feature"
   ],
   "window_display": false
  }
 },
 "nbformat": 4,
 "nbformat_minor": 2
}
