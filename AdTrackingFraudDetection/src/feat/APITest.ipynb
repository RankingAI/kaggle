{
 "cells": [
  {
   "cell_type": "code",
   "execution_count": 25,
   "metadata": {
    "ExecuteTime": {
     "end_time": "2018-04-03T12:17:07.664039Z",
     "start_time": "2018-04-03T12:17:07.598106Z"
    }
   },
   "outputs": [
    {
     "name": "stdout",
     "output_type": "stream",
     "text": [
      "  col1 col2\n",
      "0   10   20\n",
      "1   30   40\n",
      "  col1 col2\n",
      "0   10   20\n",
      "1   30   40\n",
      "2   50   60\n",
      "3   70   80\n",
      "(array([10, 20, 30]), array([1, 1, 2, 0, 2]), array([1, 2, 2]))\n",
      "(array([10, 20, 30]), array([1, 2, 2]))\n",
      "[ 4223110  8245120 12468230] [0 1 0 2 2] [2 1 2]\n",
      "[2 1 2 2 2]\n",
      "col1    24.809524\n",
      "dtype: float64\n",
      "  col1 col2\n",
      "2   50   60\n"
     ]
    }
   ],
   "source": [
    "import pandas as pd\n",
    "import numpy as np\n",
    "\n",
    "cols = ['col1', 'col2']\n",
    "\n",
    "df = pd.DataFrame(columns= cols)\n",
    "\n",
    "df1 = pd.DataFrame(data= [[10, 20], [30, 40]], index= range(2), columns= cols)\n",
    "\n",
    "df2 = pd.DataFrame(data= [[50, 60], [70, 80]], index= range(2), columns= cols)\n",
    "\n",
    "c1 = pd.concat([df, df1], axis= 0, ignore_index= True)\n",
    "print(c1)\n",
    "\n",
    "c2 = pd.concat([c1, df2], axis= 0, ignore_index= True)\n",
    "print(c2)\n",
    "\n",
    "a = np.array([20, 20, 30, 10, 30])\n",
    "ret = np.unique(a, return_inverse= True, return_counts= True)\n",
    "print(ret)\n",
    "ret = np.unique(a, return_counts= True)\n",
    "print(ret)\n",
    "\n",
    "a = np.array([[10, 100, 1000], [20, 100, 1000], [10, 100, 1000], [30, 200, 2000], [30, 200, 2000]])\n",
    "uni, uni_index, uni_count = np.unique(np.ravel_multi_index(a.T, a.max(0) + 1), return_inverse= True, return_counts= True)\n",
    "print(uni, uni_index, uni_count)\n",
    "\n",
    "print(uni_count[uni_index])\n",
    "\n",
    "a = pd.DataFrame(data= [[1], [1], [15], [3], [2], [3], [2]], index= range(7), columns= ['col1'])\n",
    "print(a[['col1']].var())\n",
    "\n",
    "ret = c2[c2['col2'].isin([60, 70, 90])]\n",
    "print(ret)"
   ]
  },
  {
   "cell_type": "code",
   "execution_count": 23,
   "metadata": {
    "ExecuteTime": {
     "end_time": "2018-04-03T11:23:32.504208Z",
     "start_time": "2018-04-03T11:23:32.494559Z"
    }
   },
   "outputs": [
    {
     "data": {
      "text/plain": [
       "[10, 20, 30, 40]"
      ]
     },
     "execution_count": 23,
     "metadata": {},
     "output_type": "execute_result"
    }
   ],
   "source": [
    "[10, 20] + [30, 40]"
   ]
  },
  {
   "cell_type": "code",
   "execution_count": null,
   "metadata": {},
   "outputs": [],
   "source": []
  }
 ],
 "metadata": {
  "kernelspec": {
   "display_name": "Python 3",
   "language": "python",
   "name": "python3"
  },
  "language_info": {
   "codemirror_mode": {
    "name": "ipython",
    "version": 3
   },
   "file_extension": ".py",
   "mimetype": "text/x-python",
   "name": "python",
   "nbconvert_exporter": "python",
   "pygments_lexer": "ipython3",
   "version": "3.6.4"
  },
  "varInspector": {
   "cols": {
    "lenName": 16,
    "lenType": 16,
    "lenVar": 40
   },
   "kernels_config": {
    "python": {
     "delete_cmd_postfix": "",
     "delete_cmd_prefix": "del ",
     "library": "var_list.py",
     "varRefreshCmd": "print(var_dic_list())"
    },
    "r": {
     "delete_cmd_postfix": ") ",
     "delete_cmd_prefix": "rm(",
     "library": "var_list.r",
     "varRefreshCmd": "cat(var_dic_list()) "
    }
   },
   "types_to_exclude": [
    "module",
    "function",
    "builtin_function_or_method",
    "instance",
    "_Feature"
   ],
   "window_display": false
  }
 },
 "nbformat": 4,
 "nbformat_minor": 2
}
