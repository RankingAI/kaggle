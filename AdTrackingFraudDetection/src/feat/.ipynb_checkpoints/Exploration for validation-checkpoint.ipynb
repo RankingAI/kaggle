{
 "cells": [
  {
   "cell_type": "code",
   "execution_count": 2,
   "metadata": {
    "ExecuteTime": {
     "end_time": "2018-04-02T11:04:58.873067Z",
     "start_time": "2018-04-02T11:01:49.978392Z"
    }
   },
   "outputs": [
    {
     "name": "stdout",
     "output_type": "stream",
     "text": [
      "[Load raw data] done in 160 s\n",
      "[Save squeezed data] done in 29 s\n"
     ]
    }
   ],
   "source": [
    "import pandas as pd\n",
    "import numpy as np\n",
    "import os,sys,gc,time\n",
    "from datetime import datetime\n",
    "from contextlib import contextmanager\n",
    "from matplotlib.pyplot import *\n",
    "\n",
    "%matplotlib inline\n",
    "\n",
    "DataBaseDir = '../../data'\n",
    "InputDir = '%s/raw' % DataBaseDir\n",
    "OutputDir = '%s/raw' % DataBaseDir\n",
    "dtypes = {\n",
    "        'ip'            : 'uint32',\n",
    "        'app'           : 'uint16',\n",
    "        'device'        : 'uint16',\n",
    "        'os'            : 'uint16',\n",
    "        'channel'       : 'uint16',\n",
    "        'is_attributed' : 'uint8',\n",
    "        'click_id'      : 'uint32',\n",
    "        }\n",
    "feat_columns = ['click_time']\n",
    "time_columns = ['click_time']\n",
    "target = 'is_attributed'\n",
    "\n",
    "@contextmanager\n",
    "def timer(name):\n",
    "    \"\"\"\n",
    "    Taken from Konstantin Lopuhin https://www.kaggle.com/lopuhin\n",
    "    in script named : Mercari Golf: 0.3875 CV in 75 LOC, 1900 s\n",
    "    https://www.kaggle.com/lopuhin/mercari-golf-0-3875-cv-in-75-loc-1900-s\n",
    "    \"\"\"\n",
    "    t0 = time.time()\n",
    "    yield\n",
    "    print(f'[{name}] done in {time.time() - t0:.0f} s')\n",
    "# load raw data sets\n",
    "def load_raw_data():\n",
    "    with timer('Load raw data'):\n",
    "        train_columns = [target]\n",
    "        train_columns.extend(feat_columns)\n",
    "        test_columns = feat_columns.copy()\n",
    "        DataSet = {\n",
    "            'train': pd.read_csv('%s/train.csv' % InputDir, \n",
    "                                 dtype= dtypes, \n",
    "                                 usecols= train_columns, \n",
    "                                 parse_dates= time_columns),\n",
    "            'test': pd.read_csv('%s/test.csv' % InputDir, \n",
    "                                dtype= dtypes, \n",
    "                                usecols= test_columns, \n",
    "                                parse_dates= time_columns)\n",
    "        }\n",
    "    with timer('Save squeezed data'):\n",
    "        for mod in ['train', 'test']:\n",
    "            DataSet[mod]['hour'] = DataSet[mod]['click_time'].dt.hour\n",
    "            DataSet[mod]['hour'] = DataSet[mod]['hour'].astype(np.uint8)\n",
    "            DataSet[mod]['day'] = DataSet[mod]['click_time'].dt.day\n",
    "            DataSet[mod]['day'] = DataSet[mod]['day'].astype(np.uint8)\n",
    "            DataSet[mod].drop('click_time', axis= 1, inplace= True)\n",
    "            DataSet[mod].to_hdf(path_or_buf= '%s/%s_squeezed.hdf' % (OutputDir, mod),\n",
    "                                key= mod, \n",
    "                                mode='w', \n",
    "                                complib='blosc')\n",
    "    return DataSet\n",
    "# load squeezed data sets\n",
    "def load_squeezed_data():\n",
    "    with timer('Load squeezed data'):\n",
    "        DataSet = {\n",
    "            'train': pd.read_hdf(path_or_buf= '%s/train_ea_squeezed.hdf' % (OutputDir), key= 'train'),\n",
    "            'test': pd.read_hdf(path_or_buf= '%s/test_ea_squeezed.hdf' % (OutputDir), key= 'test')\n",
    "        }\n",
    "    return DataSet\n",
    "# judge squeezed data exists or not\n",
    "def squeezed_data_exists():\n",
    "    return (os.path.exists('%s/train_ea_squeezed.hdf' % OutputDir) and os.path.exists('%s/test_ea_squeezed.hdf' % OutputDir))\n",
    "\n",
    "if(squeezed_data_exists()):\n",
    "    DataSet = load_squeezed_data()\n",
    "else:\n",
    "    DataSet = load_raw_data()"
   ]
  },
  {
   "cell_type": "code",
   "execution_count": 34,
   "metadata": {
    "ExecuteTime": {
     "end_time": "2018-04-02T12:28:32.476184Z",
     "start_time": "2018-04-02T12:28:02.384351Z"
    }
   },
   "outputs": [
    {
     "name": "stdout",
     "output_type": "stream",
     "text": [
      "data size for train: \n",
      "[(6, '9.3086M'), (7, '59.6333M'), (8, '62.9451M'), (9, '53.0169M')]\n",
      "data size for test: \n",
      "[(10, '18.7905M')]\n",
      "\n",
      "Summary for train data set: \n",
      "\n",
      "day 6 \n",
      "hours  [14, 15, 16, 17, 18, 19, 20, 21, 22, 23]\n",
      "size  [48, 435, 2307777, 1263348, 738140, 496354, 409752, 509572, 1223530, 2359612]\n",
      "attribute rates  ['0.000000', '0.002299', '0.001697', '0.001774', '0.001819', '0.001982', '0.002409', '0.002426', '0.002023', '0.001785']\n",
      "\n",
      "day 7 \n",
      "hours  [0, 1, 2, 3, 4, 5, 6, 7, 8, 9, 10, 11, 12, 13, 14, 15, 16, 17, 18, 19, 20, 21, 22, 23]\n",
      "size  [3604365, 3308150, 3095633, 3220271, 3645493, 3227349, 2917284, 2924033, 2801293, 2961319, 3300746, 3134200, 3000091, 3235239, 3161797, 2864021, 2314780, 1263077, 726684, 493056, 409255, 518866, 1172535, 2333773]\n",
      "attribute rates  ['0.002294', '0.003171', '0.003547', '0.003073', '0.002283', '0.002439', '0.002594', '0.002708', '0.003079', '0.002947', '0.002478', '0.002940', '0.003062', '0.002712', '0.002215', '0.001282', '0.001655', '0.001747', '0.001968', '0.002085', '0.002341', '0.002507', '0.002237', '0.001756']\n",
      "\n",
      "day 8 \n",
      "hours  [0, 1, 2, 3, 4, 5, 6, 7, 8, 9, 10, 11, 12, 13, 14, 15, 16, 17, 18, 19, 20, 21, 22, 23]\n",
      "size  [3493769, 3065649, 3585843, 3172056, 3545132, 3160269, 2983655, 3155262, 2976057, 3068314, 3377086, 3430977, 3485357, 3616634, 3676695, 3336168, 2455567, 1387383, 794088, 554053, 447324, 550518, 1260525, 2366694]\n",
      "attribute rates  ['0.001968', '0.002909', '0.002644', '0.003122', '0.003173', '0.003105', '0.002887', '0.002805', '0.002713', '0.002496', '0.002271', '0.002509', '0.002506', '0.002224', '0.001838', '0.001391', '0.001772', '0.001795', '0.002021', '0.002251', '0.002242', '0.002469', '0.002114', '0.001991']\n",
      "\n",
      "day 9 \n",
      "hours  [0, 1, 2, 3, 4, 5, 6, 7, 8, 9, 10, 11, 12, 13, 14, 15, 16]\n",
      "size  [3318301, 3082862, 3068887, 3351149, 4032691, 3671741, 3570940, 3186240, 2804701, 2986204, 3304199, 3347741, 3363917, 3457523, 3443283, 3026111, 447]\n",
      "attribute rates  ['0.001974', '0.002737', '0.002916', '0.002704', '0.002397', '0.002409', '0.002682', '0.002788', '0.003072', '0.002793', '0.002586', '0.002458', '0.002546', '0.002598', '0.002276', '0.001612', '0.000000']\n",
      "\n",
      "Summary for test data set: \n",
      "\n",
      "day 10 \n",
      "hours  [4, 5, 6, 9, 10, 11, 13, 14, 15]\n",
      "size  [3344125, 2858427, 381, 2984808, 3127993, 413, 3212566, 3261257, 499]\n"
     ]
    }
   ],
   "source": [
    "# data size on train\n",
    "train_vc = DataSet['train']['day'].value_counts()\n",
    "train_vc = sorted([(train_vc.index[i], train_vc.values[i]) for i in range(len(train_vc))], key= lambda x: x[0])\n",
    "print('data size for train: ')\n",
    "print([(v[0], '%.4fM' % ((1.0 * v[1])/1e6)) for v in train_vc])\n",
    "# data size on test\n",
    "test_vc = DataSet['test']['day'].value_counts()\n",
    "test_vc = sorted([(test_vc.index[i], test_vc.values[i]) for i in range(len(test_vc))], key= lambda x: x[0])\n",
    "print('data size for test: ')\n",
    "print([(v[0], '%.4fM' % ((1.0 * v[1])/1e6)) for v in test_vc])\n",
    "# data size and attribute rate on train by hour\n",
    "print('\\nSummary for train data set: ')\n",
    "summary_dict = {}\n",
    "for i in range(len(train_vc)):\n",
    "    d = train_vc[i][0]\n",
    "    summary_dict[d] = {}\n",
    "    day_df_groupped = DataSet['train'][DataSet['train']['day'] == d].groupby(['hour'])\n",
    "    for h in day_df_groupped.groups:\n",
    "        h_df = day_df_groupped.get_group(h)\n",
    "        total_size = len(h_df)\n",
    "        attribute_rate = format((1.0 * h_df[target].sum())/total_size, '.6f')\n",
    "        summary_dict[d][h] = {}\n",
    "        summary_dict[d][h]['size'] = total_size\n",
    "        summary_dict[d][h]['attr_rate'] = attribute_rate\n",
    "for d in summary_dict.keys():\n",
    "    print('\\nday %s ' % d)\n",
    "    print('hours ', list(summary_dict[d].keys()))\n",
    "    print('size ', [v['size'] for v in summary_dict[d].values()])\n",
    "    print('attribute rates ', [v['attr_rate'] for v in summary_dict[d].values()])\n",
    "# data size on test by hour\n",
    "print('\\nSummary for test data set: ')\n",
    "summary_dict = {}\n",
    "for i in range(len(test_vc)):\n",
    "    d = test_vc[i][0]\n",
    "    summary_dict[d] = {}\n",
    "    day_df_groupped = DataSet['test'][DataSet['test']['day'] == d].groupby(['hour'])\n",
    "    for h in day_df_groupped.groups:\n",
    "        h_df = day_df_groupped.get_group(h)\n",
    "        total_size = len(h_df)\n",
    "        summary_dict[d][h] = {}\n",
    "        summary_dict[d][h]['size'] = total_size\n",
    "for d in summary_dict.keys():\n",
    "    print('\\nday %s ' % d)\n",
    "    print('hours ', list(summary_dict[d].keys()))\n",
    "    print('size ', [v['size'] for v in summary_dict[d].values()])"
   ]
  },
  {
   "cell_type": "code",
   "execution_count": 22,
   "metadata": {
    "ExecuteTime": {
     "end_time": "2018-04-02T11:42:48.746679Z",
     "start_time": "2018-04-02T11:42:46.237444Z"
    }
   },
   "outputs": [
    {
     "data": {
      "image/png": "[encoded data removed]",
      "text/plain": [
       "<Figure size 360x720 with 2 Axes>"
      ]
     },
     "metadata": {},
     "output_type": "display_data"
    },
    {
     "data": {
      "text/plain": [
       "<Figure size 360x720 with 0 Axes>"
      ]
     },
     "metadata": {},
     "output_type": "display_data"
    }
   ],
   "source": [
    "## visualization\n",
    "# subplots_adjust(left= 0.125, bottom= 0.6, right= 0.2, top= 0.9, wspace= 0.2, hspace= 0.2)\n",
    "subplots_adjust(left= 0.1, right= 0.9, bottom= 0.1, top= 0.9, wspace = 0.4, hspace= 0.4)\n",
    "\n",
    "vc = DataSet['train']['day'].value_counts()\n",
    "vc = sorted([(vc.index[i], vc.values[i]) for i in range(len(vc))], key= lambda x: x[0])\n",
    "x = [v[0] for v in vc]\n",
    "y = [v[1] for v in vc]\n",
    "subplot(121)\n",
    "bar(x, y)\n",
    "title('data size of train by day', y= 1.04)\n",
    "vc = DataSet['test']['day'].value_counts()\n",
    "vc = sorted([(vc.index[i], vc.values[i]) for i in range(len(vc))], key= lambda x: x[0])\n",
    "x = [v[0] for v in vc]\n",
    "y = [v[1] for v in vc]\n",
    "subplot(122)\n",
    "bar(x, y)\n",
    "title('data size of test by day', y= 1.04)\n",
    "show()\n",
    "savefig('%s/data_size_by_day.jpg' % OutputDir)"
   ]
  },
  {
   "cell_type": "code",
   "execution_count": null,
   "metadata": {},
   "outputs": [],
   "source": []
  }
 ],
 "metadata": {
  "kernelspec": {
   "display_name": "Python 3",
   "language": "python",
   "name": "python3"
  },
  "language_info": {
   "codemirror_mode": {
    "name": "ipython",
    "version": 3
   },
   "file_extension": ".py",
   "mimetype": "text/x-python",
   "name": "python",
   "nbconvert_exporter": "python",
   "pygments_lexer": "ipython3",
   "version": "3.6.4"
  },
  "varInspector": {
   "cols": {
    "lenName": 16,
    "lenType": 16,
    "lenVar": 40
   },
   "kernels_config": {
    "python": {
     "delete_cmd_postfix": "",
     "delete_cmd_prefix": "del ",
     "library": "var_list.py",
     "varRefreshCmd": "print(var_dic_list())"
    },
    "r": {
     "delete_cmd_postfix": ") ",
     "delete_cmd_prefix": "rm(",
     "library": "var_list.r",
     "varRefreshCmd": "cat(var_dic_list()) "
    }
   },
   "types_to_exclude": [
    "module",
    "function",
    "builtin_function_or_method",
    "instance",
    "_Feature"
   ],
   "window_display": false
  }
 },
 "nbformat": 4,
 "nbformat_minor": 2
}
